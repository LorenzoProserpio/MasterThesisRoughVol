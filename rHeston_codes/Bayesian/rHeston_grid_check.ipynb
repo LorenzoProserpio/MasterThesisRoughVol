{
 "cells": [
  {
   "cell_type": "code",
   "execution_count": 1,
   "id": "43a1283a",
   "metadata": {},
   "outputs": [],
   "source": [
    "import rHeston\n",
    "import BlackScholes as bs\n",
    "import pandas as pd\n",
    "import numpy as np\n",
    "import datetime\n",
    "import matplotlib.pyplot as plt\n",
    "import ImpliedDrift as iD\n",
    "import time\n",
    "\n",
    "from matplotlib import cm"
   ]
  },
  {
   "cell_type": "code",
   "execution_count": 2,
   "id": "a992e3ef",
   "metadata": {},
   "outputs": [],
   "source": [
    "# Read the dataset\n",
    "dates = np.array([\"23_01_23.csv\", \"24_01_23.csv\", \"25_01_23.csv\", \"26_01_23.csv\", \"27_01_23.csv\",\n",
    "                  \"30_01_23.csv\", \"06_02_23.csv\", \"13_02_23.csv\", \"21_02_23.csv\"])\n",
    "\n",
    "spot = np.array(pd.read_csv(\"spot.csv\").Spot).flatten()\n",
    "moneyness = np.array([80.0,90.0,95.0,97.5,100.0,102.5,105.0,110.0,120.0])\n",
    "\n",
    "index = 0\n",
    "data = pd.read_csv(dates[index]); S0 = spot[index];\n",
    "K = S0 * moneyness / 100\n",
    "\n",
    "if index:\n",
    "    maturities = np.array(data.Tenor).flatten()\n",
    "    IV = np.array(data.drop(columns = ['Date', 'Tenor']))/100.\n",
    "\n",
    "else:\n",
    "    maturities = np.array(data['Exp Date']).flatten()\n",
    "    IV = np.array(data.drop(columns = 'Exp Date'))/100.\n",
    "    \n",
    "\n",
    "maturities = maturities[maturities*365 <= 180]\n",
    "    \n",
    "nr = len(maturities); nc = len(K);\n",
    "\n",
    "IV = IV[:nr]\n",
    "\n",
    "param = np.array(pd.read_csv(\"rHeston_data.csv\"))"
   ]
  },
  {
   "cell_type": "code",
   "execution_count": 3,
   "id": "b15c12ee",
   "metadata": {},
   "outputs": [],
   "source": [
    "r = iD.r(maturities, index); q = iD.q(maturities, index);\n",
    "options_type = np.ones(nc)\n",
    "\n",
    "def f(prms):\n",
    "    rho, theta, H = prms\n",
    "    iv = np.zeros([nr, nc])   \n",
    "    \n",
    "    for i in range(nr):\n",
    "        iv[i] = rHeston.analytic_rhest(S0, K, maturities[i], H, rho, theta, options_type)\n",
    "        iv[i] = bs.BSImpliedVol(S0, K, maturities[i], r[i], q[i], iv[i], Option_type = 1, toll = 1e-5)\n",
    "    \n",
    "    return np.mean(abs(IV-iv)/IV)*100, iv"
   ]
  },
  {
   "cell_type": "code",
   "execution_count": 4,
   "id": "ae85d690",
   "metadata": {},
   "outputs": [
    {
     "name": "stdout",
     "output_type": "stream",
     "text": [
      "1.07 s ± 31.6 ms per loop (mean ± std. dev. of 7 runs, 1 loop each)\n"
     ]
    }
   ],
   "source": [
    "%%timeit\n",
    "f(param[0])"
   ]
  },
  {
   "cell_type": "code",
   "execution_count": 5,
   "id": "c6a45e3e",
   "metadata": {},
   "outputs": [
    {
     "name": "stdout",
     "output_type": "stream",
     "text": [
      "Iteration progress:  1.25%\n",
      "Iteration progress:  2.50%\n",
      "Iteration progress:  3.75%\n",
      "Iteration progress:  5.00%\n",
      "Iteration progress:  6.25%\n",
      "Iteration progress:  7.50%\n",
      "Iteration progress:  8.75%\n",
      "Iteration progress:  10.00%\n",
      "Iteration progress:  11.25%\n",
      "Iteration progress:  12.50%\n",
      "Iteration progress:  13.75%\n",
      "Iteration progress:  15.00%\n",
      "Iteration progress:  16.25%\n",
      "Iteration progress:  17.50%\n",
      "Iteration progress:  18.75%\n",
      "Iteration progress:  20.00%\n",
      "Iteration progress:  21.25%\n",
      "Iteration progress:  22.50%\n",
      "Iteration progress:  23.75%\n",
      "Iteration progress:  25.00%\n",
      "Iteration progress:  26.25%\n",
      "Iteration progress:  27.50%\n",
      "Iteration progress:  28.75%\n",
      "Iteration progress:  30.00%\n",
      "Iteration progress:  31.25%\n",
      "Iteration progress:  32.50%\n",
      "Iteration progress:  33.75%\n",
      "Iteration progress:  35.00%\n",
      "Iteration progress:  36.25%\n",
      "Iteration progress:  37.50%\n",
      "Iteration progress:  38.75%\n",
      "Iteration progress:  40.00%\n",
      "Iteration progress:  41.25%\n",
      "Iteration progress:  42.50%\n",
      "Iteration progress:  43.75%\n",
      "Iteration progress:  45.00%\n",
      "Iteration progress:  46.25%\n",
      "Iteration progress:  47.50%\n",
      "Iteration progress:  48.75%\n",
      "Iteration progress:  50.00%\n",
      "Iteration progress:  51.25%\n",
      "Iteration progress:  52.50%\n",
      "Iteration progress:  53.75%\n",
      "Iteration progress:  55.00%\n",
      "Iteration progress:  56.25%\n",
      "Iteration progress:  57.50%\n",
      "Iteration progress:  58.75%\n",
      "Iteration progress:  60.00%\n",
      "Iteration progress:  61.25%\n",
      "Iteration progress:  62.50%\n",
      "Iteration progress:  63.75%\n",
      "Iteration progress:  65.00%\n",
      "Iteration progress:  66.25%\n",
      "Iteration progress:  67.50%\n",
      "Iteration progress:  68.75%\n",
      "Iteration progress:  70.00%\n",
      "Iteration progress:  71.25%\n",
      "Iteration progress:  72.50%\n",
      "Iteration progress:  73.75%\n",
      "Iteration progress:  75.00%\n",
      "Iteration progress:  76.25%\n",
      "Iteration progress:  77.50%\n",
      "Iteration progress:  78.75%\n",
      "Iteration progress:  80.00%\n",
      "Iteration progress:  81.25%\n",
      "Iteration progress:  82.50%\n",
      "Iteration progress:  83.75%\n",
      "Iteration progress:  85.00%\n",
      "Iteration progress:  86.25%\n",
      "Iteration progress:  87.50%\n",
      "Iteration progress:  88.75%\n",
      "Iteration progress:  90.00%\n",
      "Iteration progress:  91.25%\n",
      "Iteration progress:  92.50%\n",
      "Iteration progress:  93.75%\n",
      "Iteration progress:  95.00%\n",
      "Iteration progress:  96.25%\n",
      "Iteration progress:  97.50%\n",
      "Iteration progress:  98.75%\n",
      "Iteration progress:  100.00%\n",
      "\n",
      "Elapsed time:  9602.16s\n"
     ]
    }
   ],
   "source": [
    "t = time.time()\n",
    "iv_list = list()\n",
    "length = len(param); err = np.zeros(length);\n",
    "\n",
    "for i in range(length):\n",
    "    err[i], aux = f(param[i])\n",
    "    iv_list.append(aux)\n",
    "    if (i+1)%100 == 0:\n",
    "        print(f\"Iteration progress: {(i+1)/length*100: .2f}%\")\n",
    "    \n",
    "print(f\"\\nElapsed time: {time.time()-t: .2f}s\")"
   ]
  },
  {
   "cell_type": "code",
   "execution_count": 6,
   "id": "b00558c3",
   "metadata": {},
   "outputs": [
    {
     "data": {
      "text/plain": [
       "1.9191016120020916"
      ]
     },
     "execution_count": 6,
     "metadata": {},
     "output_type": "execute_result"
    }
   ],
   "source": [
    "err.min()"
   ]
  },
  {
   "cell_type": "code",
   "execution_count": 8,
   "id": "fe89e95c",
   "metadata": {},
   "outputs": [
    {
     "data": {
      "text/plain": [
       "18.255056533653956"
      ]
     },
     "execution_count": 8,
     "metadata": {},
     "output_type": "execute_result"
    }
   ],
   "source": [
    "err.max()"
   ]
  },
  {
   "cell_type": "code",
   "execution_count": 9,
   "id": "d4db9be4",
   "metadata": {},
   "outputs": [
    {
     "data": {
      "text/plain": [
       "3.6416046368506314"
      ]
     },
     "execution_count": 9,
     "metadata": {},
     "output_type": "execute_result"
    }
   ],
   "source": [
    "err.mean()"
   ]
  },
  {
   "cell_type": "code",
   "execution_count": 10,
   "id": "bd870894",
   "metadata": {},
   "outputs": [
    {
     "data": {
      "text/plain": [
       "1.6019668075005524"
      ]
     },
     "execution_count": 10,
     "metadata": {},
     "output_type": "execute_result"
    }
   ],
   "source": [
    "err.std()"
   ]
  },
  {
   "cell_type": "code",
   "execution_count": 11,
   "id": "cdc76da7",
   "metadata": {},
   "outputs": [
    {
     "data": {
      "text/plain": [
       "2.5662976523335117"
      ]
     },
     "execution_count": 11,
     "metadata": {},
     "output_type": "execute_result"
    }
   ],
   "source": [
    "err.var()"
   ]
  },
  {
   "cell_type": "code",
   "execution_count": 12,
   "id": "f4dbfc23",
   "metadata": {},
   "outputs": [
    {
     "data": {
      "text/plain": [
       "array([-0.69375051,  0.49382334,  0.27394262])"
      ]
     },
     "execution_count": 12,
     "metadata": {},
     "output_type": "execute_result"
    }
   ],
   "source": [
    "param[np.argmin(err)]"
   ]
  },
  {
   "cell_type": "code",
   "execution_count": 13,
   "id": "34c3e6d7",
   "metadata": {},
   "outputs": [],
   "source": [
    "df = pd.DataFrame(err, columns = [\"Error\"])\n",
    "df.to_csv(\"grid_error.csv\", index = False)"
   ]
  },
  {
   "cell_type": "code",
   "execution_count": 14,
   "id": "bef48b9d",
   "metadata": {},
   "outputs": [],
   "source": [
    "iv = np.zeros([length, len(iv_list[0].flatten())])\n",
    "\n",
    "for i in range(length):\n",
    "    iv[i] = iv_list[i].flatten()"
   ]
  },
  {
   "cell_type": "code",
   "execution_count": 15,
   "id": "dd4877ae",
   "metadata": {},
   "outputs": [],
   "source": [
    "db = pd.DataFrame(iv)\n",
    "db.to_csv(\"grid_iv.csv\", index = False)"
   ]
  }
 ],
 "metadata": {
  "kernelspec": {
   "display_name": "Python 3 (ipykernel)",
   "language": "python",
   "name": "python3"
  },
  "language_info": {
   "codemirror_mode": {
    "name": "ipython",
    "version": 3
   },
   "file_extension": ".py",
   "mimetype": "text/x-python",
   "name": "python",
   "nbconvert_exporter": "python",
   "pygments_lexer": "ipython3",
   "version": "3.9.7"
  }
 },
 "nbformat": 4,
 "nbformat_minor": 5
}
