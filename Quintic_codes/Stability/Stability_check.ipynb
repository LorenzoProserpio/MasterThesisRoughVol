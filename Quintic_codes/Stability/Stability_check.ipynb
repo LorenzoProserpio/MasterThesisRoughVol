{
 "cells": [
  {
   "cell_type": "code",
   "execution_count": 1,
   "id": "d2fb9c42",
   "metadata": {},
   "outputs": [],
   "source": [
    "import numpy as np\n",
    "import matplotlib.pyplot as plt\n",
    "import pandas as pd\n",
    "import BlackScholes as bs\n",
    "import ImpliedDrift as iD\n",
    "import time\n",
    "import Quintic\n",
    "\n",
    "from matplotlib import cm"
   ]
  },
  {
   "cell_type": "code",
   "execution_count": 2,
   "id": "298bd7f9",
   "metadata": {},
   "outputs": [],
   "source": [
    "dates = np.array([\"24_01_23.csv\", \"25_01_23.csv\", \"26_01_23.csv\", \"27_01_23.csv\",\n",
    "                  \"30_01_23.csv\", \"06_02_23.csv\", \"13_02_23.csv\", \"21_02_23.csv\"])\n",
    "\n",
    "spot = np.array(pd.read_csv(\"spot.csv\").Spot).flatten()\n",
    "\n",
    "rho, H, eps, a0, a1, a3, a5 = np.array(pd.read_csv(\"quintic_stability_parameters.csv\").iloc[0])\n",
    "a_k = np.array([a0, a1, a3, a5])\n",
    "\n",
    "moneyness = np.array([80.0,90.0,95.0,97.5,100.0,102.5,105.0,110.0,120.0])"
   ]
  },
  {
   "cell_type": "code",
   "execution_count": 3,
   "id": "27426d1a",
   "metadata": {
    "scrolled": false
   },
   "outputs": [
    {
     "name": "stdout",
     "output_type": "stream",
     "text": [
      "Execution time:  58.93s\n",
      "Relative mean error: 2.2226%\n",
      "\n",
      "Execution time:  45.36s\n",
      "Relative mean error: 2.7234%\n",
      "\n",
      "Execution time:  40.26s\n",
      "Relative mean error: 2.9135%\n",
      "\n",
      "Execution time:  39.67s\n",
      "Relative mean error: 2.3555%\n",
      "\n",
      "Execution time:  47.09s\n",
      "Relative mean error: 2.3735%\n",
      "\n",
      "Execution time:  44.64s\n",
      "Relative mean error: 2.2389%\n",
      "\n",
      "Execution time:  46.18s\n",
      "Relative mean error: 2.5612%\n",
      "\n",
      "Execution time:  43.74s\n",
      "Relative mean error: 3.8596%\n",
      "\n"
     ]
    }
   ],
   "source": [
    "nr = 30; n_dates = len(dates); nc = len(moneyness);\n",
    "err = np.zeros(n_dates); N = 12500; n = 3650;\n",
    "\n",
    "for i in range(n_dates):\n",
    "    \n",
    "    iv = np.zeros([nr,nc])\n",
    "    \n",
    "    data = pd.read_csv(dates[i])\n",
    "    maturities = np.array(data['Tenor']).flatten()\n",
    "    IV = np.array(data.drop(columns = ['Date','Tenor']))/100.\n",
    "    \n",
    "    index = i + 1\n",
    "    \n",
    "    S0 = spot[index]; K = moneyness*S0/100;\n",
    "\n",
    "    t = time.time()\n",
    "    \n",
    "    np.random.seed(index)\n",
    "    w = np.concatenate((np.zeros([1,N*2]), Quintic.dW(n, N)))\n",
    "    \n",
    "    T = maturities[-1]; steps = np.ceil(n*maturities/T).astype(int)\n",
    "\n",
    "    P = Quintic.global_reduction(rho, H, eps, T, a_k, S0, K, n, N, w, steps, maturities, index)\n",
    "\n",
    "    for j in range(nr):\n",
    "        T_aux = maturities[j]\n",
    "        r = iD.r(T_aux, index); q = iD.q(T_aux, index);\n",
    "        iv[j,:] = bs.BSImpliedVol(S0, K, T_aux, r, q, P[j], Option_type = 1, toll = 1e-5)\n",
    "\n",
    "    print(f'Execution time: {time.time()-t: .2f}s')\n",
    "\n",
    "    err[i] = np.mean(abs(IV-iv)/IV)*100\n",
    "\n",
    "    print(f\"Relative mean error: {err[i]:.4f}%\\n\")"
   ]
  },
  {
   "cell_type": "code",
   "execution_count": 13,
   "id": "8b9c3473",
   "metadata": {},
   "outputs": [
    {
     "data": {
      "text/plain": [
       "Text(0.5, 1.0, 'Mean percentage error comparison')"
      ]
     },
     "execution_count": 13,
     "metadata": {},
     "output_type": "execute_result"
    },
    {
     "data": {
      "image/png": "[encoded data removed]",
      "text/plain": [
       "<Figure size 1000x500 with 1 Axes>"
      ]
     },
     "metadata": {},
     "output_type": "display_data"
    }
   ],
   "source": [
    "fig = plt.figure()\n",
    "fig.set_figheight(5)\n",
    "fig.set_figwidth(10)\n",
    "\n",
    "best_err = np.array([2.18334018, 1.72959356, 2.06420429, 2.24294165, 2.1601649 , 1.90846828, 2.16632274, 3.40996862])\n",
    "plt.plot(np.array([\"24/01\", \"25/01\", \"26/01\", \"27/01\", \"30/01\", \"06/02\", \"13/02\", \"21/02\"]), best_err, 'bo')\n",
    "plt.plot(np.array([\"24/01\", \"25/01\", \"26/01\", \"27/01\", \"30/01\", \"06/02\", \"13/02\", \"21/02\"]), err, 'rx')\n",
    "plt.legend([\"Benchmark\"])\n",
    "plt.title(\"Mean percentage error comparison\")"
   ]
  },
  {
   "cell_type": "code",
   "execution_count": 5,
   "id": "0b07e4c7",
   "metadata": {},
   "outputs": [
    {
     "data": {
      "text/plain": [
       "array([2.22258164, 2.72339899, 2.91347479, 2.35551225, 2.37351962,\n",
       "       2.23893364, 2.56115475, 3.85958783])"
      ]
     },
     "execution_count": 5,
     "metadata": {},
     "output_type": "execute_result"
    }
   ],
   "source": [
    "err"
   ]
  }
 ],
 "metadata": {
  "kernelspec": {
   "display_name": "Python 3 (ipykernel)",
   "language": "python",
   "name": "python3"
  },
  "language_info": {
   "codemirror_mode": {
    "name": "ipython",
    "version": 3
   },
   "file_extension": ".py",
   "mimetype": "text/x-python",
   "name": "python",
   "nbconvert_exporter": "python",
   "pygments_lexer": "ipython3",
   "version": "3.9.7"
  }
 },
 "nbformat": 4,
 "nbformat_minor": 5
}
