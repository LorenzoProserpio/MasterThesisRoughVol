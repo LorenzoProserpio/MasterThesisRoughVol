{
 "cells": [
  {
   "cell_type": "code",
   "execution_count": 1,
   "id": "30a2d9b4",
   "metadata": {},
   "outputs": [],
   "source": [
    "import BlackScholes as bs\n",
    "import arviz as az\n",
    "import pandas as pd\n",
    "import numpy as np\n",
    "import matplotlib.pyplot as plt\n",
    "import ImpliedDrift as iD\n",
    "import time\n",
    "import variance_curve as vc\n",
    "import Quintic"
   ]
  },
  {
   "cell_type": "code",
   "execution_count": 2,
   "id": "5104fe97",
   "metadata": {},
   "outputs": [],
   "source": [
    "dates = np.array([\"23_01_23.csv\", \"24_01_23.csv\", \"25_01_23.csv\", \"26_01_23.csv\", \"27_01_23.csv\",\n",
    "                  \"30_01_23.csv\", \"06_02_23.csv\", \"13_02_23.csv\", \"21_02_23.csv\"])\n",
    "\n",
    "spot = np.array(pd.read_csv(\"spot.csv\").Spot).flatten()\n",
    "\n",
    "moneyness = np.array([80.0,90.0,95.0,97.5,100.0,102.5,105.0,110.0,120.0])\n",
    "\n",
    "index = 0\n",
    "\n",
    "parameters = pd.read_csv(\"quintic_parameters_bayesian2.csv\")\n",
    "rho,H,eps,a0,a1,a3,a5 = np.array(parameters.iloc[index])\n",
    "a_k = np.array([a0,a1,a3,a5])\n",
    "\n",
    "data = pd.read_csv(dates[index]); S0 = spot[index];\n",
    "K = S0 * moneyness / 100\n",
    "\n",
    "if index:\n",
    "    maturities = np.array(data.Tenor).flatten()\n",
    "    IV = np.array(data.drop(columns = ['Date', 'Tenor']))/100.\n",
    "\n",
    "else:\n",
    "    maturities = np.array(data['Exp Date']).flatten()\n",
    "    IV = np.array(data.drop(columns = 'Exp Date'))/100.\n",
    "    \n",
    "IV = IV[maturities <= 180/365]\n",
    "maturities = maturities[maturities <= 180/365]\n",
    "\n",
    "param = np.array(pd.read_csv(\"bayesian_data.csv\"))"
   ]
  },
  {
   "cell_type": "code",
   "execution_count": 3,
   "id": "0d983148",
   "metadata": {},
   "outputs": [],
   "source": [
    "nr = len(maturities); nc = len(K)\n",
    "N = 15000; n = 180;\n",
    "T = maturities[-1]; steps = np.ceil(n*maturities/T).astype(int);\n",
    "\n",
    "np.random.seed(index)\n",
    "w = np.concatenate((np.zeros([1,N*2]), Quintic.dW(n, N)))\n",
    "r = iD.r(maturities, index); q = iD.q(maturities, index);"
   ]
  },
  {
   "cell_type": "code",
   "execution_count": 4,
   "id": "fde3bde9",
   "metadata": {},
   "outputs": [],
   "source": [
    "def f(x):\n",
    "    iv = np.zeros([nr,nc])\n",
    "    rho,H,eps = x\n",
    "    P = Quintic.global_reduction(rho, H, eps, T, a_k, S0, K, n, N, w, steps, maturities, index)\n",
    "    \n",
    "    for i in range(nr):\n",
    "        iv[i] = bs.BSImpliedVol(S0, K, maturities[i], r[i], q[i], P[i], Option_type = 1, toll = 1e-5)\n",
    "    \n",
    "    return np.mean(abs(IV-iv)/IV)*100, iv"
   ]
  },
  {
   "cell_type": "code",
   "execution_count": 5,
   "id": "d3a3fae7",
   "metadata": {},
   "outputs": [
    {
     "name": "stdout",
     "output_type": "stream",
     "text": [
      "1.87 s ± 97.3 ms per loop (mean ± std. dev. of 7 runs, 1 loop each)\n"
     ]
    }
   ],
   "source": [
    "%%timeit\n",
    "f(np.array([-0.8, 0.1, 0.01]))"
   ]
  },
  {
   "cell_type": "code",
   "execution_count": 6,
   "id": "3d64dc50",
   "metadata": {},
   "outputs": [
    {
     "name": "stdout",
     "output_type": "stream",
     "text": [
      "Iteration progress:  1.25%\n",
      "Iteration progress:  2.50%\n",
      "Iteration progress:  3.75%\n",
      "Iteration progress:  5.00%\n",
      "Iteration progress:  6.25%\n",
      "Iteration progress:  7.50%\n",
      "Iteration progress:  8.75%\n",
      "Iteration progress:  10.00%\n",
      "Iteration progress:  11.25%\n",
      "Iteration progress:  12.50%\n",
      "Iteration progress:  13.75%\n",
      "Iteration progress:  15.00%\n",
      "Iteration progress:  16.25%\n",
      "Iteration progress:  17.50%\n",
      "Iteration progress:  18.75%\n",
      "Iteration progress:  20.00%\n",
      "Iteration progress:  21.25%\n",
      "Iteration progress:  22.50%\n",
      "Iteration progress:  23.75%\n",
      "Iteration progress:  25.00%\n",
      "Iteration progress:  26.25%\n",
      "Iteration progress:  27.50%\n",
      "Iteration progress:  28.75%\n",
      "Iteration progress:  30.00%\n",
      "Iteration progress:  31.25%\n",
      "Iteration progress:  32.50%\n",
      "Iteration progress:  33.75%\n",
      "Iteration progress:  35.00%\n",
      "Iteration progress:  36.25%\n",
      "Iteration progress:  37.50%\n",
      "Iteration progress:  38.75%\n",
      "Iteration progress:  40.00%\n",
      "Iteration progress:  41.25%\n",
      "Iteration progress:  42.50%\n",
      "Iteration progress:  43.75%\n",
      "Iteration progress:  45.00%\n",
      "Iteration progress:  46.25%\n",
      "Iteration progress:  47.50%\n",
      "Iteration progress:  48.75%\n",
      "Iteration progress:  50.00%\n",
      "Iteration progress:  51.25%\n",
      "Iteration progress:  52.50%\n",
      "Iteration progress:  53.75%\n",
      "Iteration progress:  55.00%\n",
      "Iteration progress:  56.25%\n",
      "Iteration progress:  57.50%\n",
      "Iteration progress:  58.75%\n",
      "Iteration progress:  60.00%\n",
      "Iteration progress:  61.25%\n",
      "Iteration progress:  62.50%\n",
      "Iteration progress:  63.75%\n",
      "Iteration progress:  65.00%\n",
      "Iteration progress:  66.25%\n",
      "Iteration progress:  67.50%\n",
      "Iteration progress:  68.75%\n",
      "Iteration progress:  70.00%\n",
      "Iteration progress:  71.25%\n",
      "Iteration progress:  72.50%\n",
      "Iteration progress:  73.75%\n",
      "Iteration progress:  75.00%\n",
      "Iteration progress:  76.25%\n",
      "Iteration progress:  77.50%\n",
      "Iteration progress:  78.75%\n",
      "Iteration progress:  80.00%\n",
      "Iteration progress:  81.25%\n",
      "Iteration progress:  82.50%\n",
      "Iteration progress:  83.75%\n",
      "Iteration progress:  85.00%\n",
      "Iteration progress:  86.25%\n",
      "Iteration progress:  87.50%\n",
      "Iteration progress:  88.75%\n",
      "Iteration progress:  90.00%\n",
      "Iteration progress:  91.25%\n",
      "Iteration progress:  92.50%\n",
      "Iteration progress:  93.75%\n",
      "Iteration progress:  95.00%\n",
      "Iteration progress:  96.25%\n",
      "Iteration progress:  97.50%\n",
      "Iteration progress:  98.75%\n",
      "Iteration progress:  100.00%\n",
      "\n",
      "Elapsed time:  13904.56s\n"
     ]
    }
   ],
   "source": [
    "t = time.time()\n",
    "iv_list = list()\n",
    "length = len(param); err = np.zeros(length);\n",
    "\n",
    "for i in range(length):\n",
    "    err[i], aux = f(param[i])\n",
    "    iv_list.append(aux)\n",
    "    if (i+1)%100 == 0:\n",
    "        print(f\"Iteration progress: {(i+1)/length*100: .2f}%\")\n",
    "    \n",
    "print(f\"\\nElapsed time: {time.time()-t: .2f}s\")"
   ]
  },
  {
   "cell_type": "code",
   "execution_count": 7,
   "id": "3b491d0c",
   "metadata": {},
   "outputs": [
    {
     "data": {
      "text/plain": [
       "2.084712018867645"
      ]
     },
     "execution_count": 7,
     "metadata": {},
     "output_type": "execute_result"
    }
   ],
   "source": [
    "err.min()"
   ]
  },
  {
   "cell_type": "code",
   "execution_count": 8,
   "id": "015a0295",
   "metadata": {},
   "outputs": [
    {
     "data": {
      "text/plain": [
       "8.784280453841928"
      ]
     },
     "execution_count": 8,
     "metadata": {},
     "output_type": "execute_result"
    }
   ],
   "source": [
    "err.max()"
   ]
  },
  {
   "cell_type": "code",
   "execution_count": 9,
   "id": "c997c3a7",
   "metadata": {},
   "outputs": [
    {
     "data": {
      "text/plain": [
       "3.6686599798943527"
      ]
     },
     "execution_count": 9,
     "metadata": {},
     "output_type": "execute_result"
    }
   ],
   "source": [
    "err.mean()"
   ]
  },
  {
   "cell_type": "code",
   "execution_count": 10,
   "id": "e7d07e6b",
   "metadata": {},
   "outputs": [
    {
     "data": {
      "text/plain": [
       "0.9051242894160663"
      ]
     },
     "execution_count": 10,
     "metadata": {},
     "output_type": "execute_result"
    }
   ],
   "source": [
    "err.std()"
   ]
  },
  {
   "cell_type": "code",
   "execution_count": 11,
   "id": "b9546df3",
   "metadata": {},
   "outputs": [
    {
     "data": {
      "text/plain": [
       "0.8192499792909388"
      ]
     },
     "execution_count": 11,
     "metadata": {},
     "output_type": "execute_result"
    }
   ],
   "source": [
    "err.var()"
   ]
  },
  {
   "cell_type": "code",
   "execution_count": 12,
   "id": "ba88b15d",
   "metadata": {},
   "outputs": [
    {
     "data": {
      "text/plain": [
       "array([-0.90743533,  0.00125434,  0.03239357])"
      ]
     },
     "execution_count": 12,
     "metadata": {},
     "output_type": "execute_result"
    }
   ],
   "source": [
    "param[np.argmin(err)]"
   ]
  },
  {
   "cell_type": "code",
   "execution_count": 13,
   "id": "0f776a37",
   "metadata": {},
   "outputs": [],
   "source": [
    "df = pd.DataFrame(err, columns = [\"Error\"])\n",
    "df.to_csv(\"grid_error.csv\", index = False)"
   ]
  },
  {
   "cell_type": "code",
   "execution_count": 14,
   "id": "c21a69e0",
   "metadata": {},
   "outputs": [],
   "source": [
    "iv = np.zeros([length, len(iv_list[0].flatten())])\n",
    "\n",
    "for i in range(length):\n",
    "    iv[i] = iv_list[i].flatten()"
   ]
  },
  {
   "cell_type": "code",
   "execution_count": 15,
   "id": "30ce5521",
   "metadata": {},
   "outputs": [],
   "source": [
    "db = pd.DataFrame(iv)\n",
    "db.to_csv(\"grid_iv.csv\", index = False)"
   ]
  }
 ],
 "metadata": {
  "kernelspec": {
   "display_name": "Python 3 (ipykernel)",
   "language": "python",
   "name": "python3"
  },
  "language_info": {
   "codemirror_mode": {
    "name": "ipython",
    "version": 3
   },
   "file_extension": ".py",
   "mimetype": "text/x-python",
   "name": "python",
   "nbconvert_exporter": "python",
   "pygments_lexer": "ipython3",
   "version": "3.9.7"
  }
 },
 "nbformat": 4,
 "nbformat_minor": 5
}
