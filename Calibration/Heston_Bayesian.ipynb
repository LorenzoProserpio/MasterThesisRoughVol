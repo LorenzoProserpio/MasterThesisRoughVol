{
 "cells": [
  {
   "cell_type": "code",
   "execution_count": 1,
   "id": "31534a09",
   "metadata": {},
   "outputs": [],
   "source": [
    "import Heston\n",
    "import BlackScholes\n",
    "import ImpliedDrift\n",
    "\n",
    "import QuantLib as ql\n",
    "import pandas as pd\n",
    "import numpy as np\n",
    "import copy\n",
    "\n",
    "import datetime\n",
    "import matplotlib.pyplot as plt\n",
    "from matplotlib import cm\n",
    "\n",
    "import time"
   ]
  },
  {
   "cell_type": "code",
   "execution_count": 4,
   "id": "00836b86",
   "metadata": {},
   "outputs": [],
   "source": [
    "# Read the dataset\n",
    "\n",
    "IV_df = pd.read_csv(\"hist_spx.csv\")\n",
    "moneyness = np.array([80.0,90.0,95.0,97.5,100.0,102.5,105.0,110.0,120.0])\n",
    "maturities = np.array(IV_df['Exp Date']).flatten()\n",
    "\n",
    "# Fix the calendar and the date for calculation\n",
    "\n",
    "day_count = ql.Actual365Fixed()\n",
    "calendar = ql.UnitedStates()\n",
    "calculation_date = ql.Date(23, 1, 2023)\n",
    "ql.Settings.instance().evaluationDate = calculation_date\n",
    "\n",
    "# Define spot and strikes\n",
    "\n",
    "spot = 4017.8\n",
    "strikes = moneyness*spot/100\n",
    "data = np.array(IV_df.drop(columns = 'Exp Date'))/100.\n",
    "\n",
    "# Calculate the expiration dates and the Implied Drift\n",
    "\n",
    "expiration_dates = list()\n",
    "\n",
    "for j in range(len(maturities)):\n",
    "    expiration_dates.append(ql.Date(23, 1, 2023) + ql.Period(int(np.round(maturities[j]*365)), ql.Days))\n",
    "\n",
    "    \n",
    "# Add the last point at 100 years for the Implied Drift\n",
    "\n",
    "dates = expiration_dates.copy()\n",
    "dates.append(ql.Date(23, 1, 2123))\n",
    "\n",
    "N_tenors = len(expiration_dates)\n",
    "N_strikes = len(strikes)\n",
    "\n",
    "# Starting eta, kappa, theta, rho, sigma_0\n",
    "\n",
    "params = (0.0567259, 2.6604, 1.32985, -0.674692, 0.0440527)"
   ]
  },
  {
   "cell_type": "code",
   "execution_count": null,
   "id": "322d023c",
   "metadata": {},
   "outputs": [],
   "source": []
  }
 ],
 "metadata": {
  "kernelspec": {
   "display_name": "Python 3 (ipykernel)",
   "language": "python",
   "name": "python3"
  },
  "language_info": {
   "codemirror_mode": {
    "name": "ipython",
    "version": 3
   },
   "file_extension": ".py",
   "mimetype": "text/x-python",
   "name": "python",
   "nbconvert_exporter": "python",
   "pygments_lexer": "ipython3",
   "version": "3.9.13"
  }
 },
 "nbformat": 4,
 "nbformat_minor": 5
}
