{
 "cells": [
  {
   "cell_type": "markdown",
   "id": "c3ff632d",
   "metadata": {
    "id": "c3ff632d"
   },
   "source": [
    "# The quintic Ornstein-Uhlenbeck volatility model"
   ]
  },
  {
   "cell_type": "markdown",
   "id": "2e38e75c",
   "metadata": {
    "id": "2e38e75c"
   },
   "source": [
    "This notebook is a complementary material of the paper \"The quintic Ornstein-Uhlenbeck volatility model that jointly calibrates SPX \\& VIX smiles\" whose authors are Eduardo Abi Jaber, Camille Illand and Shaun LI. Here we show how to implement the model in practice for the pricing of SPX and VIX derivatives. \n",
    "\n",
    "For further details we refer  the paper. **(!)** The code is far from being optimized. If you have any question on anything about the code (or the paper) don't hesitate to contact us ;)"
   ]
  },
  {
   "cell_type": "markdown",
   "id": "ead62e35",
   "metadata": {
    "id": "ead62e35"
   },
   "source": [
    "## 1. The quintic Ornstein-Uhlenbeck model "
   ]
  },
  {
   "cell_type": "markdown",
   "id": "fd7036ab",
   "metadata": {
    "id": "fd7036ab"
   },
   "source": [
    "  \\begin{aligned}\n",
    "    \\frac{dS_t}{S_t} &= \\sigma_tdB_t,\\\\\n",
    "    \\sigma_t &= \\sqrt{\\xi_0(t)}\\frac{p(X_t)}{\\sqrt{\\mathbb E \\left[p(X_t)^2\\right]}}, \\quad       p(x) =\\alpha_0 + \\alpha_1 x + \\alpha_3 x^3 + \\alpha_5 x^5,\n",
    "\\\\\n",
    "      X_t &= \\varepsilon^{H-1/2} \\int_0^t e^{-(1/2-H)\\varepsilon^{-1}(t-s)} dW_s,\n",
    "  \\end{aligned}"
   ]
  },
  {
   "cell_type": "code",
   "execution_count": 1,
   "id": "iFXc_eCd8Zwp",
   "metadata": {
    "id": "iFXc_eCd8Zwp"
   },
   "outputs": [],
   "source": [
    "import numpy as np\n",
    "import matplotlib.pyplot as plt\n",
    "from tqdm.notebook import tqdm\n",
    "\n",
    "import scipy\n",
    "from scipy import interpolate\n",
    "from math import exp, sqrt, log, pi\n",
    "\n",
    "from py_vollib.black_scholes.implied_volatility import implied_volatility\n",
    "vec_find_vol_rat = np.vectorize(implied_volatility)   #imp vol estimator based on P Jäckel Let's be rational\n",
    "\n",
    "import warnings \n",
    "warnings.filterwarnings('ignore') #to suppress warning messages"
   ]
  },
  {
   "cell_type": "code",
   "execution_count": 2,
   "id": "PPi3pscd2yd6",
   "metadata": {
    "id": "PPi3pscd2yd6"
   },
   "outputs": [],
   "source": [
    "from py_vollib.black_scholes.implied_volatility import implied_volatility\n",
    "vec_find_vol_rat = np.vectorize(implied_volatility)   #imp vol estimator based on P Jäckel Let's be rational"
   ]
  },
  {
   "cell_type": "markdown",
   "id": "e73a27c6",
   "metadata": {
    "id": "e73a27c6"
   },
   "source": [
    "## 2. SPX call/put options by Monte Carlo with antithetic and control variates"
   ]
  },
  {
   "cell_type": "code",
   "execution_count": 3,
   "id": "42bab791",
   "metadata": {
    "id": "42bab791"
   },
   "outputs": [],
   "source": [
    "def horner_vector(poly, n, x):\n",
    "    #Initialize result\n",
    "    result = poly[0].reshape(-1,1)\n",
    "    for i in range(1,n):\n",
    "        result = result*x + poly[i].reshape(-1,1)\n",
    "    return result"
   ]
  },
  {
   "cell_type": "code",
   "execution_count": 4,
   "id": "663f20ee",
   "metadata": {
    "id": "663f20ee"
   },
   "outputs": [],
   "source": [
    "def bs_price_call(s,sigma,T,K):\n",
    "    #x is defined as St/K\n",
    "    d1 = (np.log(s/K)+0.5*np.power(sigma,2.0)*T)/(sigma*sqrt(T))\n",
    "    d2 = d1-sigma*sqrt(T)\n",
    "    price = s*scipy.special.ndtr(d1)-K*scipy.special.ndtr(d2)\n",
    "    return price"
   ]
  },
  {
   "cell_type": "code",
   "execution_count": 5,
   "id": "ec852d8f",
   "metadata": {
    "id": "ec852d8f"
   },
   "outputs": [],
   "source": [
    "def gen_bm_path(n_steps,N_sims):\n",
    "    w1 = np.random.normal(0, 1, (n_steps, N_sims))\n",
    "    #Antithetic variates\n",
    "    w1 = np.concatenate((w1, -w1), axis = 1)\n",
    "    return w1"
   ]
  },
  {
   "cell_type": "code",
   "execution_count": 83,
   "id": "cba236fd",
   "metadata": {
    "id": "cba236fd"
   },
   "outputs": [],
   "source": [
    "def mc_polynomial_fwd_var(rho,H,eps,T,a_k_part,S0,strike_array,n_steps,N_sims,fv_nodes,T_array_nodes,w1,compute_iv = True):\n",
    "    \n",
    "    spine_k_order = 3\n",
    "    \n",
    "    eta_tild = eps**(H-0.5)\n",
    "    kappa_tild = (0.5-H)/eps\n",
    "    \n",
    "    a_0,a_1,a_3,a_5 = a_k_part\n",
    "    a_k = np.array([a_0,a_1,0,a_3,0,a_5])\n",
    "\n",
    "    dt = T/n_steps\n",
    "    tt = np.linspace(0., T, n_steps + 1)\n",
    "\n",
    "    exp1 = np.exp(kappa_tild*tt)\n",
    "    exp2 = np.exp(2*kappa_tild*tt)\n",
    "\n",
    "    diff_exp2 = np.concatenate((np.array([0.]),np.diff(exp2))) #qui c'è dentro il meno dell'esponente\n",
    "    std_vec = np.sqrt(diff_exp2/(2*kappa_tild))[:,np.newaxis] #to be broadcasted columnwise \n",
    "    exp1 = exp1[:,np.newaxis] \n",
    "    X = (1/exp1)*(eta_tild*np.cumsum(std_vec*w1, axis = 0)) \n",
    "    Xt = np.array(X[:-1])\n",
    "    del(X)\n",
    "    \n",
    "    tt = tt[:-1]\n",
    "    std_X_t = np.sqrt(eta_tild**2/(2*kappa_tild)*(1-np.exp(-2*kappa_tild*tt)))\n",
    "    n = len(a_k)\n",
    "    \n",
    "    cauchy_product = np.convolve(a_k,a_k)\n",
    "    normal_var = np.sum(cauchy_product[np.arange(0,2*n,2)].reshape(-1,1)*std_X_t**(np.arange(0,2*n,2).reshape(-1,1))*\\\n",
    "        scipy.special.factorial2(np.arange(0,2*n,2).reshape(-1,1)-1),axis=0)\n",
    "    \n",
    "    f_func = horner_vector(a_k[::-1], len(a_k), Xt)\n",
    "        \n",
    "    del(Xt)\n",
    "    \n",
    "    fv_var_curve_spline_sqrt = interpolate.splrep(T_array_nodes, np.sqrt(fv_nodes),k=spine_k_order)\n",
    "    fv_curve = (interpolate.splev(tt, fv_var_curve_spline_sqrt, der=0).reshape(-1,1))**2    \n",
    "\n",
    "    volatility = f_func/np.sqrt(normal_var.reshape(-1,1))\n",
    "    del f_func\n",
    "    volatility = np.sqrt(fv_curve)*volatility\n",
    "    \n",
    "#     logS1 = log(S0)\n",
    "#     for i in range(w1.shape[0]-1):\n",
    "#         logS1 = logS1-0.5*dt*(volatility[i]*rho)**2+sqrt(dt)*rho*volatility[i]*w1[i+1]\n",
    "#     del(w1)\n",
    "#     ST1 = np.exp(logS1)\n",
    "#     del(logS1)   \n",
    "    \n",
    "    logS = np.zeros([w1.shape[0], N_sims*2])\n",
    "    logS[0,:] = log(S0)\n",
    "    logS1 = log(S0)\n",
    "    for i in range(w1.shape[0]-1):\n",
    "        logS[i+1,:] = logS[i,:]-0.5*dt*(volatility[i]*rho)**2+sqrt(dt)*rho*volatility[i]*w1[i+1]\n",
    "    del w1\n",
    "    S = np.exp(logS)\n",
    "    return S\n",
    "\n",
    "    int_var = np.sum(volatility[:-1,]**2*dt,axis=0)\n",
    "    Q = np.max(int_var)+1e-9\n",
    "    del(volatility)\n",
    "    X = (bs_price_call(ST1,np.sqrt((1-rho**2)*int_var/T),T,strike_array.reshape(-1,1))).T\n",
    "    Y = (bs_price_call(ST1,np.sqrt(rho**2*(Q-int_var)/T),T,strike_array.reshape(-1,1))).T\n",
    "    del(int_var)\n",
    "    eY = (bs_price_call(S0,np.sqrt(rho**2*(Q)/T),T,strike_array.reshape(-1,1))).T\n",
    "    \n",
    "    c = []\n",
    "    for i in range(strike_array.shape[0]):\n",
    "        cova = np.cov(X[:,i]+10,Y[:,i]+10)[0,1]\n",
    "        varg = np.cov(X[:,i]+10,Y[:,i]+10)[1,1]\n",
    "        if (cova or varg)<1e-8:\n",
    "            temp = 1e-40\n",
    "        else:\n",
    "            temp = np.nan_to_num(cova/varg,1e-40)\n",
    "        temp = np.minimum(temp,2)\n",
    "        c.append(temp)\n",
    "    c = np.array(c)\n",
    "    \n",
    "    call_mc_cv1 = X-c*(Y-eY)\n",
    "    del(X); del(Y); del(eY);\n",
    "    \n",
    "    p_mc_cv1 = np.average(call_mc_cv1,axis=0)\n",
    "    std_mc_cv1 = np.std(call_mc_cv1,axis=0)\n",
    "    \n",
    "    if compute_iv:\n",
    "        flag = 'c'\n",
    "        imp_mc = vec_find_vol_rat(p_mc_cv1, S0, strike_array, T, 0.0, flag)\n",
    "        imp_mc_upper = vec_find_vol_rat(p_mc_cv1 + 1.96*std_mc_cv1/(np.sqrt(2*N_sims)), S0, strike_array, T, 0.0, flag)\n",
    "        imp_mc_lower = vec_find_vol_rat(p_mc_cv1 - 1.96*std_mc_cv1/(np.sqrt(2*N_sims)), S0, strike_array, T, 0.0, flag)\n",
    "        \n",
    "        return p_mc_cv1, std_mc_cv1, imp_mc, imp_mc_upper, imp_mc_lower\n",
    "    \n",
    "    else:\n",
    "        return p_mc_cv1,std_mc_cv1"
   ]
  },
  {
   "cell_type": "code",
   "execution_count": 97,
   "id": "0f3eb6d5",
   "metadata": {
    "id": "0f3eb6d5"
   },
   "outputs": [],
   "source": [
    "n_steps = 1000\n",
    "N_sims = 25000\n",
    "np.random.seed(42)\n",
    "w1_orig=gen_bm_path(n_steps,N_sims)\n",
    "w1 = np.concatenate((np.zeros(w1_orig.shape[1])[np.newaxis,:],w1_orig))"
   ]
  },
  {
   "cell_type": "code",
   "execution_count": 98,
   "id": "f8d5add5",
   "metadata": {},
   "outputs": [
    {
     "data": {
      "text/plain": [
       "(1001, 50000)"
      ]
     },
     "execution_count": 98,
     "metadata": {},
     "output_type": "execute_result"
    }
   ],
   "source": [
    "w1.shape"
   ]
  },
  {
   "cell_type": "code",
   "execution_count": 99,
   "id": "1383f126",
   "metadata": {
    "id": "1383f126"
   },
   "outputs": [],
   "source": [
    "rho= -0.65\n",
    "H = -0.2\n",
    "eps = 1/52"
   ]
  },
  {
   "cell_type": "code",
   "execution_count": 100,
   "id": "5db7a1eb",
   "metadata": {
    "id": "5db7a1eb"
   },
   "outputs": [],
   "source": [
    "S0 = 100\n",
    "T = 1/12\n",
    "lm = np.linspace(-0.2,0.05,30)\n",
    "#lm = np.linspace(-0.6,0.2,30)\n",
    "#lm = np.linspace(-1,0.2,30)\n",
    "strike_array = np.exp(lm)*S0\n",
    "a_k_part = np.array([0.01,1,0.2,0.05])\n",
    "#a_k_part = [0.01,1,0.214, 0.227]\n",
    "#a_k_part = np.array([0.00001,1,0,0])"
   ]
  },
  {
   "cell_type": "code",
   "execution_count": 101,
   "id": "168f17b7",
   "metadata": {
    "id": "168f17b7"
   },
   "outputs": [],
   "source": [
    "T_array_nodes = np.array([0,0.03,1/12,2/12,3/12,6/12,12/12,24/12])\n",
    "fv_nodes = np.ones_like(T_array_nodes)*0.03   #fix fwd variance at 0.02\n",
    "#fv_nodes = np.array([0.012,0.018,0.035,0.026,0.027,0.019,0.025,0.025])"
   ]
  },
  {
   "cell_type": "code",
   "execution_count": 89,
   "id": "4f385b15",
   "metadata": {},
   "outputs": [],
   "source": [
    "S = mc_polynomial_fwd_var(rho, H, eps, T, a_k_part, S0, strike_array, n_steps, N_sims, fv_nodes, T_array_nodes, w1)"
   ]
  },
  {
   "cell_type": "code",
   "execution_count": 102,
   "id": "88d07291",
   "metadata": {},
   "outputs": [
    {
     "name": "stdout",
     "output_type": "stream",
     "text": [
      "8.5 s ± 453 ms per loop (mean ± std. dev. of 7 runs, 1 loop each)\n"
     ]
    }
   ],
   "source": [
    "%%timeit\n",
    "\n",
    "mc_polynomial_fwd_var(rho, H, eps, T, a_k_part, S0, strike_array, n_steps, N_sims, fv_nodes, T_array_nodes, w1)"
   ]
  },
  {
   "cell_type": "code",
   "execution_count": 81,
   "id": "9e3a1c3b",
   "metadata": {},
   "outputs": [
    {
     "data": {
      "image/png": "[encoded data removed]",
      "text/plain": [
       "<Figure size 640x480 with 1 Axes>"
      ]
     },
     "metadata": {},
     "output_type": "display_data"
    }
   ],
   "source": [
    "ax = plt.gca()\n",
    "ax.set_xlim([200, 500])\n",
    "ax.set_ylim([82, 86])\n",
    "for i in range(100):\n",
    "    ax.plot(S[:,i])\n",
    "    \n",
    "#ax.show()"
   ]
  },
  {
   "cell_type": "code",
   "execution_count": 11,
   "id": "16c7f2a1",
   "metadata": {
    "id": "16c7f2a1"
   },
   "outputs": [],
   "source": [
    "p_mc, std_mc, imp_mc, imp_mc_upper, imp_mc_lower = mc_polynomial_fwd_var(rho, H, eps, T,\n",
    "                                         a_k_part, S0, strike_array, n_steps, N_sims, fv_nodes, T_array_nodes, w1)"
   ]
  },
  {
   "cell_type": "code",
   "execution_count": 27,
   "id": "94d815d1",
   "metadata": {
    "colab": {
     "base_uri": "https://localhost:8080/"
    },
    "id": "94d815d1",
    "outputId": "0ac59f1f-017b-470e-d7f6-0f93ef2dd455"
   },
   "outputs": [
    {
     "name": "stdout",
     "output_type": "stream",
     "text": [
      "628 ms ± 40.6 ms per loop (mean ± std. dev. of 7 runs, 1 loop each)\n"
     ]
    }
   ],
   "source": [
    "%%timeit\n",
    "mc_polynomial_fwd_var(rho, H, eps,T,a_k_part,S0,strike_array,n_steps,N_sims,fv_nodes,T_array_nodes,w1,compute_iv = False)"
   ]
  },
  {
   "cell_type": "code",
   "execution_count": 12,
   "id": "140bef4d",
   "metadata": {
    "colab": {
     "base_uri": "https://localhost:8080/",
     "height": 282
    },
    "id": "140bef4d",
    "outputId": "cc5080c4-9db1-4f04-8374-027eb41d2833"
   },
   "outputs": [
    {
     "data": {
      "text/plain": [
       "[<matplotlib.lines.Line2D at 0x20c57a17e50>]"
      ]
     },
     "execution_count": 12,
     "metadata": {},
     "output_type": "execute_result"
    },
    {
     "data": {
      "image/png": "[encoded data removed]",
      "text/plain": [
       "<Figure size 640x480 with 1 Axes>"
      ]
     },
     "metadata": {},
     "output_type": "display_data"
    }
   ],
   "source": [
    "flag = 'c'\n",
    "plt.plot(lm,imp_mc)\n",
    "plt.plot(lm,imp_mc_upper,'--g')\n",
    "plt.plot(lm,imp_mc_lower,'--g')"
   ]
  },
  {
   "cell_type": "markdown",
   "id": "bfd817d7",
   "metadata": {
    "id": "bfd817d7"
   },
   "source": [
    "## 3. VIX call/put options by Gaussian quadrature"
   ]
  },
  {
   "cell_type": "code",
   "execution_count": null,
   "id": "02ab1c3b",
   "metadata": {
    "id": "02ab1c3b"
   },
   "outputs": [],
   "source": [
    "#gaussian quadrature\n",
    "deg_vix = 400\n",
    "x_org_vix, w_org_vix = np.polynomial.legendre.leggauss(deg_vix)\n",
    "lb_vix = -8\n",
    "ub_vix = 8"
   ]
  },
  {
   "cell_type": "code",
   "execution_count": null,
   "id": "61bffa56",
   "metadata": {
    "id": "61bffa56"
   },
   "outputs": [],
   "source": [
    "#even faster computation of vix!\n",
    "def gauss_dens(mu,sigma,x):\n",
    "    return 1/np.sqrt(2*pi*sigma**2)*np.exp(-(x-mu)**2/(2*sigma**2))\n",
    "def vix_all_integration_poly_fast_revert_model(H,eps,T,a_k_part,x_org_vix,w_org_vix,vix_strike_perc,fv_nodes,T_array_nodes,n_steps = 200,compute_iv = True):\n",
    "    spine_k_order = 3\n",
    "\n",
    "    a2,a4 = (0,0)\n",
    "    a0,a1,a3,a5 = a_k_part\n",
    "\n",
    "    a_k = np.array([a0,a1,a2,a3,a4,a5])\n",
    "    kappa_tild = (0.5-H)/eps\n",
    "    eta_tild = eps**(H-0.5)\n",
    "\n",
    "    delt = 30/360\n",
    "    T_delta = T+delt\n",
    "\n",
    "    w=w_org_vix/2*(ub_vix-lb_vix)\n",
    "    y = (ub_vix-lb_vix)/2*x_org_vix + (ub_vix+lb_vix)/2\n",
    "    std_X = eta_tild*np.sqrt(1/(2*kappa_tild)*(1-np.exp(-2*kappa_tild*T)))\n",
    "    dt = delt/(n_steps)\n",
    "    tt = np.linspace(T, T_delta, n_steps+1)\n",
    "    \n",
    "    exp_det = np.exp(-kappa_tild*(tt-T))\n",
    "    cauchy_product = np.convolve(a_k,a_k)\n",
    "    std_Gs_T = eta_tild*np.sqrt(1/(2*kappa_tild)*(1-np.exp(-2*kappa_tild*(tt-T))))\n",
    "    std_X_t = eta_tild*np.sqrt(1/(2*kappa_tild)*(1-np.exp(-2*kappa_tild*tt)))\n",
    "    std_X_T = eta_tild*np.sqrt(1/(2*kappa_tild)*(1-np.exp(-2*kappa_tild*T)))\n",
    "    n = len(a_k)\n",
    "    \n",
    "    normal_var = np.sum(cauchy_product[np.arange(0,2*n,2)].reshape(-1,1)*std_X_t**(np.arange(0,2*n,2).reshape(-1,1))*\\\n",
    "    scipy.special.factorial2(np.arange(0,2*n,2).reshape(-1,1)-1),axis=0)\n",
    "    \n",
    "    fv_var_curve_spline_sqrt = interpolate.splrep(T_array_nodes, np.sqrt(fv_nodes),k=spine_k_order)\n",
    "    FV_curve_all_vix = interpolate.splev(tt, fv_var_curve_spline_sqrt, der=0)**2\n",
    "    \n",
    "    beta = []\n",
    "    for i in range(0,2*n-1):\n",
    "        k_array = np.arange(i,2*n-1)\n",
    "        beta_temp = ((std_Gs_T**((k_array-i).reshape(-1,1))*((k_array-i-1)%2).reshape(-1,1)*\\\n",
    "            scipy.special.factorial2(k_array-i-1).reshape(-1,1)*\\\n",
    "            (scipy.special.comb(k_array,i)).reshape(-1,1))*\\\n",
    "            exp_det**(i))*cauchy_product[k_array].reshape(-1,1)\n",
    "        beta.append(np.sum(beta_temp,axis=0))\n",
    "    beta = np.array(beta)*FV_curve_all_vix/normal_var\n",
    "    \n",
    "    beta = (np.sum((beta[:,:-1]+beta[:,1:])/2,axis=1))*dt\n",
    "    vix_T = np.sqrt(horner_vector(beta[::-1], len(beta), std_X_T*y.reshape(1,-1))/delt)\n",
    "    density = gauss_dens(0.0,1,y)\n",
    "    Ft = np.sum(density*vix_T*w)\n",
    "    vix_strike = Ft*vix_strike_perc\n",
    "    option_prices = np.sum(density*np.maximum(vix_T-vix_strike.reshape(-1,1),0)*w,axis=1)\n",
    "    \n",
    "    if compute_iv:\n",
    "        flag = 'c'\n",
    "        imp_vol = vec_find_vol_rat(option_prices, Ft, vix_strike_perc*Ft, T, 0.0, flag)\n",
    "        return Ft*100,option_prices*100,imp_vol\n",
    "    else:\n",
    "        return Ft*100,option_prices*100"
   ]
  },
  {
   "cell_type": "code",
   "execution_count": null,
   "id": "191e4dcb",
   "metadata": {
    "id": "191e4dcb"
   },
   "outputs": [],
   "source": [
    "lm_vix = np.linspace(-0.1,1,50)\n",
    "vix_strike_perc = np.exp(lm_vix)"
   ]
  },
  {
   "cell_type": "code",
   "execution_count": null,
   "id": "a96f1a0b",
   "metadata": {
    "id": "a96f1a0b"
   },
   "outputs": [],
   "source": [
    "vix_fut,vix_call,vix_iv = vix_all_integration_poly_fast_revert_model(H,eps,T,a_k_part,x_org_vix,w_org_vix,vix_strike_perc,fv_nodes,T_array_nodes)"
   ]
  },
  {
   "cell_type": "code",
   "execution_count": null,
   "id": "0409a4ec",
   "metadata": {
    "colab": {
     "base_uri": "https://localhost:8080/"
    },
    "id": "0409a4ec",
    "outputId": "ee0ca5b5-01b9-407d-e2b6-ac3e66cdadfe"
   },
   "outputs": [
    {
     "name": "stdout",
     "output_type": "stream",
     "text": [
      "2.36 ms ± 72.2 µs per loop (mean ± std. dev. of 7 runs, 100 loops each)\n"
     ]
    }
   ],
   "source": [
    "%%timeit\n",
    "vix_all_integration_poly_fast_revert_model(H,eps,T,a_k_part,x_org_vix,w_org_vix,vix_strike_perc,fv_nodes,T_array_nodes,compute_iv = False)"
   ]
  },
  {
   "cell_type": "code",
   "execution_count": null,
   "id": "0c264bf9",
   "metadata": {
    "colab": {
     "base_uri": "https://localhost:8080/",
     "height": 267
    },
    "id": "0c264bf9",
    "outputId": "733163aa-a11b-49af-c2bd-ff0db1fbb327"
   },
   "outputs": [
    {
     "data": {
      "image/png": "[encoded data removed]",
      "text/plain": [
       "<Figure size 432x288 with 1 Axes>"
      ]
     },
     "metadata": {
      "needs_background": "light"
     },
     "output_type": "display_data"
    }
   ],
   "source": [
    "plt.plot(vix_strike_perc*vix_fut, vix_iv, label = 'VIX iv')\n",
    "plt.axvline(x = vix_fut, color = 'black', label = 'VIX future')\n",
    "plt.legend()\n",
    "plt.show()"
   ]
  },
  {
   "cell_type": "markdown",
   "id": "-0A5bJrk3V6A",
   "metadata": {
    "id": "-0A5bJrk3V6A"
   },
   "source": [
    "## 4. Calibration results: based on the joint vol surface on 23/10/2017"
   ]
  },
  {
   "cell_type": "code",
   "execution_count": null,
   "id": "-z-eOMj03EfS",
   "metadata": {
    "id": "-z-eOMj03EfS"
   },
   "outputs": [],
   "source": [
    "rho,H = -0.6842593 , -0.03583785\n",
    "eps_fixed = 1/52\n",
    "a_k_part = np.array([0.59069477,  0.99999991,  0.28927803, 0.05491437])\n",
    "fvc = np.array([0.00950134,  0.00799541,  0.00514354,  0.01079057,\n",
    "        0.02396814,  0.00793446,  0.01301627,  0.02776016,  0.00222057,\n",
    "        0.01965447,  0.01085834,  0.02437202,  0.01278166,  0.01881186])\n",
    "T_array_nodes = np.array([0, 0.02601012, 0.03696174, 0.05065128, 0.06297186,\n",
    "       0.07529244, 0.08898198, 0.09993361, 0.10540942, 0.11636105,\n",
    "       0.1355264 , 0.16427442, 0.21218779, 0.25736326])\n",
    "St = 100"
   ]
  },
  {
   "cell_type": "code",
   "execution_count": null,
   "id": "DZDSLyKc3Eo_",
   "metadata": {
    "id": "DZDSLyKc3Eo_"
   },
   "outputs": [],
   "source": [
    "spx_maturities = np.array([0.03011698, 0.08213721, 0.18343977, 0.24093582])\n",
    "vix_maturities = np.array([0.02464116, 0.06297186, 0.08213721, 0.15879861])"
   ]
  },
  {
   "cell_type": "code",
   "execution_count": null,
   "id": "u_HjHQ4T3Erk",
   "metadata": {
    "id": "u_HjHQ4T3Erk"
   },
   "outputs": [],
   "source": [
    "n_steps = 400\n",
    "N_sims = 10000\n",
    "np.random.seed(42)\n",
    "w1_orig=gen_bm_path(n_steps,N_sims)\n",
    "w1 = np.concatenate((np.zeros(w1_orig.shape[1])[np.newaxis,:],w1_orig))"
   ]
  },
  {
   "cell_type": "code",
   "execution_count": null,
   "id": "pMh9ut7Y3fnQ",
   "metadata": {
    "id": "pMh9ut7Y3fnQ"
   },
   "outputs": [],
   "source": [
    "def spx_lm_range_rule(T_mat):\n",
    "    if T_mat<2/52:\n",
    "        lm_range = [-0.15,0.03]\n",
    "    elif T_mat <1/12:\n",
    "        lm_range = [-0.25,0.05]\n",
    "    elif T_mat < 2/12:\n",
    "        lm_range = [-0.4,0.1]\n",
    "    elif T_mat < 3/12:\n",
    "        lm_range = [-0.6,0.1]\n",
    "    elif T_mat < 6/12:\n",
    "        lm_range = [-0.7,0.15]\n",
    "    else:\n",
    "        lm_range = [-1,0.2]\n",
    "    return lm_range"
   ]
  },
  {
   "cell_type": "code",
   "execution_count": null,
   "id": "ZVIkeCbz3gi9",
   "metadata": {
    "colab": {
     "base_uri": "https://localhost:8080/",
     "height": 49,
     "referenced_widgets": [
      "03f1e7c739964c4ca5a6e576896617dc",
      "5c546dc0ce7b4adfa078308c963cf907",
      "26eb1100a9274cf996634bb9a19384e8",
      "ac7f96f2c7cc406dbb6f6738ff4d0d24",
      "4df0292ae167431595340fa1289749fa",
      "51a9026d824943fdbc919de11b974d86",
      "0ae879920a6b4390b18de3189feb789f",
      "6b74419ae4e94e3e98d7c95b392717e7",
      "fa9e216919a54ac3a14f93ac4f6f07d4",
      "fe728de98faf44b1898a14e4e0a90405",
      "a3333ee992dc4405b865a92db29b651e"
     ]
    },
    "id": "ZVIkeCbz3gi9",
    "outputId": "d76b0705-a0e0-408c-ca4d-8e1b547c3fea"
   },
   "outputs": [
    {
     "data": {
      "application/vnd.jupyter.widget-view+json": {
       "model_id": "03f1e7c739964c4ca5a6e576896617dc",
       "version_major": 2,
       "version_minor": 0
      },
      "text/plain": [
       "iteration:   0%|          | 0/4 [00:00<?, ?it/s]"
      ]
     },
     "metadata": {},
     "output_type": "display_data"
    }
   ],
   "source": [
    "spx_prices = []\n",
    "spx_ivs = []\n",
    "spx_ivs_u = []\n",
    "spx_ivx_l = []\n",
    "epochs_iter = tqdm(spx_maturities, desc=\"iteration\", miniters=1)\n",
    "for i in epochs_iter:\n",
    "    lm_bd  = spx_lm_range_rule(i)\n",
    "    strikes = np.exp(np.linspace(lm_bd[0],lm_bd[1],30))*St\n",
    "    p_temp,_, iv_temp,iv_u_temp,iv_d_temp =  mc_polynomial_fwd_var(rho,H,eps_fixed,\n",
    "                                    i,a_k_part,St,strikes,n_steps,N_sims,fvc,T_array_nodes,w1)\n",
    "    spx_prices.append(p_temp)\n",
    "    spx_ivs.append(iv_temp)\n",
    "    spx_ivs_u.append(iv_u_temp)\n",
    "    spx_ivx_l.append(iv_d_temp)"
   ]
  },
  {
   "cell_type": "code",
   "execution_count": null,
   "id": "APQcvENN3gtM",
   "metadata": {
    "colab": {
     "base_uri": "https://localhost:8080/",
     "height": 443
    },
    "id": "APQcvENN3gtM",
    "outputId": "cd1e7e62-fd02-4b0c-93db-c1ca655c6f5a"
   },
   "outputs": [
    {
     "data": {
      "image/png": "[encoded data removed]",
      "text/plain": [
       "<Figure size 648x432 with 4 Axes>"
      ]
     },
     "metadata": {
      "needs_background": "light"
     },
     "output_type": "display_data"
    }
   ],
   "source": [
    "plt.figure(1,figsize=(9,6))\n",
    "counter=1\n",
    "for i in spx_maturities:\n",
    "    plt.subplot(2,2,counter)\n",
    "    plt.suptitle('SPX implied volatility',fontsize=15)\n",
    "    if counter ==1:\n",
    "        plt.title('T = {} days'.format(int(np.round(i*365,0))),fontsize=13)\n",
    "    \n",
    "        lm_bd  = spx_lm_range_rule(i)\n",
    "        lms = np.linspace(lm_bd[0],lm_bd[1],30)\n",
    "        plt.plot(lms,spx_ivs[counter-1],'g')\n",
    "        plt.xlabel(\"log moneyness $\\log(K/S_0)$\",fontsize=12)\n",
    "    else:\n",
    "        plt.title('T = {} days'.format(int(np.round(i*365,0))),fontsize=13)\n",
    "    \n",
    "        lm_bd  = spx_lm_range_rule(i)\n",
    "        lms = np.linspace(lm_bd[0],lm_bd[1],30)\n",
    "        plt.plot(lms,spx_ivs[counter-1],'g')\n",
    "\n",
    "    counter+=1\n",
    "plt.tight_layout()\n",
    "plt.show()"
   ]
  },
  {
   "cell_type": "code",
   "execution_count": null,
   "id": "nzwdogQa3gzD",
   "metadata": {
    "id": "nzwdogQa3gzD"
   },
   "outputs": [],
   "source": [
    "lm_vix = np.linspace(-0.1,1,50)\n",
    "vix_strike_perc = np.exp(lm_vix)"
   ]
  },
  {
   "cell_type": "code",
   "execution_count": null,
   "id": "DWWm-QnA3g2K",
   "metadata": {
    "colab": {
     "base_uri": "https://localhost:8080/",
     "height": 49,
     "referenced_widgets": [
      "4472dc8bc5d04427bb598964e18b4e0d",
      "a0c76c7686fd4135a6ec5b3ecae41c42",
      "ead0cffcb0124f7290281f482df6e7e9",
      "6b2fc4711b7b4799b22d977a1a2c095d",
      "40f88c69f33e4785885506a174278cb3",
      "85069238585444dd853b34b4ec18c4b3",
      "e1b6d9a009f5461687b7a2b92c119e61",
      "d7a1fbc993ff4b569dde4a3d84a22ae9",
      "dd513b45e27a424a938c2900b01b18a3",
      "cef51d3327b94da3ae4bf67f2abb8595",
      "93c99fc6955e4422a91a497a6cde1bc3"
     ]
    },
    "id": "DWWm-QnA3g2K",
    "outputId": "cf265683-b0d8-4726-a13f-d14effcbe2ce"
   },
   "outputs": [
    {
     "data": {
      "application/vnd.jupyter.widget-view+json": {
       "model_id": "4472dc8bc5d04427bb598964e18b4e0d",
       "version_major": 2,
       "version_minor": 0
      },
      "text/plain": [
       "iteration:   0%|          | 0/4 [00:00<?, ?it/s]"
      ]
     },
     "metadata": {},
     "output_type": "display_data"
    }
   ],
   "source": [
    "vix_futs = []\n",
    "vix_opts = []\n",
    "vix_ivs = []\n",
    "epochs_iter = tqdm(vix_maturities, desc=\"iteration\", miniters=1)\n",
    "for i in epochs_iter:\n",
    "    vix_fut_temp, vix_opt_temp, vix_iv_temp = vix_all_integration_poly_fast_revert_model(H,eps_fixed,\n",
    "                                        i,a_k_part,x_org_vix,w_org_vix,vix_strike_perc,fvc,T_array_nodes)\n",
    "    vix_futs.append(vix_fut_temp)\n",
    "    vix_opts.append(vix_opt_temp)\n",
    "    vix_ivs.append(vix_iv_temp)"
   ]
  },
  {
   "cell_type": "code",
   "execution_count": null,
   "id": "16nebYSc3EuD",
   "metadata": {
    "colab": {
     "base_uri": "https://localhost:8080/",
     "height": 443
    },
    "id": "16nebYSc3EuD",
    "outputId": "f04931c5-2489-4afb-a5a6-6111afbf85b1"
   },
   "outputs": [
    {
     "data": {
      "image/png": "[encoded data removed]",
      "text/plain": [
       "<Figure size 648x432 with 4 Axes>"
      ]
     },
     "metadata": {
      "needs_background": "light"
     },
     "output_type": "display_data"
    }
   ],
   "source": [
    "plt.figure(1,figsize=(9,6))\n",
    "counter=1\n",
    "plt.suptitle('VIX implied volatility',fontsize=15)\n",
    "for i in vix_maturities:\n",
    "    plt.subplot(2,2,counter)\n",
    "    plt.title('T = {} days'.format(int(np.round(i*365,0))),fontsize=13)\n",
    "\n",
    "    plt.plot(vix_strike_perc*vix_futs[counter-1],vix_ivs[counter-1],'g', label = 'VIX iv')\n",
    "    plt.axvline(x = vix_futs[counter-1], color = 'green', label = 'VIX future calibration')\n",
    "    #plt.legend()\n",
    "    if counter ==1:\n",
    "        plt.xlabel(\"strike\",fontsize=12)\n",
    "    counter+=1\n",
    "plt.tight_layout()\n",
    "#plt.savefig('calibration_vix_time_dependent.jpg', dpi=200)\n",
    "plt.show()"
   ]
  },
  {
   "cell_type": "code",
   "execution_count": null,
   "id": "dpXsf46_3Ew9",
   "metadata": {
    "id": "dpXsf46_3Ew9"
   },
   "outputs": [],
   "source": [
    "t_grids = np.linspace(0,T_array_nodes[-1],20000)"
   ]
  },
  {
   "cell_type": "code",
   "execution_count": null,
   "id": "oMQpSyd54PHT",
   "metadata": {
    "id": "oMQpSyd54PHT"
   },
   "outputs": [],
   "source": [
    "spine_k_order = 3\n",
    "fv_var_graph = interpolate.splrep(T_array_nodes, np.sqrt(fvc),k=spine_k_order)\n",
    "fv_var_graph = (interpolate.splev(t_grids, fv_var_graph, der=0).reshape(-1,1))**2    "
   ]
  },
  {
   "cell_type": "code",
   "execution_count": null,
   "id": "YrCCm_eh4PKC",
   "metadata": {
    "colab": {
     "base_uri": "https://localhost:8080/",
     "height": 189
    },
    "id": "YrCCm_eh4PKC",
    "outputId": "4f853e79-c153-42e1-876b-5cd42dd3e0bd"
   },
   "outputs": [
    {
     "data": {
      "image/png": "[encoded data removed]",
      "text/plain": [
       "<Figure size 720x180 with 1 Axes>"
      ]
     },
     "metadata": {
      "needs_background": "light"
     },
     "output_type": "display_data"
    }
   ],
   "source": [
    "#shows what the Forward var looks like between 0 to T\n",
    "plt.figure(1,figsize=(10,2.5))\n",
    "plt.title('Foward variance curve',y=1)\n",
    "plt.plot(t_grids,fv_var_graph,'g--',label='forward curve after calib.')\n",
    "plt.plot(T_array_nodes,fvc,'o',c='green')\n",
    "plt.legend(loc='upper left')\n",
    "plt.ylim(-0.002,0.052)\n",
    "plt.xlabel(\"time\",fontsize=14)\n",
    "plt.tight_layout()\n",
    "#plt.savefig('fwd_var_curve.jpg', dpi=200)\n",
    "plt.show()"
   ]
  },
  {
   "cell_type": "markdown",
   "id": "8aBw6oj-4WJS",
   "metadata": {
    "id": "8aBw6oj-4WJS"
   },
   "source": [
    "## 5. Calibration results 2 slices SPX 1 slice VIX: based on the joint vol surface on 23/10/2017"
   ]
  },
  {
   "cell_type": "markdown",
   "id": "RSl7O9585_cM",
   "metadata": {
    "id": "RSl7O9585_cM"
   },
   "source": [
    "Here we use a parametric forward variance curve defined as:\n",
    "  \\begin{aligned}\n",
    "  \\xi_0(t) = a e^{-b t} + c(1-e^{-b t})\\\\\n",
    "  \\end{aligned}\n",
    "with $a,b,c >0$."
   ]
  },
  {
   "cell_type": "code",
   "execution_count": 22,
   "id": "msOhwT-24PPo",
   "metadata": {
    "id": "msOhwT-24PPo"
   },
   "outputs": [],
   "source": [
    "def mc_polynomial_fwd_var_parametric(rho,H,eps,T,a_k_part,a,b,c,S0,strike_array,n_steps,N_sims,w1,compute_iv = True):\n",
    "    \n",
    "    spine_k_order = 3\n",
    "    \n",
    "    eta_tild = eps**(H-0.5)\n",
    "    kappa_tild = (0.5-H)/eps\n",
    "    \n",
    "    a_0,a_1,a_3,a_5 = a_k_part\n",
    "    a_k = np.array([a_0,a_1,0,a_3,0,a_5])\n",
    "\n",
    "    dt = T/n_steps\n",
    "    tt = np.linspace(0., T, n_steps + 1)\n",
    "\n",
    "    exp1 = np.exp(kappa_tild*tt)\n",
    "    exp2 = np.exp(2*kappa_tild*tt)\n",
    "\n",
    "    diff_exp2 = np.concatenate((np.array([0.]),np.diff(exp2)))\n",
    "    std_vec = np.sqrt(diff_exp2/(2*kappa_tild))[:,np.newaxis] #to be broadcasted columnwise \n",
    "    exp1 = exp1[:,np.newaxis] \n",
    "    X = (1/exp1)*(eta_tild*np.cumsum(std_vec*w1, axis = 0)) \n",
    "    Xt = np.array(X[:-1])\n",
    "    del X\n",
    "    \n",
    "    tt = tt[:-1]\n",
    "    std_X_t = np.sqrt(eta_tild**2/(2*kappa_tild)*(1-np.exp(-2*kappa_tild*tt)))\n",
    "    n = len(a_k)\n",
    "    \n",
    "    cauchy_product = np.convolve(a_k,a_k)\n",
    "    normal_var = np.sum(cauchy_product[np.arange(0,2*n,2)].reshape(-1,1)*std_X_t**(np.arange(0,2*n,2).reshape(-1,1))*\\\n",
    "        scipy.special.factorial2(np.arange(0,2*n,2).reshape(-1,1)-1),axis=0)\n",
    "    \n",
    "    f_func = horner_vector(a_k[::-1], len(a_k), Xt)\n",
    "        \n",
    "    del Xt\n",
    "    \n",
    "    fv_curve = (a*np.exp(-b*tt)+c*(1-np.exp(-b*tt))).reshape(-1,1)\n",
    "\n",
    "    volatility = f_func/np.sqrt(normal_var.reshape(-1,1))\n",
    "    del f_func\n",
    "    volatility = np.sqrt(fv_curve)*volatility\n",
    "    \n",
    "#     logS1 = log(S0)\n",
    "#     for i in range(w1.shape[0]-1):\n",
    "#         logS1 = logS1-0.5*dt*(volatility[i]*rho)**2+sqrt(dt)*rho*volatility[i]*w1[i+1]\n",
    "#     del w1\n",
    "#     ST1 = np.exp(logS1)\n",
    "#     del logS1    \n",
    "    \n",
    "    logS = np.zeros([])\n",
    "    logS1 = log(S0)\n",
    "    for i in range(w1.shape[0]-1):\n",
    "        logS[i+1,:] = logS[i,:]-0.5*dt*(volatility[i]*rho)**2+sqrt(dt)*rho*volatility[i]*w1[i+1]\n",
    "    del w1\n",
    "    S = np.exp(logS)\n",
    "    \n",
    "    return S\n",
    "    del logS1 \n",
    "\n",
    "    int_var = np.sum(volatility[:-1,]**2*dt,axis=0)\n",
    "    Q = np.max(int_var)+1e-9\n",
    "    del volatility\n",
    "    X = (bs_price_call(ST1,np.sqrt((1-rho**2)*int_var/T),T,strike_array.reshape(-1,1))).T\n",
    "    Y = (bs_price_call(ST1,np.sqrt(rho**2*(Q-int_var)/T),T,strike_array.reshape(-1,1))).T\n",
    "    del int_var\n",
    "    eY = (bs_price_call(S0,np.sqrt(rho**2*(Q)/T),T,strike_array.reshape(-1,1))).T\n",
    "    \n",
    "    c = []\n",
    "    for i in range(strike_array.shape[0]):\n",
    "        cova = np.cov(X[:,i]+10,Y[:,i]+10)[0,1]\n",
    "        varg = np.cov(X[:,i]+10,Y[:,i]+10)[1,1]\n",
    "        if (cova or varg)<1e-8:\n",
    "            temp = 1e-40\n",
    "        else:\n",
    "            temp = np.nan_to_num(cova/varg,1e-40)\n",
    "        temp = np.minimum(temp,2)\n",
    "        c.append(temp)\n",
    "    c = np.array(c)\n",
    "    \n",
    "    call_mc_cv1 = X-c*(Y-eY)\n",
    "    del X\n",
    "    del Y\n",
    "    del eY\n",
    "    p_mc_cv1 = np.average(call_mc_cv1,axis=0)\n",
    "    std_mc_cv1 = np.std(call_mc_cv1,axis=0)\n",
    "    \n",
    "    if compute_iv:\n",
    "        flag = 'c'\n",
    "        imp_mc = vec_find_vol_rat(p_mc_cv1, S0, strike_array, T, 0.0, flag)\n",
    "        imp_mc_upper = vec_find_vol_rat(p_mc_cv1 + 1.96*std_mc_cv1/(np.sqrt(2*N_sims)), S0, strike_array, T, 0.0, flag)\n",
    "        imp_mc_lower = vec_find_vol_rat(p_mc_cv1 - 1.96*std_mc_cv1/(np.sqrt(2*N_sims)), S0, strike_array, T, 0.0, flag)\n",
    "        \n",
    "        return p_mc_cv1, std_mc_cv1, imp_mc, imp_mc_upper, imp_mc_lower\n",
    "    \n",
    "    else:\n",
    "        return p_mc_cv1,std_mc_cv1"
   ]
  },
  {
   "cell_type": "code",
   "execution_count": null,
   "id": "EkZkRsC24PSI",
   "metadata": {
    "id": "EkZkRsC24PSI"
   },
   "outputs": [],
   "source": [
    "def vix_all_integration_poly_fast_revert_model_parametric(H,eps,T,a_k_part,a,b,c,x_org_vix,w_org_vix,vix_strike_perc,n_steps = 200,compute_iv = True):\n",
    "    spine_k_order = 3\n",
    "\n",
    "    a2,a4 = (0,0)\n",
    "    a0,a1,a3,a5 = a_k_part\n",
    "\n",
    "    a_k = np.array([a0,a1,a2,a3,a4,a5])\n",
    "    kappa_tild = (0.5-H)/eps\n",
    "    eta_tild = eps**(H-0.5)\n",
    "\n",
    "    delt = 30/360\n",
    "    T_delta = T+delt\n",
    "\n",
    "    w=w_org_vix/2*(ub_vix-lb_vix)\n",
    "    y = (ub_vix-lb_vix)/2*x_org_vix + (ub_vix+lb_vix)/2\n",
    "    std_X = eta_tild*np.sqrt(1/(2*kappa_tild)*(1-np.exp(-2*kappa_tild*T)))\n",
    "    dt = delt/(n_steps)\n",
    "    tt = np.linspace(T, T_delta, n_steps+1)\n",
    "    \n",
    "    FV_curve_all_vix = a*np.exp(-b*tt)+c*(1-np.exp(-b*tt))\n",
    "    \n",
    "    exp_det = np.exp(-kappa_tild*(tt-T))\n",
    "    cauchy_product = np.convolve(a_k,a_k)\n",
    "    std_Gs_T = eta_tild*np.sqrt(1/(2*kappa_tild)*(1-np.exp(-2*kappa_tild*(tt-T))))\n",
    "    std_X_t = eta_tild*np.sqrt(1/(2*kappa_tild)*(1-np.exp(-2*kappa_tild*tt)))\n",
    "    std_X_T = eta_tild*np.sqrt(1/(2*kappa_tild)*(1-np.exp(-2*kappa_tild*T)))\n",
    "    n = len(a_k)\n",
    "    \n",
    "    normal_var = np.sum(cauchy_product[np.arange(0,2*n,2)].reshape(-1,1)*std_X_t**(np.arange(0,2*n,2).reshape(-1,1))*\\\n",
    "    scipy.special.factorial2(np.arange(0,2*n,2).reshape(-1,1)-1),axis=0)\n",
    "    \n",
    "    beta = []\n",
    "    for i in range(0,2*n-1):\n",
    "        k_array = np.arange(i,2*n-1)\n",
    "        beta_temp = ((std_Gs_T**((k_array-i).reshape(-1,1))*((k_array-i-1)%2).reshape(-1,1)*\\\n",
    "            scipy.special.factorial2(k_array-i-1).reshape(-1,1)*\\\n",
    "            (scipy.special.comb(k_array,i)).reshape(-1,1))*\\\n",
    "            exp_det**(i))*cauchy_product[k_array].reshape(-1,1)\n",
    "        beta.append(np.sum(beta_temp,axis=0))\n",
    "    beta = np.array(beta)*FV_curve_all_vix/normal_var\n",
    "    \n",
    "    beta = (np.sum((beta[:,:-1]+beta[:,1:])/2,axis=1))*dt\n",
    "    vix_T = np.sqrt(horner_vector(beta[::-1], len(beta), std_X_T*y.reshape(1,-1))/delt)\n",
    "    density = gauss_dens(0.0,1,y)\n",
    "    Ft = np.sum(density*vix_T*w)\n",
    "    vix_strike = Ft*vix_strike_perc\n",
    "    option_prices = np.sum(density*np.maximum(vix_T-vix_strike.reshape(-1,1),0)*w,axis=1)\n",
    "    \n",
    "    if compute_iv:\n",
    "        flag = 'c'\n",
    "        imp_vol = vec_find_vol_rat(option_prices, Ft, vix_strike_perc*Ft, T, 0.0, flag)\n",
    "        return Ft*100,option_prices*100,imp_vol\n",
    "    else:\n",
    "        return Ft*100,option_prices*100"
   ]
  },
  {
   "cell_type": "code",
   "execution_count": null,
   "id": "hlSSkGBR4PVH",
   "metadata": {
    "id": "hlSSkGBR4PVH"
   },
   "outputs": [],
   "source": [
    "rho,H = -0.73157011, -0.13815974\n",
    "eps_fixed = 1/52\n",
    "a_k_part = np.array([0.81685253,  0.27397169,  0.17173771,\n",
    "        0.00360953])\n",
    "a,b,c =  0.0084409 ,  2.04363437,  0.04406909\n",
    "St = 100"
   ]
  },
  {
   "cell_type": "code",
   "execution_count": null,
   "id": "0RyiiyZC4PXw",
   "metadata": {
    "id": "0RyiiyZC4PXw"
   },
   "outputs": [],
   "source": [
    "spx_maturities = np.array([0.02464116, 0.08213721])\n",
    "vix_maturities = np.array([0.02464116])"
   ]
  },
  {
   "cell_type": "code",
   "execution_count": null,
   "id": "VlBe9i8k4gyF",
   "metadata": {
    "id": "VlBe9i8k4gyF"
   },
   "outputs": [],
   "source": [
    "n_steps = 400\n",
    "N_sims = 10000\n",
    "np.random.seed(42)\n",
    "w1_orig=gen_bm_path(n_steps,N_sims)\n",
    "w1 = np.concatenate((np.zeros(w1_orig.shape[1])[np.newaxis,:],w1_orig))"
   ]
  },
  {
   "cell_type": "code",
   "execution_count": null,
   "id": "9A2xP0Z14g0p",
   "metadata": {
    "id": "9A2xP0Z14g0p"
   },
   "outputs": [],
   "source": [
    "def spx_lm_range_rule(T_mat):\n",
    "    if T_mat<2/52:\n",
    "        lm_range = [-0.15,0.03]\n",
    "    elif T_mat <1/12:\n",
    "        lm_range = [-0.25,0.05]\n",
    "    elif T_mat < 2/12:\n",
    "        lm_range = [-0.4,0.1]\n",
    "    elif T_mat < 3/12:\n",
    "        lm_range = [-0.6,0.1]\n",
    "    elif T_mat < 6/12:\n",
    "        lm_range = [-0.7,0.15]\n",
    "    else:\n",
    "        lm_range = [-1,0.2]\n",
    "    return lm_range"
   ]
  },
  {
   "cell_type": "code",
   "execution_count": null,
   "id": "6FmtLmz04g3M",
   "metadata": {
    "colab": {
     "base_uri": "https://localhost:8080/",
     "height": 49,
     "referenced_widgets": [
      "683370f499694fe4a015cbf9a1d7e9e4",
      "e767bbc31a3b4d02ab6e3c9836ca00f9",
      "c5cd0878769644609bd473a7b4951a53",
      "3b5cc09a087447478e2c7020a1a3b37e",
      "4fd2f46ea197401c86fd4c162d9d48ab",
      "68bd7f361a1e45dcb522738d3d114405",
      "7ec9fb9abd8c4f918d59ebefed080dfb",
      "0e370b5f6f9a4b439e225abb48c94f3d",
      "d8bf31710b864dadb58da925109fd4cc",
      "cedabd6c68b9418f89beb9c1394321e3",
      "387249e9576142199bec4883f3a7df9d"
     ]
    },
    "id": "6FmtLmz04g3M",
    "outputId": "0e9b9480-ce22-45e2-b959-58fd7b5041a5"
   },
   "outputs": [
    {
     "data": {
      "application/vnd.jupyter.widget-view+json": {
       "model_id": "683370f499694fe4a015cbf9a1d7e9e4",
       "version_major": 2,
       "version_minor": 0
      },
      "text/plain": [
       "iteration:   0%|          | 0/2 [00:00<?, ?it/s]"
      ]
     },
     "metadata": {},
     "output_type": "display_data"
    }
   ],
   "source": [
    "spx_prices = []\n",
    "spx_ivs = []\n",
    "spx_ivs_u = []\n",
    "spx_ivx_l = []\n",
    "epochs_iter = tqdm(spx_maturities, desc=\"iteration\", miniters=1)\n",
    "for i in epochs_iter:\n",
    "    lm_bd  = spx_lm_range_rule(i)\n",
    "    strikes = np.exp(np.linspace(lm_bd[0],lm_bd[1],30))*St\n",
    "    p_temp,_, iv_temp,iv_u_temp,iv_d_temp =  mc_polynomial_fwd_var_parametric(rho,H,eps_fixed,\n",
    "                                    i,a_k_part,a,b,c,St,strikes,n_steps,N_sims,w1)\n",
    "    spx_prices.append(p_temp)\n",
    "    spx_ivs.append(iv_temp)\n",
    "    spx_ivs_u.append(iv_u_temp)\n",
    "    spx_ivx_l.append(iv_d_temp)"
   ]
  },
  {
   "cell_type": "code",
   "execution_count": null,
   "id": "BSjD0E3D4g5s",
   "metadata": {
    "colab": {
     "base_uri": "https://localhost:8080/",
     "height": 260
    },
    "id": "BSjD0E3D4g5s",
    "outputId": "41343725-55da-4879-fb22-9944258ac2fc"
   },
   "outputs": [
    {
     "data": {
      "image/png": "[encoded data removed]",
      "text/plain": [
       "<Figure size 648x432 with 2 Axes>"
      ]
     },
     "metadata": {
      "needs_background": "light"
     },
     "output_type": "display_data"
    }
   ],
   "source": [
    "plt.figure(1,figsize=(9,6))\n",
    "counter=1\n",
    "for i in spx_maturities:\n",
    "    plt.subplot(2,2,counter)\n",
    "    plt.suptitle('SPX implied volatility',fontsize=15)\n",
    "    if counter ==1:\n",
    "        plt.title('T = {} days'.format(int(np.round(i*365,0))),fontsize=13)\n",
    "    \n",
    "        lm_bd  = spx_lm_range_rule(i)\n",
    "        lms = np.linspace(lm_bd[0],lm_bd[1],30)\n",
    "        plt.plot(lms,spx_ivs[counter-1],'g')\n",
    "        plt.xlabel(\"log moneyness $\\log(K/S_0)$\",fontsize=12)\n",
    "    else:\n",
    "        plt.title('T = {} days'.format(int(np.round(i*365,0))),fontsize=13)\n",
    "    \n",
    "        lm_bd  = spx_lm_range_rule(i)\n",
    "        lms = np.linspace(lm_bd[0],lm_bd[1],30)\n",
    "        plt.plot(lms,spx_ivs[counter-1],'g')\n",
    "\n",
    "    counter+=1\n",
    "plt.tight_layout()\n",
    "plt.show()"
   ]
  },
  {
   "cell_type": "code",
   "execution_count": null,
   "id": "cHue-kFt4g7u",
   "metadata": {
    "id": "cHue-kFt4g7u"
   },
   "outputs": [],
   "source": [
    "lm_vix = np.linspace(-0.1,1,50)\n",
    "vix_strike_perc = np.exp(lm_vix)"
   ]
  },
  {
   "cell_type": "code",
   "execution_count": null,
   "id": "qHuo5Lud4g-O",
   "metadata": {
    "colab": {
     "base_uri": "https://localhost:8080/",
     "height": 49,
     "referenced_widgets": [
      "389b692cf8d24cbd8ec3ab4e0a10b70e",
      "f7630c5fe89440789bcabe86c4b9670d",
      "c57faff8cd4b4a4ea8b4ef58bcae86c2",
      "a83394369eb54dbdbe74dda373a56990",
      "1a4aa8f3f8674712852a891180aac530",
      "f23ae51d94d64a9b9ef841a1c92d2cf3",
      "b036097fd25a479881a5fa9817139795",
      "70132beeb494404d9d21043acc2d860e",
      "5c0a8c43b6ef49928e22e696c7e46c49",
      "27beda2b565b475bafdfc56531e47c3e",
      "ae04d429c3b04aecae6a10055d40298f"
     ]
    },
    "id": "qHuo5Lud4g-O",
    "outputId": "f8573527-df92-4f5c-afae-27767208e00d"
   },
   "outputs": [
    {
     "data": {
      "application/vnd.jupyter.widget-view+json": {
       "model_id": "389b692cf8d24cbd8ec3ab4e0a10b70e",
       "version_major": 2,
       "version_minor": 0
      },
      "text/plain": [
       "iteration:   0%|          | 0/1 [00:00<?, ?it/s]"
      ]
     },
     "metadata": {},
     "output_type": "display_data"
    }
   ],
   "source": [
    "vix_futs = []\n",
    "vix_opts = []\n",
    "vix_ivs = []\n",
    "epochs_iter = tqdm(vix_maturities, desc=\"iteration\", miniters=1)\n",
    "for i in epochs_iter:\n",
    "    vix_fut_temp, vix_opt_temp, vix_iv_temp = vix_all_integration_poly_fast_revert_model_parametric(H,eps_fixed,\n",
    "                                        i,a_k_part,a,b,c,x_org_vix,w_org_vix,vix_strike_perc)\n",
    "    vix_futs.append(vix_fut_temp)\n",
    "    vix_opts.append(vix_opt_temp)\n",
    "    vix_ivs.append(vix_iv_temp)"
   ]
  },
  {
   "cell_type": "code",
   "execution_count": null,
   "id": "0Nt023DC4hAi",
   "metadata": {
    "colab": {
     "base_uri": "https://localhost:8080/",
     "height": 258
    },
    "id": "0Nt023DC4hAi",
    "outputId": "6612aa20-23f4-4b83-d0e3-8034963705e7"
   },
   "outputs": [
    {
     "data": {
      "image/png": "[encoded data removed]",
      "text/plain": [
       "<Figure size 864x432 with 1 Axes>"
      ]
     },
     "metadata": {
      "needs_background": "light"
     },
     "output_type": "display_data"
    }
   ],
   "source": [
    "plt.figure(1,figsize=(12,6))\n",
    "counter=1\n",
    "plt.suptitle('VIX implied volatility',fontsize=15)\n",
    "for i in vix_maturities:\n",
    "    plt.subplot(2,3,counter)\n",
    "    plt.title('T = {} days'.format(int(np.round(i*365,0))),fontsize=13)\n",
    "\n",
    "    plt.plot(vix_strike_perc*vix_futs[counter-1],vix_ivs[counter-1],'g', label = 'VIX iv')\n",
    "    plt.axvline(x = vix_futs[counter-1], color = 'green', label = 'VIX future calibration')\n",
    "    #plt.legend()\n",
    "    if counter ==1:\n",
    "        plt.xlabel(\"strike\",fontsize=12)\n",
    "    counter+=1\n",
    "plt.tight_layout()\n",
    "#plt.savefig('calibration_vix_time_dependent.jpg', dpi=200)\n",
    "plt.show()"
   ]
  },
  {
   "cell_type": "code",
   "execution_count": null,
   "id": "ePUejFNl4hFG",
   "metadata": {
    "id": "ePUejFNl4hFG"
   },
   "outputs": [],
   "source": [
    "rho,H = -0.7001,  0.141,\n",
    "eps_fixed = 1/52\n",
    "a_k_part = np.array([ 0.7558, 1, 0.0885, 0.4421,])\n",
    "a,b,c = 0.012,  2.027,  0.033\n",
    "St = 100"
   ]
  },
  {
   "cell_type": "code",
   "execution_count": null,
   "id": "qbi6AKYJ4hHW",
   "metadata": {
    "id": "qbi6AKYJ4hHW"
   },
   "outputs": [],
   "source": [
    "spx_maturities = np.array([0.14510907, 0.24093582])\n",
    "vix_maturities = np.array([0.15879861])"
   ]
  },
  {
   "cell_type": "code",
   "execution_count": null,
   "id": "djGWWi514hL8",
   "metadata": {
    "id": "djGWWi514hL8"
   },
   "outputs": [],
   "source": [
    "def spx_lm_range_rule(T_mat):\n",
    "    if T_mat<2/52:\n",
    "        lm_range = [-0.15,0.03]\n",
    "    elif T_mat <1/12:\n",
    "        lm_range = [-0.25,0.05]\n",
    "    elif T_mat < 2/12:\n",
    "        lm_range = [-0.4,0.1]\n",
    "    elif T_mat < 3/12:\n",
    "        lm_range = [-0.6,0.1]\n",
    "    elif T_mat < 6/12:\n",
    "        lm_range = [-0.7,0.15]\n",
    "    else:\n",
    "        lm_range = [-1,0.2]\n",
    "    return lm_range"
   ]
  },
  {
   "cell_type": "code",
   "execution_count": null,
   "id": "rOP5W2Ol4hOw",
   "metadata": {
    "colab": {
     "base_uri": "https://localhost:8080/",
     "height": 49,
     "referenced_widgets": [
      "372f9e002998438180f7992e892f0477",
      "91901256cd8044b78b8ef6c94d6f6e57",
      "c8c9805e891b4934a2a58c9ef25b27dc",
      "08a52c4558894eaeb4f72e78b5253836",
      "752fef14669f4c8680577889f93254ff",
      "5690cade9d204d6ab6c32c5ffa91f846",
      "8d29654f2b324ff28f4547ccf0a8f6d5",
      "a89c7932b4e94a58ae2fac18ac13e696",
      "92f502882fbe4fb0b9cef76931fb1053",
      "ffc75be92356452cbcfdb3d7b6cd1975",
      "267cc54bf07f47f8986aeb37904f934d"
     ]
    },
    "id": "rOP5W2Ol4hOw",
    "outputId": "65626c0a-ebec-4be5-eae1-8e3dddc8c4da"
   },
   "outputs": [
    {
     "data": {
      "application/vnd.jupyter.widget-view+json": {
       "model_id": "372f9e002998438180f7992e892f0477",
       "version_major": 2,
       "version_minor": 0
      },
      "text/plain": [
       "iteration:   0%|          | 0/2 [00:00<?, ?it/s]"
      ]
     },
     "metadata": {},
     "output_type": "display_data"
    }
   ],
   "source": [
    "spx_prices = []\n",
    "spx_ivs = []\n",
    "spx_ivs_u = []\n",
    "spx_ivx_l = []\n",
    "epochs_iter = tqdm(spx_maturities, desc=\"iteration\", miniters=1)\n",
    "for i in epochs_iter:\n",
    "    lm_bd  = spx_lm_range_rule(i)\n",
    "    strikes = np.exp(np.linspace(lm_bd[0],lm_bd[1],30))*St\n",
    "    p_temp,_, iv_temp,iv_u_temp,iv_d_temp =  mc_polynomial_fwd_var_parametric(rho,H,eps_fixed,\n",
    "                                    i,a_k_part,a,b,c,St,strikes,n_steps,N_sims,w1)\n",
    "    spx_prices.append(p_temp)\n",
    "    spx_ivs.append(iv_temp)\n",
    "    spx_ivs_u.append(iv_u_temp)\n",
    "    spx_ivx_l.append(iv_d_temp)"
   ]
  },
  {
   "cell_type": "code",
   "execution_count": null,
   "id": "mWb-sDBq4hRI",
   "metadata": {
    "colab": {
     "base_uri": "https://localhost:8080/",
     "height": 260
    },
    "id": "mWb-sDBq4hRI",
    "outputId": "912cc4d2-c280-4585-a483-ce3bde2d7c5d"
   },
   "outputs": [
    {
     "data": {
      "image/png": "[encoded data removed]",
      "text/plain": [
       "<Figure size 648x432 with 2 Axes>"
      ]
     },
     "metadata": {
      "needs_background": "light"
     },
     "output_type": "display_data"
    }
   ],
   "source": [
    "plt.figure(1,figsize=(9,6))\n",
    "counter=1\n",
    "for i in spx_maturities:\n",
    "    plt.subplot(2,2,counter)\n",
    "    plt.suptitle('SPX implied volatility',fontsize=15)\n",
    "    if counter ==1:\n",
    "        plt.title('T = {} days'.format(int(np.round(i*365,0))),fontsize=13)\n",
    "    \n",
    "        lm_bd  = spx_lm_range_rule(i)\n",
    "        lms = np.linspace(lm_bd[0],lm_bd[1],30)\n",
    "        plt.plot(lms,spx_ivs[counter-1],'g')\n",
    "        plt.xlabel(\"log moneyness $\\log(K/S_0)$\",fontsize=12)\n",
    "    else:\n",
    "        plt.title('T = {} days'.format(int(np.round(i*365,0))),fontsize=13)\n",
    "    \n",
    "        lm_bd  = spx_lm_range_rule(i)\n",
    "        lms = np.linspace(lm_bd[0],lm_bd[1],30)\n",
    "        plt.plot(lms,spx_ivs[counter-1],'g')\n",
    "\n",
    "    counter+=1\n",
    "plt.tight_layout()\n",
    "plt.show()"
   ]
  },
  {
   "cell_type": "code",
   "execution_count": null,
   "id": "blrOlWgy4Pa9",
   "metadata": {
    "id": "blrOlWgy4Pa9"
   },
   "outputs": [],
   "source": [
    "lm_vix = np.linspace(-0.1,1.3,50)\n",
    "vix_strike_perc = np.exp(lm_vix)"
   ]
  },
  {
   "cell_type": "code",
   "execution_count": null,
   "id": "q5FvoKfN40M8",
   "metadata": {
    "colab": {
     "base_uri": "https://localhost:8080/",
     "height": 49,
     "referenced_widgets": [
      "271a4c7c5896498ab38e9e24ac4899bf",
      "61647883e83d47f79789eedf37ebae7d",
      "8a8e8eb334d04526bab36fac13135e33",
      "d19fc5e1e1bd4d0dbf8079df9b2b116d",
      "c0b2c26b239a41ed8b194e2320dba39d",
      "81fe830cd1e94fc3a8e0c966788b7d51",
      "35279a5e393b486090fc044087051828",
      "9451a32a21b24c8aacbea214afa05c14",
      "bed929aa9905413f95e29b3ac69d8fbb",
      "dbb2e51c32d54141a3bdd54afab13a7a",
      "d15ff21a2ca2457b822da2df1e8ca826"
     ]
    },
    "id": "q5FvoKfN40M8",
    "outputId": "0b8fd99c-26e4-40d9-fb9d-61c0316c4170"
   },
   "outputs": [
    {
     "data": {
      "application/vnd.jupyter.widget-view+json": {
       "model_id": "271a4c7c5896498ab38e9e24ac4899bf",
       "version_major": 2,
       "version_minor": 0
      },
      "text/plain": [
       "iteration:   0%|          | 0/1 [00:00<?, ?it/s]"
      ]
     },
     "metadata": {},
     "output_type": "display_data"
    }
   ],
   "source": [
    "vix_futs = []\n",
    "vix_opts = []\n",
    "vix_ivs = []\n",
    "epochs_iter = tqdm(vix_maturities, desc=\"iteration\", miniters=1)\n",
    "for i in epochs_iter:\n",
    "    vix_fut_temp, vix_opt_temp, vix_iv_temp = vix_all_integration_poly_fast_revert_model_parametric(H,eps_fixed,\n",
    "                                        i,a_k_part,a,b,c,x_org_vix,w_org_vix,vix_strike_perc)\n",
    "    vix_futs.append(vix_fut_temp)\n",
    "    vix_opts.append(vix_opt_temp)\n",
    "    vix_ivs.append(vix_iv_temp)"
   ]
  },
  {
   "cell_type": "code",
   "execution_count": null,
   "id": "UBqHjk8Q40P2",
   "metadata": {
    "colab": {
     "base_uri": "https://localhost:8080/",
     "height": 258
    },
    "id": "UBqHjk8Q40P2",
    "outputId": "951af835-f34f-4875-97d2-3850394cfe07"
   },
   "outputs": [
    {
     "data": {
      "image/png": "[encoded data removed]",
      "text/plain": [
       "<Figure size 864x432 with 1 Axes>"
      ]
     },
     "metadata": {
      "needs_background": "light"
     },
     "output_type": "display_data"
    }
   ],
   "source": [
    "plt.figure(1,figsize=(12,6))\n",
    "counter=1\n",
    "plt.suptitle('VIX implied volatility',fontsize=15)\n",
    "for i in vix_maturities:\n",
    "    plt.subplot(2,3,counter)\n",
    "    plt.title('T = {} days'.format(int(np.round(i*365,0))),fontsize=13)\n",
    "\n",
    "    plt.plot(vix_strike_perc*vix_futs[counter-1],vix_ivs[counter-1],'g', label = 'VIX iv')\n",
    "    plt.axvline(x = vix_futs[counter-1], color = 'green', label = 'VIX future calibration')\n",
    "    #plt.legend()\n",
    "    if counter ==1:\n",
    "        plt.xlabel(\"strike\",fontsize=12)\n",
    "    counter+=1\n",
    "plt.tight_layout()\n",
    "#plt.savefig('calibration_vix_time_dependent.jpg', dpi=200)\n",
    "plt.show()"
   ]
  },
  {
   "cell_type": "markdown",
   "id": "3suUkPy45FkO",
   "metadata": {
    "id": "3suUkPy45FkO"
   },
   "source": [
    "# 6. The time dependent quintic Ornstein-Uhlenbeck volatility model"
   ]
  },
  {
   "cell_type": "markdown",
   "id": "G5KsgHyQ5M5E",
   "metadata": {
    "id": "G5KsgHyQ5M5E"
   },
   "source": [
    "Here we make H time dependent as:\n",
    "  \\begin{aligned}\n",
    "  H(t) = H_0e^{-\\kappa t} + H_{∞}(1-e^{-\\kappa t})\\\\\n",
    "  \\end{aligned}\n",
    "with $H_0,H_{∞},\\kappa>0$. $X$ remains a Markovian OU process with time dependent vol of vol and mean reversion characterized by $H(t)$"
   ]
  },
  {
   "cell_type": "code",
   "execution_count": null,
   "id": "tZNEmJzh40Uo",
   "metadata": {
    "id": "tZNEmJzh40Uo"
   },
   "outputs": [],
   "source": [
    "#used to estimate integral of type \\int_0^T f(t)e^{g(t)}dt with f(t) and g(t) derived from time dependent H parametrization\n",
    "x_org_h, w_org_h = np.polynomial.legendre.leggauss(100)"
   ]
  },
  {
   "cell_type": "code",
   "execution_count": null,
   "id": "RVw2hQhm40XV",
   "metadata": {
    "id": "RVw2hQhm40XV"
   },
   "outputs": [],
   "source": [
    "def mc_polynomial_fwd_var_time_dependent_H(rho,H_0,H_inf,H_mr,eps,T,a_k_part,S0,strike_array,n_steps,N_sims,fv_nodes,T_array_nodes,w1,compute_iv = True):\n",
    "    \n",
    "    spine_k_order = 3\n",
    "    \n",
    "    a2,a4 = (0,0)\n",
    "    a0,a1,a3,a5 = a_k_part\n",
    "    a_k = np.array([a0,a1,a2,a3,a4,a5])\n",
    "\n",
    "    dt = T/n_steps\n",
    "    tt = np.linspace(0., T, n_steps + 1)\n",
    "    \n",
    "    \n",
    "    exp1 = np.exp(1/(2*eps)*tt-1/eps*(H_0/H_mr*(1-np.exp(-H_mr*tt))+H_inf*tt-H_inf/H_mr*(1-np.exp(-H_mr*tt))))\n",
    "    tt_diff = 0.5*(x_org_h + 1)*(tt[1:]-tt[:-1]).reshape(-1,1)+tt[:-1].reshape(-1,1)   #gaussian qaudrature nodes\n",
    "    w_diff = w_org_h/2*(tt[1:]-tt[:-1]).reshape(-1,1)    #gaussian quadrature weights\n",
    "    kappa_tild_diff = 1/(2*eps)*tt_diff-1/eps*(H_0/H_mr*(1-np.exp(-H_mr*tt_diff))+\\\n",
    "                            H_inf*tt_diff-H_inf/H_mr*(1-np.exp(-H_mr*tt_diff)))\n",
    "    H_diff = H_0*np.exp(-H_mr*tt_diff)+H_inf*(1-np.exp(-H_mr*tt_diff))\n",
    "    eta_tild_diff = eps**(H_diff-0.5)\n",
    "    \n",
    "    var_diff = np.sum(eta_tild_diff**2*np.exp(2*kappa_tild_diff)*w_diff,axis=1)\n",
    "    var_diff = np.concatenate((np.array([0.]),var_diff))\n",
    "    std_vec_diff = np.sqrt(var_diff)[:,np.newaxis] #to be broadcasted columnwise \n",
    "    std_X_t = np.sqrt(np.cumsum(var_diff))/exp1\n",
    "    \n",
    "    Xt = (1/exp1[:,np.newaxis])*(np.cumsum(std_vec_diff*w1, axis = 0)) \n",
    "    Xt = np.array(Xt[:-1])\n",
    "    \n",
    "    tt = tt[:-1]\n",
    "    std_X_t = std_X_t[:-1]\n",
    "\n",
    "    n = len(a_k)\n",
    "    \n",
    "    cauchy_product = np.convolve(a_k,a_k)\n",
    "    normal_var = np.sum(cauchy_product[np.arange(0,2*n,2)].reshape(-1,1)*std_X_t**(np.arange(0,2*n,2).reshape(-1,1))*\\\n",
    "        scipy.special.factorial2(np.arange(0,2*n,2).reshape(-1,1)-1),axis=0)\n",
    "    \n",
    "    f_func = horner_vector(a_k[::-1], len(a_k), Xt)\n",
    "        \n",
    "    del Xt\n",
    "    \n",
    "    fv_var_curve_spline_sqrt = interpolate.splrep(T_array_nodes, np.sqrt(fv_nodes),k=spine_k_order)\n",
    "    fv_curve = (interpolate.splev(tt, fv_var_curve_spline_sqrt, der=0).reshape(-1,1))**2    \n",
    "\n",
    "    volatility = f_func/np.sqrt(normal_var.reshape(-1,1))\n",
    "    del f_func\n",
    "    volatility = np.sqrt(fv_curve)*volatility\n",
    "    \n",
    "    logS1 = log(S0)\n",
    "    for i in range(w1.shape[0]-1):\n",
    "        logS1 = logS1-0.5*dt*(volatility[i]*rho)**2+sqrt(dt)*rho*volatility[i]*w1[i+1]\n",
    "    del w1\n",
    "    ST1 = np.exp(logS1)\n",
    "    del logS1    \n",
    "\n",
    "    int_var = np.sum(volatility[:-1,]**2*dt,axis=0)\n",
    "    Q = np.max(int_var)+1e-9\n",
    "    del volatility\n",
    "    X = (bs_price_call(ST1,np.sqrt((1-rho**2)*int_var/T),T,strike_array.reshape(-1,1))).T\n",
    "    Y = (bs_price_call(ST1,np.sqrt(rho**2*(Q-int_var)/T),T,strike_array.reshape(-1,1))).T\n",
    "    del int_var\n",
    "    eY = (bs_price_call(S0,np.sqrt(rho**2*(Q)/T),T,strike_array.reshape(-1,1))).T\n",
    "    \n",
    "    c = []\n",
    "    for i in range(strike_array.shape[0]):\n",
    "        cova = np.cov(X[:,i]+10,Y[:,i]+10)[0,1]\n",
    "        varg = np.cov(X[:,i]+10,Y[:,i]+10)[1,1]\n",
    "        if (cova or varg)<1e-8:\n",
    "            temp = 1e-40\n",
    "        else:\n",
    "            temp = np.nan_to_num(cova/varg,1e-40)\n",
    "        temp = np.minimum(temp,2)\n",
    "        c.append(temp)\n",
    "    c = np.array(c)\n",
    "    \n",
    "    call_mc_cv1 = X-c*(Y-eY)\n",
    "    del X\n",
    "    del Y\n",
    "    del eY\n",
    "    p_mc_cv1 = np.average(call_mc_cv1,axis=0)\n",
    "    std_mc_cv1 = np.std(call_mc_cv1,axis=0)\n",
    "    \n",
    "    if compute_iv:\n",
    "        flag = 'c'\n",
    "        imp_mc = vec_find_vol_rat(p_mc_cv1, S0, strike_array, T, 0.0, flag)\n",
    "        imp_mc_upper = vec_find_vol_rat(p_mc_cv1 + 1.96*std_mc_cv1/(np.sqrt(2*N_sims)), S0, strike_array, T, 0.0, flag)\n",
    "        imp_mc_lower = vec_find_vol_rat(p_mc_cv1 - 1.96*std_mc_cv1/(np.sqrt(2*N_sims)), S0, strike_array, T, 0.0, flag)\n",
    "        \n",
    "        return p_mc_cv1, std_mc_cv1, imp_mc, imp_mc_upper, imp_mc_lower\n",
    "    \n",
    "    else:\n",
    "        return p_mc_cv1,std_mc_cv1"
   ]
  },
  {
   "cell_type": "code",
   "execution_count": null,
   "id": "X3bJfnJw40Zo",
   "metadata": {
    "id": "X3bJfnJw40Zo"
   },
   "outputs": [],
   "source": [
    "n_steps = 200\n",
    "N_sims = 10000\n",
    "np.random.seed(42)\n",
    "w1_orig=gen_bm_path(n_steps,N_sims)\n",
    "w1 = np.concatenate((np.zeros(w1_orig.shape[1])[np.newaxis,:],w1_orig))"
   ]
  },
  {
   "cell_type": "code",
   "execution_count": null,
   "id": "bIw2dsx740dH",
   "metadata": {
    "id": "bIw2dsx740dH"
   },
   "outputs": [],
   "source": [
    "rho=-0.6997\n",
    "eps = 1/52\n",
    "H_0 = -0.26939\n",
    "H_inf = 0.3\n",
    "H_mr = 4"
   ]
  },
  {
   "cell_type": "code",
   "execution_count": null,
   "id": "gKA14u3Y40g7",
   "metadata": {
    "id": "gKA14u3Y40g7"
   },
   "outputs": [],
   "source": [
    "S0 = 100\n",
    "T = 1/12\n",
    "lm = np.linspace(-0.2,0.05,30)\n",
    "#lm = np.linspace(-0.6,0.2,30)\n",
    "#lm = np.linspace(-1,0.2,30)\n",
    "strike_array = np.exp(lm)*S0\n",
    "a_k_part = np.array([0.01,1,0.2,0.05])\n",
    "a_k_part = [0.82695, 0.84388, 0.55012, 0.03271]\n",
    "#a_k_part = np.array([0.00001,1,0,0])"
   ]
  },
  {
   "cell_type": "code",
   "execution_count": null,
   "id": "JvDMq_5C40jS",
   "metadata": {
    "id": "JvDMq_5C40jS"
   },
   "outputs": [],
   "source": [
    "T_array_nodes = np.array([0,0.03,1/12,2/12,3/12,6/12,12/12,24/12])\n",
    "fv_nodes = np.ones_like(T_array_nodes)*0.03   #fix fwd variance at 0.02\n",
    "#fv_nodes = np.array([0.012,0.018,0.035,0.026,0.027,0.019,0.025,0.025])"
   ]
  },
  {
   "cell_type": "code",
   "execution_count": null,
   "id": "JkPsEs5m40mJ",
   "metadata": {
    "id": "JkPsEs5m40mJ"
   },
   "outputs": [],
   "source": [
    "p_mc_H, std_mc_H, imp_mc_H, imp_mc_upper_H, imp_mc_lower_H = mc_polynomial_fwd_var_time_dependent_H(rho,H_0,H_inf,H_mr,eps,T,a_k_part,S0,strike_array,n_steps,N_sims,fv_nodes,T_array_nodes,w1)"
   ]
  },
  {
   "cell_type": "code",
   "execution_count": null,
   "id": "x1qoDH2b40oh",
   "metadata": {
    "id": "x1qoDH2b40oh"
   },
   "outputs": [],
   "source": [
    "%%timeit\n",
    "mc_polynomial_fwd_var_time_dependent_H(rho,H_0,H_inf,H_mr,eps,T,a_k_part,S0,strike_array,n_steps,N_sims,fv_nodes,T_array_nodes,w1,compute_iv = False)"
   ]
  },
  {
   "cell_type": "code",
   "execution_count": null,
   "id": "Qk-ldVvU40q3",
   "metadata": {
    "colab": {
     "base_uri": "https://localhost:8080/",
     "height": 265
    },
    "id": "Qk-ldVvU40q3",
    "outputId": "49919a85-1de7-40fd-c769-5b41be22665b"
   },
   "outputs": [
    {
     "data": {
      "image/png": "[encoded data removed]",
      "text/plain": [
       "<Figure size 432x288 with 1 Axes>"
      ]
     },
     "metadata": {
      "needs_background": "light"
     },
     "output_type": "display_data"
    }
   ],
   "source": [
    "plt.plot(lm,imp_mc_H)\n",
    "plt.plot(lm,imp_mc_upper_H,'--g')\n",
    "plt.plot(lm,imp_mc_lower_H,'--g')\n",
    "plt.show()"
   ]
  },
  {
   "cell_type": "code",
   "execution_count": null,
   "id": "hcFea9YX40tW",
   "metadata": {
    "id": "hcFea9YX40tW"
   },
   "outputs": [],
   "source": []
  },
  {
   "cell_type": "code",
   "execution_count": null,
   "id": "i1bT8OqS40vv",
   "metadata": {
    "id": "i1bT8OqS40vv"
   },
   "outputs": [],
   "source": [
    "#gaussian quadrature\n",
    "deg_vix = 400\n",
    "x_org_vix, w_org_vix = np.polynomial.legendre.leggauss(deg_vix)\n",
    "lb_vix = -8\n",
    "ub_vix = 8"
   ]
  },
  {
   "cell_type": "code",
   "execution_count": null,
   "id": "ZiJyHnCO4Pfe",
   "metadata": {
    "id": "ZiJyHnCO4Pfe"
   },
   "outputs": [],
   "source": [
    "#even faster computation of vix!\n",
    "def gauss_dens(mu,sigma,x):\n",
    "    return 1/np.sqrt(2*pi*sigma**2)*np.exp(-(x-mu)**2/(2*sigma**2))\n",
    "def vix_all_integration_poly_fast_revert_model_H_time_dependent(H_0,H_inf,H_mr,eps,T,a_k_part,x_org_vix,w_org_vix,vix_strike_perc,fv_nodes,T_array_nodes,n_steps = 200,compute_iv = True):\n",
    "    spine_k_order = 3\n",
    "\n",
    "    a2,a4 = (0,0)\n",
    "    a0,a1,a3,a5 = a_k_part\n",
    "    a_k = np.array([a0,a1,a2,a3,a4,a5])\n",
    "    delt = 30/360\n",
    "    T_delta = T+delt\n",
    "    \n",
    "    w=w_org_vix/2*(ub_vix-lb_vix)\n",
    "    y = (ub_vix-lb_vix)/2*x_org_vix + (ub_vix+lb_vix)/2\n",
    "    dt = delt/(n_steps)\n",
    "    tt = np.linspace(T, T_delta, n_steps+1)\n",
    "    \n",
    "    kappa_tild_XT_std = 1/(2*eps)*T-1/eps*(H_0/H_mr*(1-np.exp(-H_mr*T))+\\\n",
    "                            H_inf*T-H_inf/H_mr*(1-np.exp(-H_mr*T)))\n",
    "    kappa_tild_det = 1/(2*eps)*tt-1/eps*(H_0/H_mr*(1-np.exp(-H_mr*tt))+\\\n",
    "                            H_inf*tt-H_inf/H_mr*(1-np.exp(-H_mr*tt)))\n",
    "    exp_det = np.exp((-kappa_tild_det+kappa_tild_XT_std))\n",
    "    \n",
    "    w_ttt =w_org_h/2*tt.reshape(-1,1)\n",
    "    ttt = 0.5*(x_org_h + 1)*tt.reshape(-1,1)\n",
    "    kappa_tild_Xuu_std = 1/(2*eps)*ttt-1/eps*(H_0/H_mr*(1-np.exp(-H_mr*ttt))+\\\n",
    "                            H_inf*ttt-H_inf/H_mr*(1-np.exp(-H_mr*ttt)))\n",
    "    H_Xuu_std = H_0*np.exp(-H_mr*ttt)+H_inf*(1-np.exp(-H_mr*ttt))\n",
    "    eta_tild_Xuu_std = eps**(H_Xuu_std-0.5)\n",
    "    kappa_tild_Xu_std = 1/(2*eps)*tt-1/eps*(H_0/H_mr*(1-np.exp(-H_mr*tt))+\\\n",
    "                            H_inf*tt-H_inf/H_mr*(1-np.exp(-H_mr*tt)))\n",
    "    std_X_u = np.sqrt(np.exp(-2*kappa_tild_Xu_std)*np.sum(np.exp(2*kappa_tild_Xuu_std)*eta_tild_Xuu_std**2*w_ttt,axis=1))\n",
    "    std_X_T = std_X_u[0]\n",
    "    \n",
    "    tt_diff = 0.5*(x_org_h + 1)*(tt-T).reshape(-1,1)+T\n",
    "    w_diff = w_org_h/2*(tt-T).reshape(-1,1)\n",
    "    kappa_tild_diff = 1/(2*eps)*tt_diff-1/eps*(H_0/H_mr*(1-np.exp(-H_mr*tt_diff))+\\\n",
    "                            H_inf*tt_diff-H_inf/H_mr*(1-np.exp(-H_mr*tt_diff)))\n",
    "    H_diff = H_0*np.exp(-H_mr*tt_diff)+H_inf*(1-np.exp(-H_mr*tt_diff))\n",
    "    eta_tild_diff = eps**(H_diff-0.5)\n",
    "    std_Gs_T = np.sum((np.exp(2*kappa_tild_diff)*eta_tild_diff**2)*w_diff,axis=1)\n",
    "    std_Gs_T = np.sqrt(np.exp(-2*kappa_tild_Xu_std)*std_Gs_T)\n",
    "\n",
    "    cauchy_product = np.convolve(a_k,a_k)\n",
    "    n = len(a_k)\n",
    "    \n",
    "    normal_var = np.sum(cauchy_product[np.arange(0,2*n,2)].reshape(-1,1)*std_X_u**(np.arange(0,2*n,2).reshape(-1,1))*\\\n",
    "    scipy.special.factorial2(np.arange(0,2*n,2).reshape(-1,1)-1),axis=0)\n",
    "    \n",
    "    fv_var_curve_spline_sqrt = interpolate.splrep(T_array_nodes, np.sqrt(fv_nodes),k=spine_k_order)\n",
    "    FV_curve_all_vix = interpolate.splev(tt, fv_var_curve_spline_sqrt, der=0)**2\n",
    "    \n",
    "    beta = []\n",
    "    for i in range(0,2*n-1):\n",
    "        k_array = np.arange(i,2*n-1)\n",
    "        beta_temp = ((std_Gs_T**((k_array-i).reshape(-1,1))*((k_array-i-1)%2).reshape(-1,1)*\\\n",
    "            scipy.special.factorial2(k_array-i-1).reshape(-1,1)*\\\n",
    "            (scipy.special.comb(k_array,i)).reshape(-1,1))*\\\n",
    "            exp_det**(i))*cauchy_product[k_array].reshape(-1,1)\n",
    "        beta.append(np.sum(beta_temp,axis=0))\n",
    "    beta = np.array(beta)*FV_curve_all_vix/normal_var\n",
    "    \n",
    "    beta = (np.sum((beta[:,:-1]+beta[:,1:])/2,axis=1))*dt\n",
    "    vix_T = np.sqrt(horner_vector(beta[::-1], len(beta), std_X_T*y.reshape(1,-1))/delt)\n",
    "    density = gauss_dens(0.0,1,y)\n",
    "    Ft = np.sum(density*vix_T*w)\n",
    "    vix_strike = Ft*vix_strike_perc\n",
    "    option_prices = np.sum(density*np.maximum(vix_T-vix_strike.reshape(-1,1),0)*w,axis=1)\n",
    "    \n",
    "    if compute_iv:\n",
    "        flag = 'c'\n",
    "        imp_vol = vec_find_vol_rat(option_prices, Ft, vix_strike_perc*Ft, T, 0.0, flag)\n",
    "        return Ft*100,option_prices*100,imp_vol\n",
    "    else:\n",
    "        return Ft*100,option_prices*100"
   ]
  },
  {
   "cell_type": "code",
   "execution_count": null,
   "id": "k4H3Jf8T7ArQ",
   "metadata": {
    "id": "k4H3Jf8T7ArQ"
   },
   "outputs": [],
   "source": [
    "lm_vix = np.linspace(-0.1,1,50)\n",
    "vix_strike_perc = np.exp(lm_vix)"
   ]
  },
  {
   "cell_type": "code",
   "execution_count": null,
   "id": "2Kqn27007AuU",
   "metadata": {
    "id": "2Kqn27007AuU"
   },
   "outputs": [],
   "source": [
    "vix_fut_H,vix_call_H,vix_iv_H = vix_all_integration_poly_fast_revert_model_H_time_dependent(H_0,H_inf, H_mr,eps,T,a_k_part,x_org_vix,w_org_vix,vix_strike_perc,fv_nodes,T_array_nodes)"
   ]
  },
  {
   "cell_type": "code",
   "execution_count": null,
   "id": "jecSznbU7Aw9",
   "metadata": {
    "id": "jecSznbU7Aw9"
   },
   "outputs": [],
   "source": [
    "%%timeit\n",
    "vix_all_integration_poly_fast_revert_model_H_time_dependent(H_0,H_inf, H_mr,eps,T,a_k_part,x_org_vix,w_org_vix,vix_strike_perc,fv_nodes,T_array_nodes,compute_iv = False)"
   ]
  },
  {
   "cell_type": "code",
   "execution_count": null,
   "id": "_KN4s38x7Azp",
   "metadata": {
    "colab": {
     "base_uri": "https://localhost:8080/",
     "height": 265
    },
    "id": "_KN4s38x7Azp",
    "outputId": "381799d9-1c8e-4648-ea46-16a1363425c8"
   },
   "outputs": [
    {
     "data": {
      "image/png": "[encoded data removed]",
      "text/plain": [
       "<Figure size 432x288 with 1 Axes>"
      ]
     },
     "metadata": {
      "needs_background": "light"
     },
     "output_type": "display_data"
    }
   ],
   "source": [
    "plt.plot(vix_strike_perc*vix_fut_H, vix_iv_H, label = 'VIX iv')\n",
    "plt.axvline(x = vix_fut_H, color = 'black', label = 'VIX future')\n",
    "plt.legend()\n",
    "plt.show()"
   ]
  },
  {
   "cell_type": "code",
   "execution_count": null,
   "id": "mR9ouIc_7A2O",
   "metadata": {
    "id": "mR9ouIc_7A2O"
   },
   "outputs": [],
   "source": []
  },
  {
   "cell_type": "markdown",
   "id": "u6-l56787TgS",
   "metadata": {
    "id": "u6-l56787TgS"
   },
   "source": [
    "#7. Calibration results: based on the joint vol surface on 23/10/2017"
   ]
  },
  {
   "cell_type": "code",
   "execution_count": null,
   "id": "80XLhgT77A5B",
   "metadata": {
    "id": "80XLhgT77A5B"
   },
   "outputs": [],
   "source": [
    "rho,H_0, H_inf, H_mr,eps = (-7.46560529e-01,  3.17620635e-01, -1.36650102e+00,  1.19935418e+01,\n",
    "        1.35941796e-01)\n",
    "a_k_part = np.array([1.00000000e-10,  2.66441061e-02,  2.51336785e-01,\n",
    "        5.87934269e-05])\n",
    "fvc = np.array([0.01031423, 0.01107315, 0.01234894, 0.01404261, 0.01595505,\n",
    "       0.01783993, 0.02130452, 0.02413495, 0.02455308, 0.02683603,\n",
    "       0.02818511, 0.03133947, 0.03852319, 0.03261153, 0.03186])\n",
    "T_array_nodes = np.array([0., 0.03285488, 0.05612709, 0.08761302, 0.12594372,\n",
    "       0.19302244, 0.25736326, 0.29569396, 0.33402465, 0.37235535,\n",
    "       0.412055  , 0.53662977, 0.77756559, 1.0362978 , 1.16      ])\n",
    "St = 100"
   ]
  },
  {
   "cell_type": "code",
   "execution_count": null,
   "id": "9hFi-Dps7A7h",
   "metadata": {
    "id": "9hFi-Dps7A7h"
   },
   "outputs": [],
   "source": [
    "spx_maturities = np.array([0.03011698, 0.08213721, 0.18343977, 0.24093582, 0.68173884,\n",
    "       1.16087257])\n",
    "vix_maturities = np.array([0.02464116, 0.08213721, 0.15879861, 0.23546   , 0.3121214 ,\n",
    "       0.40794814])"
   ]
  },
  {
   "cell_type": "code",
   "execution_count": null,
   "id": "GPZvrs1P7A-U",
   "metadata": {
    "id": "GPZvrs1P7A-U"
   },
   "outputs": [],
   "source": [
    "n_steps = 400\n",
    "N_sims = 10000\n",
    "np.random.seed(42)\n",
    "w1_orig=gen_bm_path(n_steps,N_sims)\n",
    "w1 = np.concatenate((np.zeros(w1_orig.shape[1])[np.newaxis,:],w1_orig))"
   ]
  },
  {
   "cell_type": "code",
   "execution_count": null,
   "id": "pZalKMHh7BBE",
   "metadata": {
    "id": "pZalKMHh7BBE"
   },
   "outputs": [],
   "source": [
    "def spx_lm_range_rule(T_mat):\n",
    "    if T_mat<2/52:\n",
    "        lm_range = [-0.15,0.03]\n",
    "    elif T_mat <1/12:\n",
    "        lm_range = [-0.25,0.05]\n",
    "    elif T_mat < 2/12:\n",
    "        lm_range = [-0.4,0.1]\n",
    "    elif T_mat < 3/12:\n",
    "        lm_range = [-0.6,0.1]\n",
    "    elif T_mat < 6/12:\n",
    "        lm_range = [-0.7,0.15]\n",
    "    else:\n",
    "        lm_range = [-1,0.2]\n",
    "    return lm_range"
   ]
  },
  {
   "cell_type": "code",
   "execution_count": null,
   "id": "xpmw_DRl7BDb",
   "metadata": {
    "colab": {
     "base_uri": "https://localhost:8080/",
     "height": 49,
     "referenced_widgets": [
      "8b230c844df0468cac1aecb91310a200",
      "9fb1efaf6a6544d5870b78166fae646f",
      "711c26db32cb4b10a20616f277355787",
      "e7303e3d288144e19676b0939290b622",
      "8670fb2105dd4b0e93e970ad4bc70ec8",
      "5103951d8e8345819034172492804f48",
      "6099a5cb82a7499094b6342b610c28fe",
      "6cbe2064ad2047d6a600d1e66f7a8cbf",
      "9c6305700b9440fb8c26e1ccf6af3efc",
      "9cec64037e4f4d9ab70d028965273f01",
      "9c6d5beb9097450abb2a11cac2646409"
     ]
    },
    "id": "xpmw_DRl7BDb",
    "outputId": "f832cc41-cc11-49a4-e11a-a1e339241251"
   },
   "outputs": [
    {
     "data": {
      "application/vnd.jupyter.widget-view+json": {
       "model_id": "8b230c844df0468cac1aecb91310a200",
       "version_major": 2,
       "version_minor": 0
      },
      "text/plain": [
       "iteration:   0%|          | 0/6 [00:00<?, ?it/s]"
      ]
     },
     "metadata": {},
     "output_type": "display_data"
    }
   ],
   "source": [
    "spx_prices = []\n",
    "spx_ivs = []\n",
    "spx_ivs_u = []\n",
    "spx_ivx_l = []\n",
    "epochs_iter = tqdm(spx_maturities, desc=\"iteration\", miniters=1)\n",
    "for i in epochs_iter:\n",
    "    lm_bd  = spx_lm_range_rule(i)\n",
    "    strikes = np.exp(np.linspace(lm_bd[0],lm_bd[1],30))*St\n",
    "    p_temp,_, iv_temp,iv_u_temp,iv_d_temp =  mc_polynomial_fwd_var_time_dependent_H(rho,H_0,H_inf,H_mr,eps,\n",
    "                                    i,a_k_part,St,strikes,n_steps,N_sims,fvc,T_array_nodes,w1)\n",
    "    spx_prices.append(p_temp)\n",
    "    spx_ivs.append(iv_temp)\n",
    "    spx_ivs_u.append(iv_u_temp)\n",
    "    spx_ivx_l.append(iv_d_temp)"
   ]
  },
  {
   "cell_type": "code",
   "execution_count": null,
   "id": "8gkB4IZ97BIJ",
   "metadata": {
    "colab": {
     "base_uri": "https://localhost:8080/",
     "height": 443
    },
    "id": "8gkB4IZ97BIJ",
    "outputId": "d62b365f-2d0e-4971-d533-489ef0822b3d"
   },
   "outputs": [
    {
     "data": {
      "image/png": "[encoded data removed]",
      "text/plain": [
       "<Figure size 864x432 with 6 Axes>"
      ]
     },
     "metadata": {
      "needs_background": "light"
     },
     "output_type": "display_data"
    }
   ],
   "source": [
    "plt.figure(1,figsize=(12,6))\n",
    "counter=1\n",
    "for i in spx_maturities:\n",
    "    plt.subplot(2,3,counter)\n",
    "    plt.suptitle('SPX implied volatility',fontsize=15)\n",
    "    if counter ==1:\n",
    "        plt.title('T = {} days'.format(int(np.round(i*365,0))),fontsize=13)\n",
    "    \n",
    "        lm_bd  = spx_lm_range_rule(i)\n",
    "        lms = np.linspace(lm_bd[0],lm_bd[1],30)\n",
    "        plt.plot(lms,spx_ivs[counter-1],'g')\n",
    "        plt.xlabel(\"log moneyness $\\log(K/S_0)$\",fontsize=12)\n",
    "    else:\n",
    "        plt.title('T = {} days'.format(int(np.round(i*365,0))),fontsize=13)\n",
    "    \n",
    "        lm_bd  = spx_lm_range_rule(i)\n",
    "        lms = np.linspace(lm_bd[0],lm_bd[1],30)\n",
    "        plt.plot(lms,spx_ivs[counter-1],'g')\n",
    "\n",
    "    counter+=1\n",
    "plt.tight_layout()\n",
    "plt.show()"
   ]
  },
  {
   "cell_type": "code",
   "execution_count": null,
   "id": "pSg71x027BNG",
   "metadata": {
    "id": "pSg71x027BNG"
   },
   "outputs": [],
   "source": [
    "lm_vix = np.linspace(-0.1,1,50)\n",
    "vix_strike_perc = np.exp(lm_vix)"
   ]
  },
  {
   "cell_type": "code",
   "execution_count": null,
   "id": "8cLMVU8Y7BPi",
   "metadata": {
    "colab": {
     "base_uri": "https://localhost:8080/",
     "height": 49,
     "referenced_widgets": [
      "8d79618dfb9543aab31a74b1ea2cd08e",
      "775e826a418f4957a6ec96717f63e56f",
      "794be3316063473a94a65c89fb324edb",
      "0fa5d98755f148c19f8f73f14a2173c6",
      "13e19e28b2d445cf81852250bae6bf3e",
      "fcc23bd2fb1d4f3085bb3b25fa918660",
      "4dddfb9ab7d04bcd955e3d74bd122597",
      "69661f3190c947cba2a7751389e63713",
      "451204a0432e49e1862013d40d270da5",
      "091f1803e17846a19fdca24057fa7a6a",
      "c25eb4ceec114546bdf10a29dcd9bd43"
     ]
    },
    "id": "8cLMVU8Y7BPi",
    "outputId": "8b7491ae-865f-463e-db17-3c9a9751b508"
   },
   "outputs": [
    {
     "data": {
      "application/vnd.jupyter.widget-view+json": {
       "model_id": "8d79618dfb9543aab31a74b1ea2cd08e",
       "version_major": 2,
       "version_minor": 0
      },
      "text/plain": [
       "iteration:   0%|          | 0/6 [00:00<?, ?it/s]"
      ]
     },
     "metadata": {},
     "output_type": "display_data"
    }
   ],
   "source": [
    "vix_futs = []\n",
    "vix_opts = []\n",
    "vix_ivs = []\n",
    "epochs_iter = tqdm(vix_maturities, desc=\"iteration\", miniters=1)\n",
    "for i in epochs_iter:\n",
    "    vix_fut_temp, vix_opt_temp, vix_iv_temp = vix_all_integration_poly_fast_revert_model_H_time_dependent(H_0,H_inf,H_mr,eps,\n",
    "                                        i,a_k_part,x_org_vix,w_org_vix,vix_strike_perc,fvc,T_array_nodes)\n",
    "    vix_futs.append(vix_fut_temp)\n",
    "    vix_opts.append(vix_opt_temp)\n",
    "    vix_ivs.append(vix_iv_temp)"
   ]
  },
  {
   "cell_type": "code",
   "execution_count": null,
   "id": "DziQ13jg7BSI",
   "metadata": {
    "colab": {
     "base_uri": "https://localhost:8080/",
     "height": 443
    },
    "id": "DziQ13jg7BSI",
    "outputId": "4d36feb2-5eff-4447-b2c8-e055f45cc70f"
   },
   "outputs": [
    {
     "data": {
      "image/png": "[encoded data removed]",
      "text/plain": [
       "<Figure size 864x432 with 6 Axes>"
      ]
     },
     "metadata": {
      "needs_background": "light"
     },
     "output_type": "display_data"
    }
   ],
   "source": [
    "plt.figure(1,figsize=(12,6))\n",
    "counter=1\n",
    "plt.suptitle('VIX implied volatility',fontsize=15)\n",
    "for i in vix_maturities:\n",
    "    plt.subplot(2,3,counter)\n",
    "    plt.title('T = {} days'.format(int(np.round(i*365,0))),fontsize=13)\n",
    "\n",
    "    plt.plot(vix_strike_perc*vix_futs[counter-1],vix_ivs[counter-1],'g', label = 'VIX iv')\n",
    "    plt.axvline(x = vix_futs[counter-1], color = 'green', label = 'VIX future calibration')\n",
    "    #plt.legend()\n",
    "    if counter ==1:\n",
    "        plt.xlabel(\"strike\",fontsize=12)\n",
    "    counter+=1\n",
    "plt.tight_layout()\n",
    "#plt.savefig('calibration_vix_time_dependent.jpg', dpi=300)\n",
    "plt.show()"
   ]
  },
  {
   "cell_type": "code",
   "execution_count": null,
   "id": "hxoyR0R07BUb",
   "metadata": {
    "colab": {
     "base_uri": "https://localhost:8080/",
     "height": 193
    },
    "id": "hxoyR0R07BUb",
    "outputId": "eb1da7eb-32ad-459c-de5a-4b95138df814"
   },
   "outputs": [
    {
     "data": {
      "image/png": "[encoded data removed]",
      "text/plain": [
       "<Figure size 720x165.6 with 1 Axes>"
      ]
     },
     "metadata": {
      "needs_background": "light"
     },
     "output_type": "display_data"
    }
   ],
   "source": [
    "t_grids = np.linspace(0,T_array_nodes[-1],20000)\n",
    "spine_k_order = 3\n",
    "fv_var_graph = interpolate.splrep(T_array_nodes, np.sqrt(fvc),k=spine_k_order)\n",
    "fv_var_graph = (interpolate.splev(t_grids, fv_var_graph, der=0).reshape(-1,1))**2\n",
    "#shows what the Forward var \\xi_0(t) looks like between 0 to T\n",
    "plt.figure(1,figsize=(10,2.3))\n",
    "plt.title('Foward variance curve',y=1,fontsize=16)\n",
    "plt.plot(t_grids,fv_var_graph,'g--',label='forward curve after calib.')\n",
    "plt.plot(T_array_nodes,fvc,'o',c='green')\n",
    "plt.legend(loc='upper left')\n",
    "plt.tight_layout()\n",
    "plt.xlabel(\"time\",fontsize=14)\n",
    "#plt.savefig('fwd_var_curve_time_dependent.jpg', dpi=200)\n",
    "plt.show()"
   ]
  },
  {
   "cell_type": "code",
   "execution_count": null,
   "id": "SJTchzNB7iA4",
   "metadata": {
    "colab": {
     "base_uri": "https://localhost:8080/",
     "height": 193
    },
    "id": "SJTchzNB7iA4",
    "outputId": "8cc326ed-05ce-45d9-b3f7-629750a26d78"
   },
   "outputs": [
    {
     "data": {
      "image/png": "[encoded data removed]",
      "text/plain": [
       "<Figure size 720x165.6 with 1 Axes>"
      ]
     },
     "metadata": {
      "needs_background": "light"
     },
     "output_type": "display_data"
    }
   ],
   "source": [
    "plt.figure(1,figsize=(10,2.3))\n",
    "plt.title('Time dependent H',y=1,fontsize=16)\n",
    "plt.plot(t_grids,H_0*np.exp(-H_mr*t_grids)+H_inf*(1-np.exp(-H_mr*t_grids)))\n",
    "plt.tight_layout()\n",
    "plt.xlabel(\"time\",fontsize=14)\n",
    "#plt.savefig('time_dependent_H.jpg', dpi=200)\n",
    "plt.show()"
   ]
  }
 ],
 "metadata": {
  "colab": {
   "provenance": []
  },
  "kernelspec": {
   "display_name": "Python 3 (ipykernel)",
   "language": "python",
   "name": "python3"
  },
  "language_info": {
   "codemirror_mode": {
    "name": "ipython",
    "version": 3
   },
   "file_extension": ".py",
   "mimetype": "text/x-python",
   "name": "python",
   "nbconvert_exporter": "python",
   "pygments_lexer": "ipython3",
   "version": "3.9.7"
  },
  "widgets": {
   "application/vnd.jupyter.widget-state+json": {
    "03f1e7c739964c4ca5a6e576896617dc": {
     "model_module": "@jupyter-widgets/controls",
     "model_module_version": "1.5.0",
     "model_name": "HBoxModel",
     "state": {
      "_dom_classes": [],
      "_model_module": "@jupyter-widgets/controls",
      "_model_module_version": "1.5.0",
      "_model_name": "HBoxModel",
      "_view_count": null,
      "_view_module": "@jupyter-widgets/controls",
      "_view_module_version": "1.5.0",
      "_view_name": "HBoxView",
      "box_style": "",
      "children": [
       "IPY_MODEL_5c546dc0ce7b4adfa078308c963cf907",
       "IPY_MODEL_26eb1100a9274cf996634bb9a19384e8",
       "IPY_MODEL_ac7f96f2c7cc406dbb6f6738ff4d0d24"
      ],
      "layout": "IPY_MODEL_4df0292ae167431595340fa1289749fa"
     }
    },
    "08a52c4558894eaeb4f72e78b5253836": {
     "model_module": "@jupyter-widgets/controls",
     "model_module_version": "1.5.0",
     "model_name": "HTMLModel",
     "state": {
      "_dom_classes": [],
      "_model_module": "@jupyter-widgets/controls",
      "_model_module_version": "1.5.0",
      "_model_name": "HTMLModel",
      "_view_count": null,
      "_view_module": "@jupyter-widgets/controls",
      "_view_module_version": "1.5.0",
      "_view_name": "HTMLView",
      "description": "",
      "description_tooltip": null,
      "layout": "IPY_MODEL_ffc75be92356452cbcfdb3d7b6cd1975",
      "placeholder": "​",
      "style": "IPY_MODEL_267cc54bf07f47f8986aeb37904f934d",
      "value": " 2/2 [00:00&lt;00:00,  3.14it/s]"
     }
    },
    "091f1803e17846a19fdca24057fa7a6a": {
     "model_module": "@jupyter-widgets/base",
     "model_module_version": "1.2.0",
     "model_name": "LayoutModel",
     "state": {
      "_model_module": "@jupyter-widgets/base",
      "_model_module_version": "1.2.0",
      "_model_name": "LayoutModel",
      "_view_count": null,
      "_view_module": "@jupyter-widgets/base",
      "_view_module_version": "1.2.0",
      "_view_name": "LayoutView",
      "align_content": null,
      "align_items": null,
      "align_self": null,
      "border": null,
      "bottom": null,
      "display": null,
      "flex": null,
      "flex_flow": null,
      "grid_area": null,
      "grid_auto_columns": null,
      "grid_auto_flow": null,
      "grid_auto_rows": null,
      "grid_column": null,
      "grid_gap": null,
      "grid_row": null,
      "grid_template_areas": null,
      "grid_template_columns": null,
      "grid_template_rows": null,
      "height": null,
      "justify_content": null,
      "justify_items": null,
      "left": null,
      "margin": null,
      "max_height": null,
      "max_width": null,
      "min_height": null,
      "min_width": null,
      "object_fit": null,
      "object_position": null,
      "order": null,
      "overflow": null,
      "overflow_x": null,
      "overflow_y": null,
      "padding": null,
      "right": null,
      "top": null,
      "visibility": null,
      "width": null
     }
    },
    "0ae879920a6b4390b18de3189feb789f": {
     "model_module": "@jupyter-widgets/controls",
     "model_module_version": "1.5.0",
     "model_name": "DescriptionStyleModel",
     "state": {
      "_model_module": "@jupyter-widgets/controls",
      "_model_module_version": "1.5.0",
      "_model_name": "DescriptionStyleModel",
      "_view_count": null,
      "_view_module": "@jupyter-widgets/base",
      "_view_module_version": "1.2.0",
      "_view_name": "StyleView",
      "description_width": ""
     }
    },
    "0e370b5f6f9a4b439e225abb48c94f3d": {
     "model_module": "@jupyter-widgets/base",
     "model_module_version": "1.2.0",
     "model_name": "LayoutModel",
     "state": {
      "_model_module": "@jupyter-widgets/base",
      "_model_module_version": "1.2.0",
      "_model_name": "LayoutModel",
      "_view_count": null,
      "_view_module": "@jupyter-widgets/base",
      "_view_module_version": "1.2.0",
      "_view_name": "LayoutView",
      "align_content": null,
      "align_items": null,
      "align_self": null,
      "border": null,
      "bottom": null,
      "display": null,
      "flex": null,
      "flex_flow": null,
      "grid_area": null,
      "grid_auto_columns": null,
      "grid_auto_flow": null,
      "grid_auto_rows": null,
      "grid_column": null,
      "grid_gap": null,
      "grid_row": null,
      "grid_template_areas": null,
      "grid_template_columns": null,
      "grid_template_rows": null,
      "height": null,
      "justify_content": null,
      "justify_items": null,
      "left": null,
      "margin": null,
      "max_height": null,
      "max_width": null,
      "min_height": null,
      "min_width": null,
      "object_fit": null,
      "object_position": null,
      "order": null,
      "overflow": null,
      "overflow_x": null,
      "overflow_y": null,
      "padding": null,
      "right": null,
      "top": null,
      "visibility": null,
      "width": null
     }
    },
    "0fa5d98755f148c19f8f73f14a2173c6": {
     "model_module": "@jupyter-widgets/controls",
     "model_module_version": "1.5.0",
     "model_name": "HTMLModel",
     "state": {
      "_dom_classes": [],
      "_model_module": "@jupyter-widgets/controls",
      "_model_module_version": "1.5.0",
      "_model_name": "HTMLModel",
      "_view_count": null,
      "_view_module": "@jupyter-widgets/controls",
      "_view_module_version": "1.5.0",
      "_view_name": "HTMLView",
      "description": "",
      "description_tooltip": null,
      "layout": "IPY_MODEL_091f1803e17846a19fdca24057fa7a6a",
      "placeholder": "​",
      "style": "IPY_MODEL_c25eb4ceec114546bdf10a29dcd9bd43",
      "value": " 6/6 [00:00&lt;00:00, 61.32it/s]"
     }
    },
    "13e19e28b2d445cf81852250bae6bf3e": {
     "model_module": "@jupyter-widgets/base",
     "model_module_version": "1.2.0",
     "model_name": "LayoutModel",
     "state": {
      "_model_module": "@jupyter-widgets/base",
      "_model_module_version": "1.2.0",
      "_model_name": "LayoutModel",
      "_view_count": null,
      "_view_module": "@jupyter-widgets/base",
      "_view_module_version": "1.2.0",
      "_view_name": "LayoutView",
      "align_content": null,
      "align_items": null,
      "align_self": null,
      "border": null,
      "bottom": null,
      "display": null,
      "flex": null,
      "flex_flow": null,
      "grid_area": null,
      "grid_auto_columns": null,
      "grid_auto_flow": null,
      "grid_auto_rows": null,
      "grid_column": null,
      "grid_gap": null,
      "grid_row": null,
      "grid_template_areas": null,
      "grid_template_columns": null,
      "grid_template_rows": null,
      "height": null,
      "justify_content": null,
      "justify_items": null,
      "left": null,
      "margin": null,
      "max_height": null,
      "max_width": null,
      "min_height": null,
      "min_width": null,
      "object_fit": null,
      "object_position": null,
      "order": null,
      "overflow": null,
      "overflow_x": null,
      "overflow_y": null,
      "padding": null,
      "right": null,
      "top": null,
      "visibility": null,
      "width": null
     }
    },
    "1a4aa8f3f8674712852a891180aac530": {
     "model_module": "@jupyter-widgets/base",
     "model_module_version": "1.2.0",
     "model_name": "LayoutModel",
     "state": {
      "_model_module": "@jupyter-widgets/base",
      "_model_module_version": "1.2.0",
      "_model_name": "LayoutModel",
      "_view_count": null,
      "_view_module": "@jupyter-widgets/base",
      "_view_module_version": "1.2.0",
      "_view_name": "LayoutView",
      "align_content": null,
      "align_items": null,
      "align_self": null,
      "border": null,
      "bottom": null,
      "display": null,
      "flex": null,
      "flex_flow": null,
      "grid_area": null,
      "grid_auto_columns": null,
      "grid_auto_flow": null,
      "grid_auto_rows": null,
      "grid_column": null,
      "grid_gap": null,
      "grid_row": null,
      "grid_template_areas": null,
      "grid_template_columns": null,
      "grid_template_rows": null,
      "height": null,
      "justify_content": null,
      "justify_items": null,
      "left": null,
      "margin": null,
      "max_height": null,
      "max_width": null,
      "min_height": null,
      "min_width": null,
      "object_fit": null,
      "object_position": null,
      "order": null,
      "overflow": null,
      "overflow_x": null,
      "overflow_y": null,
      "padding": null,
      "right": null,
      "top": null,
      "visibility": null,
      "width": null
     }
    },
    "267cc54bf07f47f8986aeb37904f934d": {
     "model_module": "@jupyter-widgets/controls",
     "model_module_version": "1.5.0",
     "model_name": "DescriptionStyleModel",
     "state": {
      "_model_module": "@jupyter-widgets/controls",
      "_model_module_version": "1.5.0",
      "_model_name": "DescriptionStyleModel",
      "_view_count": null,
      "_view_module": "@jupyter-widgets/base",
      "_view_module_version": "1.2.0",
      "_view_name": "StyleView",
      "description_width": ""
     }
    },
    "26eb1100a9274cf996634bb9a19384e8": {
     "model_module": "@jupyter-widgets/controls",
     "model_module_version": "1.5.0",
     "model_name": "FloatProgressModel",
     "state": {
      "_dom_classes": [],
      "_model_module": "@jupyter-widgets/controls",
      "_model_module_version": "1.5.0",
      "_model_name": "FloatProgressModel",
      "_view_count": null,
      "_view_module": "@jupyter-widgets/controls",
      "_view_module_version": "1.5.0",
      "_view_name": "ProgressView",
      "bar_style": "success",
      "description": "",
      "description_tooltip": null,
      "layout": "IPY_MODEL_6b74419ae4e94e3e98d7c95b392717e7",
      "max": 4,
      "min": 0,
      "orientation": "horizontal",
      "style": "IPY_MODEL_fa9e216919a54ac3a14f93ac4f6f07d4",
      "value": 4
     }
    },
    "271a4c7c5896498ab38e9e24ac4899bf": {
     "model_module": "@jupyter-widgets/controls",
     "model_module_version": "1.5.0",
     "model_name": "HBoxModel",
     "state": {
      "_dom_classes": [],
      "_model_module": "@jupyter-widgets/controls",
      "_model_module_version": "1.5.0",
      "_model_name": "HBoxModel",
      "_view_count": null,
      "_view_module": "@jupyter-widgets/controls",
      "_view_module_version": "1.5.0",
      "_view_name": "HBoxView",
      "box_style": "",
      "children": [
       "IPY_MODEL_61647883e83d47f79789eedf37ebae7d",
       "IPY_MODEL_8a8e8eb334d04526bab36fac13135e33",
       "IPY_MODEL_d19fc5e1e1bd4d0dbf8079df9b2b116d"
      ],
      "layout": "IPY_MODEL_c0b2c26b239a41ed8b194e2320dba39d"
     }
    },
    "27beda2b565b475bafdfc56531e47c3e": {
     "model_module": "@jupyter-widgets/base",
     "model_module_version": "1.2.0",
     "model_name": "LayoutModel",
     "state": {
      "_model_module": "@jupyter-widgets/base",
      "_model_module_version": "1.2.0",
      "_model_name": "LayoutModel",
      "_view_count": null,
      "_view_module": "@jupyter-widgets/base",
      "_view_module_version": "1.2.0",
      "_view_name": "LayoutView",
      "align_content": null,
      "align_items": null,
      "align_self": null,
      "border": null,
      "bottom": null,
      "display": null,
      "flex": null,
      "flex_flow": null,
      "grid_area": null,
      "grid_auto_columns": null,
      "grid_auto_flow": null,
      "grid_auto_rows": null,
      "grid_column": null,
      "grid_gap": null,
      "grid_row": null,
      "grid_template_areas": null,
      "grid_template_columns": null,
      "grid_template_rows": null,
      "height": null,
      "justify_content": null,
      "justify_items": null,
      "left": null,
      "margin": null,
      "max_height": null,
      "max_width": null,
      "min_height": null,
      "min_width": null,
      "object_fit": null,
      "object_position": null,
      "order": null,
      "overflow": null,
      "overflow_x": null,
      "overflow_y": null,
      "padding": null,
      "right": null,
      "top": null,
      "visibility": null,
      "width": null
     }
    },
    "35279a5e393b486090fc044087051828": {
     "model_module": "@jupyter-widgets/controls",
     "model_module_version": "1.5.0",
     "model_name": "DescriptionStyleModel",
     "state": {
      "_model_module": "@jupyter-widgets/controls",
      "_model_module_version": "1.5.0",
      "_model_name": "DescriptionStyleModel",
      "_view_count": null,
      "_view_module": "@jupyter-widgets/base",
      "_view_module_version": "1.2.0",
      "_view_name": "StyleView",
      "description_width": ""
     }
    },
    "372f9e002998438180f7992e892f0477": {
     "model_module": "@jupyter-widgets/controls",
     "model_module_version": "1.5.0",
     "model_name": "HBoxModel",
     "state": {
      "_dom_classes": [],
      "_model_module": "@jupyter-widgets/controls",
      "_model_module_version": "1.5.0",
      "_model_name": "HBoxModel",
      "_view_count": null,
      "_view_module": "@jupyter-widgets/controls",
      "_view_module_version": "1.5.0",
      "_view_name": "HBoxView",
      "box_style": "",
      "children": [
       "IPY_MODEL_91901256cd8044b78b8ef6c94d6f6e57",
       "IPY_MODEL_c8c9805e891b4934a2a58c9ef25b27dc",
       "IPY_MODEL_08a52c4558894eaeb4f72e78b5253836"
      ],
      "layout": "IPY_MODEL_752fef14669f4c8680577889f93254ff"
     }
    },
    "387249e9576142199bec4883f3a7df9d": {
     "model_module": "@jupyter-widgets/controls",
     "model_module_version": "1.5.0",
     "model_name": "DescriptionStyleModel",
     "state": {
      "_model_module": "@jupyter-widgets/controls",
      "_model_module_version": "1.5.0",
      "_model_name": "DescriptionStyleModel",
      "_view_count": null,
      "_view_module": "@jupyter-widgets/base",
      "_view_module_version": "1.2.0",
      "_view_name": "StyleView",
      "description_width": ""
     }
    },
    "389b692cf8d24cbd8ec3ab4e0a10b70e": {
     "model_module": "@jupyter-widgets/controls",
     "model_module_version": "1.5.0",
     "model_name": "HBoxModel",
     "state": {
      "_dom_classes": [],
      "_model_module": "@jupyter-widgets/controls",
      "_model_module_version": "1.5.0",
      "_model_name": "HBoxModel",
      "_view_count": null,
      "_view_module": "@jupyter-widgets/controls",
      "_view_module_version": "1.5.0",
      "_view_name": "HBoxView",
      "box_style": "",
      "children": [
       "IPY_MODEL_f7630c5fe89440789bcabe86c4b9670d",
       "IPY_MODEL_c57faff8cd4b4a4ea8b4ef58bcae86c2",
       "IPY_MODEL_a83394369eb54dbdbe74dda373a56990"
      ],
      "layout": "IPY_MODEL_1a4aa8f3f8674712852a891180aac530"
     }
    },
    "3b5cc09a087447478e2c7020a1a3b37e": {
     "model_module": "@jupyter-widgets/controls",
     "model_module_version": "1.5.0",
     "model_name": "HTMLModel",
     "state": {
      "_dom_classes": [],
      "_model_module": "@jupyter-widgets/controls",
      "_model_module_version": "1.5.0",
      "_model_name": "HTMLModel",
      "_view_count": null,
      "_view_module": "@jupyter-widgets/controls",
      "_view_module_version": "1.5.0",
      "_view_name": "HTMLView",
      "description": "",
      "description_tooltip": null,
      "layout": "IPY_MODEL_cedabd6c68b9418f89beb9c1394321e3",
      "placeholder": "​",
      "style": "IPY_MODEL_387249e9576142199bec4883f3a7df9d",
      "value": " 2/2 [00:00&lt;00:00,  3.08it/s]"
     }
    },
    "40f88c69f33e4785885506a174278cb3": {
     "model_module": "@jupyter-widgets/base",
     "model_module_version": "1.2.0",
     "model_name": "LayoutModel",
     "state": {
      "_model_module": "@jupyter-widgets/base",
      "_model_module_version": "1.2.0",
      "_model_name": "LayoutModel",
      "_view_count": null,
      "_view_module": "@jupyter-widgets/base",
      "_view_module_version": "1.2.0",
      "_view_name": "LayoutView",
      "align_content": null,
      "align_items": null,
      "align_self": null,
      "border": null,
      "bottom": null,
      "display": null,
      "flex": null,
      "flex_flow": null,
      "grid_area": null,
      "grid_auto_columns": null,
      "grid_auto_flow": null,
      "grid_auto_rows": null,
      "grid_column": null,
      "grid_gap": null,
      "grid_row": null,
      "grid_template_areas": null,
      "grid_template_columns": null,
      "grid_template_rows": null,
      "height": null,
      "justify_content": null,
      "justify_items": null,
      "left": null,
      "margin": null,
      "max_height": null,
      "max_width": null,
      "min_height": null,
      "min_width": null,
      "object_fit": null,
      "object_position": null,
      "order": null,
      "overflow": null,
      "overflow_x": null,
      "overflow_y": null,
      "padding": null,
      "right": null,
      "top": null,
      "visibility": null,
      "width": null
     }
    },
    "4472dc8bc5d04427bb598964e18b4e0d": {
     "model_module": "@jupyter-widgets/controls",
     "model_module_version": "1.5.0",
     "model_name": "HBoxModel",
     "state": {
      "_dom_classes": [],
      "_model_module": "@jupyter-widgets/controls",
      "_model_module_version": "1.5.0",
      "_model_name": "HBoxModel",
      "_view_count": null,
      "_view_module": "@jupyter-widgets/controls",
      "_view_module_version": "1.5.0",
      "_view_name": "HBoxView",
      "box_style": "",
      "children": [
       "IPY_MODEL_a0c76c7686fd4135a6ec5b3ecae41c42",
       "IPY_MODEL_ead0cffcb0124f7290281f482df6e7e9",
       "IPY_MODEL_6b2fc4711b7b4799b22d977a1a2c095d"
      ],
      "layout": "IPY_MODEL_40f88c69f33e4785885506a174278cb3"
     }
    },
    "451204a0432e49e1862013d40d270da5": {
     "model_module": "@jupyter-widgets/controls",
     "model_module_version": "1.5.0",
     "model_name": "ProgressStyleModel",
     "state": {
      "_model_module": "@jupyter-widgets/controls",
      "_model_module_version": "1.5.0",
      "_model_name": "ProgressStyleModel",
      "_view_count": null,
      "_view_module": "@jupyter-widgets/base",
      "_view_module_version": "1.2.0",
      "_view_name": "StyleView",
      "bar_color": null,
      "description_width": ""
     }
    },
    "4dddfb9ab7d04bcd955e3d74bd122597": {
     "model_module": "@jupyter-widgets/controls",
     "model_module_version": "1.5.0",
     "model_name": "DescriptionStyleModel",
     "state": {
      "_model_module": "@jupyter-widgets/controls",
      "_model_module_version": "1.5.0",
      "_model_name": "DescriptionStyleModel",
      "_view_count": null,
      "_view_module": "@jupyter-widgets/base",
      "_view_module_version": "1.2.0",
      "_view_name": "StyleView",
      "description_width": ""
     }
    },
    "4df0292ae167431595340fa1289749fa": {
     "model_module": "@jupyter-widgets/base",
     "model_module_version": "1.2.0",
     "model_name": "LayoutModel",
     "state": {
      "_model_module": "@jupyter-widgets/base",
      "_model_module_version": "1.2.0",
      "_model_name": "LayoutModel",
      "_view_count": null,
      "_view_module": "@jupyter-widgets/base",
      "_view_module_version": "1.2.0",
      "_view_name": "LayoutView",
      "align_content": null,
      "align_items": null,
      "align_self": null,
      "border": null,
      "bottom": null,
      "display": null,
      "flex": null,
      "flex_flow": null,
      "grid_area": null,
      "grid_auto_columns": null,
      "grid_auto_flow": null,
      "grid_auto_rows": null,
      "grid_column": null,
      "grid_gap": null,
      "grid_row": null,
      "grid_template_areas": null,
      "grid_template_columns": null,
      "grid_template_rows": null,
      "height": null,
      "justify_content": null,
      "justify_items": null,
      "left": null,
      "margin": null,
      "max_height": null,
      "max_width": null,
      "min_height": null,
      "min_width": null,
      "object_fit": null,
      "object_position": null,
      "order": null,
      "overflow": null,
      "overflow_x": null,
      "overflow_y": null,
      "padding": null,
      "right": null,
      "top": null,
      "visibility": null,
      "width": null
     }
    },
    "4fd2f46ea197401c86fd4c162d9d48ab": {
     "model_module": "@jupyter-widgets/base",
     "model_module_version": "1.2.0",
     "model_name": "LayoutModel",
     "state": {
      "_model_module": "@jupyter-widgets/base",
      "_model_module_version": "1.2.0",
      "_model_name": "LayoutModel",
      "_view_count": null,
      "_view_module": "@jupyter-widgets/base",
      "_view_module_version": "1.2.0",
      "_view_name": "LayoutView",
      "align_content": null,
      "align_items": null,
      "align_self": null,
      "border": null,
      "bottom": null,
      "display": null,
      "flex": null,
      "flex_flow": null,
      "grid_area": null,
      "grid_auto_columns": null,
      "grid_auto_flow": null,
      "grid_auto_rows": null,
      "grid_column": null,
      "grid_gap": null,
      "grid_row": null,
      "grid_template_areas": null,
      "grid_template_columns": null,
      "grid_template_rows": null,
      "height": null,
      "justify_content": null,
      "justify_items": null,
      "left": null,
      "margin": null,
      "max_height": null,
      "max_width": null,
      "min_height": null,
      "min_width": null,
      "object_fit": null,
      "object_position": null,
      "order": null,
      "overflow": null,
      "overflow_x": null,
      "overflow_y": null,
      "padding": null,
      "right": null,
      "top": null,
      "visibility": null,
      "width": null
     }
    },
    "5103951d8e8345819034172492804f48": {
     "model_module": "@jupyter-widgets/base",
     "model_module_version": "1.2.0",
     "model_name": "LayoutModel",
     "state": {
      "_model_module": "@jupyter-widgets/base",
      "_model_module_version": "1.2.0",
      "_model_name": "LayoutModel",
      "_view_count": null,
      "_view_module": "@jupyter-widgets/base",
      "_view_module_version": "1.2.0",
      "_view_name": "LayoutView",
      "align_content": null,
      "align_items": null,
      "align_self": null,
      "border": null,
      "bottom": null,
      "display": null,
      "flex": null,
      "flex_flow": null,
      "grid_area": null,
      "grid_auto_columns": null,
      "grid_auto_flow": null,
      "grid_auto_rows": null,
      "grid_column": null,
      "grid_gap": null,
      "grid_row": null,
      "grid_template_areas": null,
      "grid_template_columns": null,
      "grid_template_rows": null,
      "height": null,
      "justify_content": null,
      "justify_items": null,
      "left": null,
      "margin": null,
      "max_height": null,
      "max_width": null,
      "min_height": null,
      "min_width": null,
      "object_fit": null,
      "object_position": null,
      "order": null,
      "overflow": null,
      "overflow_x": null,
      "overflow_y": null,
      "padding": null,
      "right": null,
      "top": null,
      "visibility": null,
      "width": null
     }
    },
    "51a9026d824943fdbc919de11b974d86": {
     "model_module": "@jupyter-widgets/base",
     "model_module_version": "1.2.0",
     "model_name": "LayoutModel",
     "state": {
      "_model_module": "@jupyter-widgets/base",
      "_model_module_version": "1.2.0",
      "_model_name": "LayoutModel",
      "_view_count": null,
      "_view_module": "@jupyter-widgets/base",
      "_view_module_version": "1.2.0",
      "_view_name": "LayoutView",
      "align_content": null,
      "align_items": null,
      "align_self": null,
      "border": null,
      "bottom": null,
      "display": null,
      "flex": null,
      "flex_flow": null,
      "grid_area": null,
      "grid_auto_columns": null,
      "grid_auto_flow": null,
      "grid_auto_rows": null,
      "grid_column": null,
      "grid_gap": null,
      "grid_row": null,
      "grid_template_areas": null,
      "grid_template_columns": null,
      "grid_template_rows": null,
      "height": null,
      "justify_content": null,
      "justify_items": null,
      "left": null,
      "margin": null,
      "max_height": null,
      "max_width": null,
      "min_height": null,
      "min_width": null,
      "object_fit": null,
      "object_position": null,
      "order": null,
      "overflow": null,
      "overflow_x": null,
      "overflow_y": null,
      "padding": null,
      "right": null,
      "top": null,
      "visibility": null,
      "width": null
     }
    },
    "5690cade9d204d6ab6c32c5ffa91f846": {
     "model_module": "@jupyter-widgets/base",
     "model_module_version": "1.2.0",
     "model_name": "LayoutModel",
     "state": {
      "_model_module": "@jupyter-widgets/base",
      "_model_module_version": "1.2.0",
      "_model_name": "LayoutModel",
      "_view_count": null,
      "_view_module": "@jupyter-widgets/base",
      "_view_module_version": "1.2.0",
      "_view_name": "LayoutView",
      "align_content": null,
      "align_items": null,
      "align_self": null,
      "border": null,
      "bottom": null,
      "display": null,
      "flex": null,
      "flex_flow": null,
      "grid_area": null,
      "grid_auto_columns": null,
      "grid_auto_flow": null,
      "grid_auto_rows": null,
      "grid_column": null,
      "grid_gap": null,
      "grid_row": null,
      "grid_template_areas": null,
      "grid_template_columns": null,
      "grid_template_rows": null,
      "height": null,
      "justify_content": null,
      "justify_items": null,
      "left": null,
      "margin": null,
      "max_height": null,
      "max_width": null,
      "min_height": null,
      "min_width": null,
      "object_fit": null,
      "object_position": null,
      "order": null,
      "overflow": null,
      "overflow_x": null,
      "overflow_y": null,
      "padding": null,
      "right": null,
      "top": null,
      "visibility": null,
      "width": null
     }
    },
    "5c0a8c43b6ef49928e22e696c7e46c49": {
     "model_module": "@jupyter-widgets/controls",
     "model_module_version": "1.5.0",
     "model_name": "ProgressStyleModel",
     "state": {
      "_model_module": "@jupyter-widgets/controls",
      "_model_module_version": "1.5.0",
      "_model_name": "ProgressStyleModel",
      "_view_count": null,
      "_view_module": "@jupyter-widgets/base",
      "_view_module_version": "1.2.0",
      "_view_name": "StyleView",
      "bar_color": null,
      "description_width": ""
     }
    },
    "5c546dc0ce7b4adfa078308c963cf907": {
     "model_module": "@jupyter-widgets/controls",
     "model_module_version": "1.5.0",
     "model_name": "HTMLModel",
     "state": {
      "_dom_classes": [],
      "_model_module": "@jupyter-widgets/controls",
      "_model_module_version": "1.5.0",
      "_model_name": "HTMLModel",
      "_view_count": null,
      "_view_module": "@jupyter-widgets/controls",
      "_view_module_version": "1.5.0",
      "_view_name": "HTMLView",
      "description": "",
      "description_tooltip": null,
      "layout": "IPY_MODEL_51a9026d824943fdbc919de11b974d86",
      "placeholder": "​",
      "style": "IPY_MODEL_0ae879920a6b4390b18de3189feb789f",
      "value": "iteration: 100%"
     }
    },
    "6099a5cb82a7499094b6342b610c28fe": {
     "model_module": "@jupyter-widgets/controls",
     "model_module_version": "1.5.0",
     "model_name": "DescriptionStyleModel",
     "state": {
      "_model_module": "@jupyter-widgets/controls",
      "_model_module_version": "1.5.0",
      "_model_name": "DescriptionStyleModel",
      "_view_count": null,
      "_view_module": "@jupyter-widgets/base",
      "_view_module_version": "1.2.0",
      "_view_name": "StyleView",
      "description_width": ""
     }
    },
    "61647883e83d47f79789eedf37ebae7d": {
     "model_module": "@jupyter-widgets/controls",
     "model_module_version": "1.5.0",
     "model_name": "HTMLModel",
     "state": {
      "_dom_classes": [],
      "_model_module": "@jupyter-widgets/controls",
      "_model_module_version": "1.5.0",
      "_model_name": "HTMLModel",
      "_view_count": null,
      "_view_module": "@jupyter-widgets/controls",
      "_view_module_version": "1.5.0",
      "_view_name": "HTMLView",
      "description": "",
      "description_tooltip": null,
      "layout": "IPY_MODEL_81fe830cd1e94fc3a8e0c966788b7d51",
      "placeholder": "​",
      "style": "IPY_MODEL_35279a5e393b486090fc044087051828",
      "value": "iteration: 100%"
     }
    },
    "683370f499694fe4a015cbf9a1d7e9e4": {
     "model_module": "@jupyter-widgets/controls",
     "model_module_version": "1.5.0",
     "model_name": "HBoxModel",
     "state": {
      "_dom_classes": [],
      "_model_module": "@jupyter-widgets/controls",
      "_model_module_version": "1.5.0",
      "_model_name": "HBoxModel",
      "_view_count": null,
      "_view_module": "@jupyter-widgets/controls",
      "_view_module_version": "1.5.0",
      "_view_name": "HBoxView",
      "box_style": "",
      "children": [
       "IPY_MODEL_e767bbc31a3b4d02ab6e3c9836ca00f9",
       "IPY_MODEL_c5cd0878769644609bd473a7b4951a53",
       "IPY_MODEL_3b5cc09a087447478e2c7020a1a3b37e"
      ],
      "layout": "IPY_MODEL_4fd2f46ea197401c86fd4c162d9d48ab"
     }
    },
    "68bd7f361a1e45dcb522738d3d114405": {
     "model_module": "@jupyter-widgets/base",
     "model_module_version": "1.2.0",
     "model_name": "LayoutModel",
     "state": {
      "_model_module": "@jupyter-widgets/base",
      "_model_module_version": "1.2.0",
      "_model_name": "LayoutModel",
      "_view_count": null,
      "_view_module": "@jupyter-widgets/base",
      "_view_module_version": "1.2.0",
      "_view_name": "LayoutView",
      "align_content": null,
      "align_items": null,
      "align_self": null,
      "border": null,
      "bottom": null,
      "display": null,
      "flex": null,
      "flex_flow": null,
      "grid_area": null,
      "grid_auto_columns": null,
      "grid_auto_flow": null,
      "grid_auto_rows": null,
      "grid_column": null,
      "grid_gap": null,
      "grid_row": null,
      "grid_template_areas": null,
      "grid_template_columns": null,
      "grid_template_rows": null,
      "height": null,
      "justify_content": null,
      "justify_items": null,
      "left": null,
      "margin": null,
      "max_height": null,
      "max_width": null,
      "min_height": null,
      "min_width": null,
      "object_fit": null,
      "object_position": null,
      "order": null,
      "overflow": null,
      "overflow_x": null,
      "overflow_y": null,
      "padding": null,
      "right": null,
      "top": null,
      "visibility": null,
      "width": null
     }
    },
    "69661f3190c947cba2a7751389e63713": {
     "model_module": "@jupyter-widgets/base",
     "model_module_version": "1.2.0",
     "model_name": "LayoutModel",
     "state": {
      "_model_module": "@jupyter-widgets/base",
      "_model_module_version": "1.2.0",
      "_model_name": "LayoutModel",
      "_view_count": null,
      "_view_module": "@jupyter-widgets/base",
      "_view_module_version": "1.2.0",
      "_view_name": "LayoutView",
      "align_content": null,
      "align_items": null,
      "align_self": null,
      "border": null,
      "bottom": null,
      "display": null,
      "flex": null,
      "flex_flow": null,
      "grid_area": null,
      "grid_auto_columns": null,
      "grid_auto_flow": null,
      "grid_auto_rows": null,
      "grid_column": null,
      "grid_gap": null,
      "grid_row": null,
      "grid_template_areas": null,
      "grid_template_columns": null,
      "grid_template_rows": null,
      "height": null,
      "justify_content": null,
      "justify_items": null,
      "left": null,
      "margin": null,
      "max_height": null,
      "max_width": null,
      "min_height": null,
      "min_width": null,
      "object_fit": null,
      "object_position": null,
      "order": null,
      "overflow": null,
      "overflow_x": null,
      "overflow_y": null,
      "padding": null,
      "right": null,
      "top": null,
      "visibility": null,
      "width": null
     }
    },
    "6b2fc4711b7b4799b22d977a1a2c095d": {
     "model_module": "@jupyter-widgets/controls",
     "model_module_version": "1.5.0",
     "model_name": "HTMLModel",
     "state": {
      "_dom_classes": [],
      "_model_module": "@jupyter-widgets/controls",
      "_model_module_version": "1.5.0",
      "_model_name": "HTMLModel",
      "_view_count": null,
      "_view_module": "@jupyter-widgets/controls",
      "_view_module_version": "1.5.0",
      "_view_name": "HTMLView",
      "description": "",
      "description_tooltip": null,
      "layout": "IPY_MODEL_cef51d3327b94da3ae4bf67f2abb8595",
      "placeholder": "​",
      "style": "IPY_MODEL_93c99fc6955e4422a91a497a6cde1bc3",
      "value": " 4/4 [00:00&lt;00:00, 71.83it/s]"
     }
    },
    "6b74419ae4e94e3e98d7c95b392717e7": {
     "model_module": "@jupyter-widgets/base",
     "model_module_version": "1.2.0",
     "model_name": "LayoutModel",
     "state": {
      "_model_module": "@jupyter-widgets/base",
      "_model_module_version": "1.2.0",
      "_model_name": "LayoutModel",
      "_view_count": null,
      "_view_module": "@jupyter-widgets/base",
      "_view_module_version": "1.2.0",
      "_view_name": "LayoutView",
      "align_content": null,
      "align_items": null,
      "align_self": null,
      "border": null,
      "bottom": null,
      "display": null,
      "flex": null,
      "flex_flow": null,
      "grid_area": null,
      "grid_auto_columns": null,
      "grid_auto_flow": null,
      "grid_auto_rows": null,
      "grid_column": null,
      "grid_gap": null,
      "grid_row": null,
      "grid_template_areas": null,
      "grid_template_columns": null,
      "grid_template_rows": null,
      "height": null,
      "justify_content": null,
      "justify_items": null,
      "left": null,
      "margin": null,
      "max_height": null,
      "max_width": null,
      "min_height": null,
      "min_width": null,
      "object_fit": null,
      "object_position": null,
      "order": null,
      "overflow": null,
      "overflow_x": null,
      "overflow_y": null,
      "padding": null,
      "right": null,
      "top": null,
      "visibility": null,
      "width": null
     }
    },
    "6cbe2064ad2047d6a600d1e66f7a8cbf": {
     "model_module": "@jupyter-widgets/base",
     "model_module_version": "1.2.0",
     "model_name": "LayoutModel",
     "state": {
      "_model_module": "@jupyter-widgets/base",
      "_model_module_version": "1.2.0",
      "_model_name": "LayoutModel",
      "_view_count": null,
      "_view_module": "@jupyter-widgets/base",
      "_view_module_version": "1.2.0",
      "_view_name": "LayoutView",
      "align_content": null,
      "align_items": null,
      "align_self": null,
      "border": null,
      "bottom": null,
      "display": null,
      "flex": null,
      "flex_flow": null,
      "grid_area": null,
      "grid_auto_columns": null,
      "grid_auto_flow": null,
      "grid_auto_rows": null,
      "grid_column": null,
      "grid_gap": null,
      "grid_row": null,
      "grid_template_areas": null,
      "grid_template_columns": null,
      "grid_template_rows": null,
      "height": null,
      "justify_content": null,
      "justify_items": null,
      "left": null,
      "margin": null,
      "max_height": null,
      "max_width": null,
      "min_height": null,
      "min_width": null,
      "object_fit": null,
      "object_position": null,
      "order": null,
      "overflow": null,
      "overflow_x": null,
      "overflow_y": null,
      "padding": null,
      "right": null,
      "top": null,
      "visibility": null,
      "width": null
     }
    },
    "70132beeb494404d9d21043acc2d860e": {
     "model_module": "@jupyter-widgets/base",
     "model_module_version": "1.2.0",
     "model_name": "LayoutModel",
     "state": {
      "_model_module": "@jupyter-widgets/base",
      "_model_module_version": "1.2.0",
      "_model_name": "LayoutModel",
      "_view_count": null,
      "_view_module": "@jupyter-widgets/base",
      "_view_module_version": "1.2.0",
      "_view_name": "LayoutView",
      "align_content": null,
      "align_items": null,
      "align_self": null,
      "border": null,
      "bottom": null,
      "display": null,
      "flex": null,
      "flex_flow": null,
      "grid_area": null,
      "grid_auto_columns": null,
      "grid_auto_flow": null,
      "grid_auto_rows": null,
      "grid_column": null,
      "grid_gap": null,
      "grid_row": null,
      "grid_template_areas": null,
      "grid_template_columns": null,
      "grid_template_rows": null,
      "height": null,
      "justify_content": null,
      "justify_items": null,
      "left": null,
      "margin": null,
      "max_height": null,
      "max_width": null,
      "min_height": null,
      "min_width": null,
      "object_fit": null,
      "object_position": null,
      "order": null,
      "overflow": null,
      "overflow_x": null,
      "overflow_y": null,
      "padding": null,
      "right": null,
      "top": null,
      "visibility": null,
      "width": null
     }
    },
    "711c26db32cb4b10a20616f277355787": {
     "model_module": "@jupyter-widgets/controls",
     "model_module_version": "1.5.0",
     "model_name": "FloatProgressModel",
     "state": {
      "_dom_classes": [],
      "_model_module": "@jupyter-widgets/controls",
      "_model_module_version": "1.5.0",
      "_model_name": "FloatProgressModel",
      "_view_count": null,
      "_view_module": "@jupyter-widgets/controls",
      "_view_module_version": "1.5.0",
      "_view_name": "ProgressView",
      "bar_style": "success",
      "description": "",
      "description_tooltip": null,
      "layout": "IPY_MODEL_6cbe2064ad2047d6a600d1e66f7a8cbf",
      "max": 6,
      "min": 0,
      "orientation": "horizontal",
      "style": "IPY_MODEL_9c6305700b9440fb8c26e1ccf6af3efc",
      "value": 6
     }
    },
    "752fef14669f4c8680577889f93254ff": {
     "model_module": "@jupyter-widgets/base",
     "model_module_version": "1.2.0",
     "model_name": "LayoutModel",
     "state": {
      "_model_module": "@jupyter-widgets/base",
      "_model_module_version": "1.2.0",
      "_model_name": "LayoutModel",
      "_view_count": null,
      "_view_module": "@jupyter-widgets/base",
      "_view_module_version": "1.2.0",
      "_view_name": "LayoutView",
      "align_content": null,
      "align_items": null,
      "align_self": null,
      "border": null,
      "bottom": null,
      "display": null,
      "flex": null,
      "flex_flow": null,
      "grid_area": null,
      "grid_auto_columns": null,
      "grid_auto_flow": null,
      "grid_auto_rows": null,
      "grid_column": null,
      "grid_gap": null,
      "grid_row": null,
      "grid_template_areas": null,
      "grid_template_columns": null,
      "grid_template_rows": null,
      "height": null,
      "justify_content": null,
      "justify_items": null,
      "left": null,
      "margin": null,
      "max_height": null,
      "max_width": null,
      "min_height": null,
      "min_width": null,
      "object_fit": null,
      "object_position": null,
      "order": null,
      "overflow": null,
      "overflow_x": null,
      "overflow_y": null,
      "padding": null,
      "right": null,
      "top": null,
      "visibility": null,
      "width": null
     }
    },
    "775e826a418f4957a6ec96717f63e56f": {
     "model_module": "@jupyter-widgets/controls",
     "model_module_version": "1.5.0",
     "model_name": "HTMLModel",
     "state": {
      "_dom_classes": [],
      "_model_module": "@jupyter-widgets/controls",
      "_model_module_version": "1.5.0",
      "_model_name": "HTMLModel",
      "_view_count": null,
      "_view_module": "@jupyter-widgets/controls",
      "_view_module_version": "1.5.0",
      "_view_name": "HTMLView",
      "description": "",
      "description_tooltip": null,
      "layout": "IPY_MODEL_fcc23bd2fb1d4f3085bb3b25fa918660",
      "placeholder": "​",
      "style": "IPY_MODEL_4dddfb9ab7d04bcd955e3d74bd122597",
      "value": "iteration: 100%"
     }
    },
    "794be3316063473a94a65c89fb324edb": {
     "model_module": "@jupyter-widgets/controls",
     "model_module_version": "1.5.0",
     "model_name": "FloatProgressModel",
     "state": {
      "_dom_classes": [],
      "_model_module": "@jupyter-widgets/controls",
      "_model_module_version": "1.5.0",
      "_model_name": "FloatProgressModel",
      "_view_count": null,
      "_view_module": "@jupyter-widgets/controls",
      "_view_module_version": "1.5.0",
      "_view_name": "ProgressView",
      "bar_style": "success",
      "description": "",
      "description_tooltip": null,
      "layout": "IPY_MODEL_69661f3190c947cba2a7751389e63713",
      "max": 6,
      "min": 0,
      "orientation": "horizontal",
      "style": "IPY_MODEL_451204a0432e49e1862013d40d270da5",
      "value": 6
     }
    },
    "7ec9fb9abd8c4f918d59ebefed080dfb": {
     "model_module": "@jupyter-widgets/controls",
     "model_module_version": "1.5.0",
     "model_name": "DescriptionStyleModel",
     "state": {
      "_model_module": "@jupyter-widgets/controls",
      "_model_module_version": "1.5.0",
      "_model_name": "DescriptionStyleModel",
      "_view_count": null,
      "_view_module": "@jupyter-widgets/base",
      "_view_module_version": "1.2.0",
      "_view_name": "StyleView",
      "description_width": ""
     }
    },
    "81fe830cd1e94fc3a8e0c966788b7d51": {
     "model_module": "@jupyter-widgets/base",
     "model_module_version": "1.2.0",
     "model_name": "LayoutModel",
     "state": {
      "_model_module": "@jupyter-widgets/base",
      "_model_module_version": "1.2.0",
      "_model_name": "LayoutModel",
      "_view_count": null,
      "_view_module": "@jupyter-widgets/base",
      "_view_module_version": "1.2.0",
      "_view_name": "LayoutView",
      "align_content": null,
      "align_items": null,
      "align_self": null,
      "border": null,
      "bottom": null,
      "display": null,
      "flex": null,
      "flex_flow": null,
      "grid_area": null,
      "grid_auto_columns": null,
      "grid_auto_flow": null,
      "grid_auto_rows": null,
      "grid_column": null,
      "grid_gap": null,
      "grid_row": null,
      "grid_template_areas": null,
      "grid_template_columns": null,
      "grid_template_rows": null,
      "height": null,
      "justify_content": null,
      "justify_items": null,
      "left": null,
      "margin": null,
      "max_height": null,
      "max_width": null,
      "min_height": null,
      "min_width": null,
      "object_fit": null,
      "object_position": null,
      "order": null,
      "overflow": null,
      "overflow_x": null,
      "overflow_y": null,
      "padding": null,
      "right": null,
      "top": null,
      "visibility": null,
      "width": null
     }
    },
    "85069238585444dd853b34b4ec18c4b3": {
     "model_module": "@jupyter-widgets/base",
     "model_module_version": "1.2.0",
     "model_name": "LayoutModel",
     "state": {
      "_model_module": "@jupyter-widgets/base",
      "_model_module_version": "1.2.0",
      "_model_name": "LayoutModel",
      "_view_count": null,
      "_view_module": "@jupyter-widgets/base",
      "_view_module_version": "1.2.0",
      "_view_name": "LayoutView",
      "align_content": null,
      "align_items": null,
      "align_self": null,
      "border": null,
      "bottom": null,
      "display": null,
      "flex": null,
      "flex_flow": null,
      "grid_area": null,
      "grid_auto_columns": null,
      "grid_auto_flow": null,
      "grid_auto_rows": null,
      "grid_column": null,
      "grid_gap": null,
      "grid_row": null,
      "grid_template_areas": null,
      "grid_template_columns": null,
      "grid_template_rows": null,
      "height": null,
      "justify_content": null,
      "justify_items": null,
      "left": null,
      "margin": null,
      "max_height": null,
      "max_width": null,
      "min_height": null,
      "min_width": null,
      "object_fit": null,
      "object_position": null,
      "order": null,
      "overflow": null,
      "overflow_x": null,
      "overflow_y": null,
      "padding": null,
      "right": null,
      "top": null,
      "visibility": null,
      "width": null
     }
    },
    "8670fb2105dd4b0e93e970ad4bc70ec8": {
     "model_module": "@jupyter-widgets/base",
     "model_module_version": "1.2.0",
     "model_name": "LayoutModel",
     "state": {
      "_model_module": "@jupyter-widgets/base",
      "_model_module_version": "1.2.0",
      "_model_name": "LayoutModel",
      "_view_count": null,
      "_view_module": "@jupyter-widgets/base",
      "_view_module_version": "1.2.0",
      "_view_name": "LayoutView",
      "align_content": null,
      "align_items": null,
      "align_self": null,
      "border": null,
      "bottom": null,
      "display": null,
      "flex": null,
      "flex_flow": null,
      "grid_area": null,
      "grid_auto_columns": null,
      "grid_auto_flow": null,
      "grid_auto_rows": null,
      "grid_column": null,
      "grid_gap": null,
      "grid_row": null,
      "grid_template_areas": null,
      "grid_template_columns": null,
      "grid_template_rows": null,
      "height": null,
      "justify_content": null,
      "justify_items": null,
      "left": null,
      "margin": null,
      "max_height": null,
      "max_width": null,
      "min_height": null,
      "min_width": null,
      "object_fit": null,
      "object_position": null,
      "order": null,
      "overflow": null,
      "overflow_x": null,
      "overflow_y": null,
      "padding": null,
      "right": null,
      "top": null,
      "visibility": null,
      "width": null
     }
    },
    "8a8e8eb334d04526bab36fac13135e33": {
     "model_module": "@jupyter-widgets/controls",
     "model_module_version": "1.5.0",
     "model_name": "FloatProgressModel",
     "state": {
      "_dom_classes": [],
      "_model_module": "@jupyter-widgets/controls",
      "_model_module_version": "1.5.0",
      "_model_name": "FloatProgressModel",
      "_view_count": null,
      "_view_module": "@jupyter-widgets/controls",
      "_view_module_version": "1.5.0",
      "_view_name": "ProgressView",
      "bar_style": "success",
      "description": "",
      "description_tooltip": null,
      "layout": "IPY_MODEL_9451a32a21b24c8aacbea214afa05c14",
      "max": 1,
      "min": 0,
      "orientation": "horizontal",
      "style": "IPY_MODEL_bed929aa9905413f95e29b3ac69d8fbb",
      "value": 1
     }
    },
    "8b230c844df0468cac1aecb91310a200": {
     "model_module": "@jupyter-widgets/controls",
     "model_module_version": "1.5.0",
     "model_name": "HBoxModel",
     "state": {
      "_dom_classes": [],
      "_model_module": "@jupyter-widgets/controls",
      "_model_module_version": "1.5.0",
      "_model_name": "HBoxModel",
      "_view_count": null,
      "_view_module": "@jupyter-widgets/controls",
      "_view_module_version": "1.5.0",
      "_view_name": "HBoxView",
      "box_style": "",
      "children": [
       "IPY_MODEL_9fb1efaf6a6544d5870b78166fae646f",
       "IPY_MODEL_711c26db32cb4b10a20616f277355787",
       "IPY_MODEL_e7303e3d288144e19676b0939290b622"
      ],
      "layout": "IPY_MODEL_8670fb2105dd4b0e93e970ad4bc70ec8"
     }
    },
    "8d29654f2b324ff28f4547ccf0a8f6d5": {
     "model_module": "@jupyter-widgets/controls",
     "model_module_version": "1.5.0",
     "model_name": "DescriptionStyleModel",
     "state": {
      "_model_module": "@jupyter-widgets/controls",
      "_model_module_version": "1.5.0",
      "_model_name": "DescriptionStyleModel",
      "_view_count": null,
      "_view_module": "@jupyter-widgets/base",
      "_view_module_version": "1.2.0",
      "_view_name": "StyleView",
      "description_width": ""
     }
    },
    "8d79618dfb9543aab31a74b1ea2cd08e": {
     "model_module": "@jupyter-widgets/controls",
     "model_module_version": "1.5.0",
     "model_name": "HBoxModel",
     "state": {
      "_dom_classes": [],
      "_model_module": "@jupyter-widgets/controls",
      "_model_module_version": "1.5.0",
      "_model_name": "HBoxModel",
      "_view_count": null,
      "_view_module": "@jupyter-widgets/controls",
      "_view_module_version": "1.5.0",
      "_view_name": "HBoxView",
      "box_style": "",
      "children": [
       "IPY_MODEL_775e826a418f4957a6ec96717f63e56f",
       "IPY_MODEL_794be3316063473a94a65c89fb324edb",
       "IPY_MODEL_0fa5d98755f148c19f8f73f14a2173c6"
      ],
      "layout": "IPY_MODEL_13e19e28b2d445cf81852250bae6bf3e"
     }
    },
    "91901256cd8044b78b8ef6c94d6f6e57": {
     "model_module": "@jupyter-widgets/controls",
     "model_module_version": "1.5.0",
     "model_name": "HTMLModel",
     "state": {
      "_dom_classes": [],
      "_model_module": "@jupyter-widgets/controls",
      "_model_module_version": "1.5.0",
      "_model_name": "HTMLModel",
      "_view_count": null,
      "_view_module": "@jupyter-widgets/controls",
      "_view_module_version": "1.5.0",
      "_view_name": "HTMLView",
      "description": "",
      "description_tooltip": null,
      "layout": "IPY_MODEL_5690cade9d204d6ab6c32c5ffa91f846",
      "placeholder": "​",
      "style": "IPY_MODEL_8d29654f2b324ff28f4547ccf0a8f6d5",
      "value": "iteration: 100%"
     }
    },
    "92f502882fbe4fb0b9cef76931fb1053": {
     "model_module": "@jupyter-widgets/controls",
     "model_module_version": "1.5.0",
     "model_name": "ProgressStyleModel",
     "state": {
      "_model_module": "@jupyter-widgets/controls",
      "_model_module_version": "1.5.0",
      "_model_name": "ProgressStyleModel",
      "_view_count": null,
      "_view_module": "@jupyter-widgets/base",
      "_view_module_version": "1.2.0",
      "_view_name": "StyleView",
      "bar_color": null,
      "description_width": ""
     }
    },
    "93c99fc6955e4422a91a497a6cde1bc3": {
     "model_module": "@jupyter-widgets/controls",
     "model_module_version": "1.5.0",
     "model_name": "DescriptionStyleModel",
     "state": {
      "_model_module": "@jupyter-widgets/controls",
      "_model_module_version": "1.5.0",
      "_model_name": "DescriptionStyleModel",
      "_view_count": null,
      "_view_module": "@jupyter-widgets/base",
      "_view_module_version": "1.2.0",
      "_view_name": "StyleView",
      "description_width": ""
     }
    },
    "9451a32a21b24c8aacbea214afa05c14": {
     "model_module": "@jupyter-widgets/base",
     "model_module_version": "1.2.0",
     "model_name": "LayoutModel",
     "state": {
      "_model_module": "@jupyter-widgets/base",
      "_model_module_version": "1.2.0",
      "_model_name": "LayoutModel",
      "_view_count": null,
      "_view_module": "@jupyter-widgets/base",
      "_view_module_version": "1.2.0",
      "_view_name": "LayoutView",
      "align_content": null,
      "align_items": null,
      "align_self": null,
      "border": null,
      "bottom": null,
      "display": null,
      "flex": null,
      "flex_flow": null,
      "grid_area": null,
      "grid_auto_columns": null,
      "grid_auto_flow": null,
      "grid_auto_rows": null,
      "grid_column": null,
      "grid_gap": null,
      "grid_row": null,
      "grid_template_areas": null,
      "grid_template_columns": null,
      "grid_template_rows": null,
      "height": null,
      "justify_content": null,
      "justify_items": null,
      "left": null,
      "margin": null,
      "max_height": null,
      "max_width": null,
      "min_height": null,
      "min_width": null,
      "object_fit": null,
      "object_position": null,
      "order": null,
      "overflow": null,
      "overflow_x": null,
      "overflow_y": null,
      "padding": null,
      "right": null,
      "top": null,
      "visibility": null,
      "width": null
     }
    },
    "9c6305700b9440fb8c26e1ccf6af3efc": {
     "model_module": "@jupyter-widgets/controls",
     "model_module_version": "1.5.0",
     "model_name": "ProgressStyleModel",
     "state": {
      "_model_module": "@jupyter-widgets/controls",
      "_model_module_version": "1.5.0",
      "_model_name": "ProgressStyleModel",
      "_view_count": null,
      "_view_module": "@jupyter-widgets/base",
      "_view_module_version": "1.2.0",
      "_view_name": "StyleView",
      "bar_color": null,
      "description_width": ""
     }
    },
    "9c6d5beb9097450abb2a11cac2646409": {
     "model_module": "@jupyter-widgets/controls",
     "model_module_version": "1.5.0",
     "model_name": "DescriptionStyleModel",
     "state": {
      "_model_module": "@jupyter-widgets/controls",
      "_model_module_version": "1.5.0",
      "_model_name": "DescriptionStyleModel",
      "_view_count": null,
      "_view_module": "@jupyter-widgets/base",
      "_view_module_version": "1.2.0",
      "_view_name": "StyleView",
      "description_width": ""
     }
    },
    "9cec64037e4f4d9ab70d028965273f01": {
     "model_module": "@jupyter-widgets/base",
     "model_module_version": "1.2.0",
     "model_name": "LayoutModel",
     "state": {
      "_model_module": "@jupyter-widgets/base",
      "_model_module_version": "1.2.0",
      "_model_name": "LayoutModel",
      "_view_count": null,
      "_view_module": "@jupyter-widgets/base",
      "_view_module_version": "1.2.0",
      "_view_name": "LayoutView",
      "align_content": null,
      "align_items": null,
      "align_self": null,
      "border": null,
      "bottom": null,
      "display": null,
      "flex": null,
      "flex_flow": null,
      "grid_area": null,
      "grid_auto_columns": null,
      "grid_auto_flow": null,
      "grid_auto_rows": null,
      "grid_column": null,
      "grid_gap": null,
      "grid_row": null,
      "grid_template_areas": null,
      "grid_template_columns": null,
      "grid_template_rows": null,
      "height": null,
      "justify_content": null,
      "justify_items": null,
      "left": null,
      "margin": null,
      "max_height": null,
      "max_width": null,
      "min_height": null,
      "min_width": null,
      "object_fit": null,
      "object_position": null,
      "order": null,
      "overflow": null,
      "overflow_x": null,
      "overflow_y": null,
      "padding": null,
      "right": null,
      "top": null,
      "visibility": null,
      "width": null
     }
    },
    "9fb1efaf6a6544d5870b78166fae646f": {
     "model_module": "@jupyter-widgets/controls",
     "model_module_version": "1.5.0",
     "model_name": "HTMLModel",
     "state": {
      "_dom_classes": [],
      "_model_module": "@jupyter-widgets/controls",
      "_model_module_version": "1.5.0",
      "_model_name": "HTMLModel",
      "_view_count": null,
      "_view_module": "@jupyter-widgets/controls",
      "_view_module_version": "1.5.0",
      "_view_name": "HTMLView",
      "description": "",
      "description_tooltip": null,
      "layout": "IPY_MODEL_5103951d8e8345819034172492804f48",
      "placeholder": "​",
      "style": "IPY_MODEL_6099a5cb82a7499094b6342b610c28fe",
      "value": "iteration: 100%"
     }
    },
    "a0c76c7686fd4135a6ec5b3ecae41c42": {
     "model_module": "@jupyter-widgets/controls",
     "model_module_version": "1.5.0",
     "model_name": "HTMLModel",
     "state": {
      "_dom_classes": [],
      "_model_module": "@jupyter-widgets/controls",
      "_model_module_version": "1.5.0",
      "_model_name": "HTMLModel",
      "_view_count": null,
      "_view_module": "@jupyter-widgets/controls",
      "_view_module_version": "1.5.0",
      "_view_name": "HTMLView",
      "description": "",
      "description_tooltip": null,
      "layout": "IPY_MODEL_85069238585444dd853b34b4ec18c4b3",
      "placeholder": "​",
      "style": "IPY_MODEL_e1b6d9a009f5461687b7a2b92c119e61",
      "value": "iteration: 100%"
     }
    },
    "a3333ee992dc4405b865a92db29b651e": {
     "model_module": "@jupyter-widgets/controls",
     "model_module_version": "1.5.0",
     "model_name": "DescriptionStyleModel",
     "state": {
      "_model_module": "@jupyter-widgets/controls",
      "_model_module_version": "1.5.0",
      "_model_name": "DescriptionStyleModel",
      "_view_count": null,
      "_view_module": "@jupyter-widgets/base",
      "_view_module_version": "1.2.0",
      "_view_name": "StyleView",
      "description_width": ""
     }
    },
    "a83394369eb54dbdbe74dda373a56990": {
     "model_module": "@jupyter-widgets/controls",
     "model_module_version": "1.5.0",
     "model_name": "HTMLModel",
     "state": {
      "_dom_classes": [],
      "_model_module": "@jupyter-widgets/controls",
      "_model_module_version": "1.5.0",
      "_model_name": "HTMLModel",
      "_view_count": null,
      "_view_module": "@jupyter-widgets/controls",
      "_view_module_version": "1.5.0",
      "_view_name": "HTMLView",
      "description": "",
      "description_tooltip": null,
      "layout": "IPY_MODEL_27beda2b565b475bafdfc56531e47c3e",
      "placeholder": "​",
      "style": "IPY_MODEL_ae04d429c3b04aecae6a10055d40298f",
      "value": " 1/1 [00:00&lt;00:00, 34.44it/s]"
     }
    },
    "a89c7932b4e94a58ae2fac18ac13e696": {
     "model_module": "@jupyter-widgets/base",
     "model_module_version": "1.2.0",
     "model_name": "LayoutModel",
     "state": {
      "_model_module": "@jupyter-widgets/base",
      "_model_module_version": "1.2.0",
      "_model_name": "LayoutModel",
      "_view_count": null,
      "_view_module": "@jupyter-widgets/base",
      "_view_module_version": "1.2.0",
      "_view_name": "LayoutView",
      "align_content": null,
      "align_items": null,
      "align_self": null,
      "border": null,
      "bottom": null,
      "display": null,
      "flex": null,
      "flex_flow": null,
      "grid_area": null,
      "grid_auto_columns": null,
      "grid_auto_flow": null,
      "grid_auto_rows": null,
      "grid_column": null,
      "grid_gap": null,
      "grid_row": null,
      "grid_template_areas": null,
      "grid_template_columns": null,
      "grid_template_rows": null,
      "height": null,
      "justify_content": null,
      "justify_items": null,
      "left": null,
      "margin": null,
      "max_height": null,
      "max_width": null,
      "min_height": null,
      "min_width": null,
      "object_fit": null,
      "object_position": null,
      "order": null,
      "overflow": null,
      "overflow_x": null,
      "overflow_y": null,
      "padding": null,
      "right": null,
      "top": null,
      "visibility": null,
      "width": null
     }
    },
    "ac7f96f2c7cc406dbb6f6738ff4d0d24": {
     "model_module": "@jupyter-widgets/controls",
     "model_module_version": "1.5.0",
     "model_name": "HTMLModel",
     "state": {
      "_dom_classes": [],
      "_model_module": "@jupyter-widgets/controls",
      "_model_module_version": "1.5.0",
      "_model_name": "HTMLModel",
      "_view_count": null,
      "_view_module": "@jupyter-widgets/controls",
      "_view_module_version": "1.5.0",
      "_view_name": "HTMLView",
      "description": "",
      "description_tooltip": null,
      "layout": "IPY_MODEL_fe728de98faf44b1898a14e4e0a90405",
      "placeholder": "​",
      "style": "IPY_MODEL_a3333ee992dc4405b865a92db29b651e",
      "value": " 4/4 [00:01&lt;00:00,  3.10it/s]"
     }
    },
    "ae04d429c3b04aecae6a10055d40298f": {
     "model_module": "@jupyter-widgets/controls",
     "model_module_version": "1.5.0",
     "model_name": "DescriptionStyleModel",
     "state": {
      "_model_module": "@jupyter-widgets/controls",
      "_model_module_version": "1.5.0",
      "_model_name": "DescriptionStyleModel",
      "_view_count": null,
      "_view_module": "@jupyter-widgets/base",
      "_view_module_version": "1.2.0",
      "_view_name": "StyleView",
      "description_width": ""
     }
    },
    "b036097fd25a479881a5fa9817139795": {
     "model_module": "@jupyter-widgets/controls",
     "model_module_version": "1.5.0",
     "model_name": "DescriptionStyleModel",
     "state": {
      "_model_module": "@jupyter-widgets/controls",
      "_model_module_version": "1.5.0",
      "_model_name": "DescriptionStyleModel",
      "_view_count": null,
      "_view_module": "@jupyter-widgets/base",
      "_view_module_version": "1.2.0",
      "_view_name": "StyleView",
      "description_width": ""
     }
    },
    "bed929aa9905413f95e29b3ac69d8fbb": {
     "model_module": "@jupyter-widgets/controls",
     "model_module_version": "1.5.0",
     "model_name": "ProgressStyleModel",
     "state": {
      "_model_module": "@jupyter-widgets/controls",
      "_model_module_version": "1.5.0",
      "_model_name": "ProgressStyleModel",
      "_view_count": null,
      "_view_module": "@jupyter-widgets/base",
      "_view_module_version": "1.2.0",
      "_view_name": "StyleView",
      "bar_color": null,
      "description_width": ""
     }
    },
    "c0b2c26b239a41ed8b194e2320dba39d": {
     "model_module": "@jupyter-widgets/base",
     "model_module_version": "1.2.0",
     "model_name": "LayoutModel",
     "state": {
      "_model_module": "@jupyter-widgets/base",
      "_model_module_version": "1.2.0",
      "_model_name": "LayoutModel",
      "_view_count": null,
      "_view_module": "@jupyter-widgets/base",
      "_view_module_version": "1.2.0",
      "_view_name": "LayoutView",
      "align_content": null,
      "align_items": null,
      "align_self": null,
      "border": null,
      "bottom": null,
      "display": null,
      "flex": null,
      "flex_flow": null,
      "grid_area": null,
      "grid_auto_columns": null,
      "grid_auto_flow": null,
      "grid_auto_rows": null,
      "grid_column": null,
      "grid_gap": null,
      "grid_row": null,
      "grid_template_areas": null,
      "grid_template_columns": null,
      "grid_template_rows": null,
      "height": null,
      "justify_content": null,
      "justify_items": null,
      "left": null,
      "margin": null,
      "max_height": null,
      "max_width": null,
      "min_height": null,
      "min_width": null,
      "object_fit": null,
      "object_position": null,
      "order": null,
      "overflow": null,
      "overflow_x": null,
      "overflow_y": null,
      "padding": null,
      "right": null,
      "top": null,
      "visibility": null,
      "width": null
     }
    },
    "c25eb4ceec114546bdf10a29dcd9bd43": {
     "model_module": "@jupyter-widgets/controls",
     "model_module_version": "1.5.0",
     "model_name": "DescriptionStyleModel",
     "state": {
      "_model_module": "@jupyter-widgets/controls",
      "_model_module_version": "1.5.0",
      "_model_name": "DescriptionStyleModel",
      "_view_count": null,
      "_view_module": "@jupyter-widgets/base",
      "_view_module_version": "1.2.0",
      "_view_name": "StyleView",
      "description_width": ""
     }
    },
    "c57faff8cd4b4a4ea8b4ef58bcae86c2": {
     "model_module": "@jupyter-widgets/controls",
     "model_module_version": "1.5.0",
     "model_name": "FloatProgressModel",
     "state": {
      "_dom_classes": [],
      "_model_module": "@jupyter-widgets/controls",
      "_model_module_version": "1.5.0",
      "_model_name": "FloatProgressModel",
      "_view_count": null,
      "_view_module": "@jupyter-widgets/controls",
      "_view_module_version": "1.5.0",
      "_view_name": "ProgressView",
      "bar_style": "success",
      "description": "",
      "description_tooltip": null,
      "layout": "IPY_MODEL_70132beeb494404d9d21043acc2d860e",
      "max": 1,
      "min": 0,
      "orientation": "horizontal",
      "style": "IPY_MODEL_5c0a8c43b6ef49928e22e696c7e46c49",
      "value": 1
     }
    },
    "c5cd0878769644609bd473a7b4951a53": {
     "model_module": "@jupyter-widgets/controls",
     "model_module_version": "1.5.0",
     "model_name": "FloatProgressModel",
     "state": {
      "_dom_classes": [],
      "_model_module": "@jupyter-widgets/controls",
      "_model_module_version": "1.5.0",
      "_model_name": "FloatProgressModel",
      "_view_count": null,
      "_view_module": "@jupyter-widgets/controls",
      "_view_module_version": "1.5.0",
      "_view_name": "ProgressView",
      "bar_style": "success",
      "description": "",
      "description_tooltip": null,
      "layout": "IPY_MODEL_0e370b5f6f9a4b439e225abb48c94f3d",
      "max": 2,
      "min": 0,
      "orientation": "horizontal",
      "style": "IPY_MODEL_d8bf31710b864dadb58da925109fd4cc",
      "value": 2
     }
    },
    "c8c9805e891b4934a2a58c9ef25b27dc": {
     "model_module": "@jupyter-widgets/controls",
     "model_module_version": "1.5.0",
     "model_name": "FloatProgressModel",
     "state": {
      "_dom_classes": [],
      "_model_module": "@jupyter-widgets/controls",
      "_model_module_version": "1.5.0",
      "_model_name": "FloatProgressModel",
      "_view_count": null,
      "_view_module": "@jupyter-widgets/controls",
      "_view_module_version": "1.5.0",
      "_view_name": "ProgressView",
      "bar_style": "success",
      "description": "",
      "description_tooltip": null,
      "layout": "IPY_MODEL_a89c7932b4e94a58ae2fac18ac13e696",
      "max": 2,
      "min": 0,
      "orientation": "horizontal",
      "style": "IPY_MODEL_92f502882fbe4fb0b9cef76931fb1053",
      "value": 2
     }
    },
    "cedabd6c68b9418f89beb9c1394321e3": {
     "model_module": "@jupyter-widgets/base",
     "model_module_version": "1.2.0",
     "model_name": "LayoutModel",
     "state": {
      "_model_module": "@jupyter-widgets/base",
      "_model_module_version": "1.2.0",
      "_model_name": "LayoutModel",
      "_view_count": null,
      "_view_module": "@jupyter-widgets/base",
      "_view_module_version": "1.2.0",
      "_view_name": "LayoutView",
      "align_content": null,
      "align_items": null,
      "align_self": null,
      "border": null,
      "bottom": null,
      "display": null,
      "flex": null,
      "flex_flow": null,
      "grid_area": null,
      "grid_auto_columns": null,
      "grid_auto_flow": null,
      "grid_auto_rows": null,
      "grid_column": null,
      "grid_gap": null,
      "grid_row": null,
      "grid_template_areas": null,
      "grid_template_columns": null,
      "grid_template_rows": null,
      "height": null,
      "justify_content": null,
      "justify_items": null,
      "left": null,
      "margin": null,
      "max_height": null,
      "max_width": null,
      "min_height": null,
      "min_width": null,
      "object_fit": null,
      "object_position": null,
      "order": null,
      "overflow": null,
      "overflow_x": null,
      "overflow_y": null,
      "padding": null,
      "right": null,
      "top": null,
      "visibility": null,
      "width": null
     }
    },
    "cef51d3327b94da3ae4bf67f2abb8595": {
     "model_module": "@jupyter-widgets/base",
     "model_module_version": "1.2.0",
     "model_name": "LayoutModel",
     "state": {
      "_model_module": "@jupyter-widgets/base",
      "_model_module_version": "1.2.0",
      "_model_name": "LayoutModel",
      "_view_count": null,
      "_view_module": "@jupyter-widgets/base",
      "_view_module_version": "1.2.0",
      "_view_name": "LayoutView",
      "align_content": null,
      "align_items": null,
      "align_self": null,
      "border": null,
      "bottom": null,
      "display": null,
      "flex": null,
      "flex_flow": null,
      "grid_area": null,
      "grid_auto_columns": null,
      "grid_auto_flow": null,
      "grid_auto_rows": null,
      "grid_column": null,
      "grid_gap": null,
      "grid_row": null,
      "grid_template_areas": null,
      "grid_template_columns": null,
      "grid_template_rows": null,
      "height": null,
      "justify_content": null,
      "justify_items": null,
      "left": null,
      "margin": null,
      "max_height": null,
      "max_width": null,
      "min_height": null,
      "min_width": null,
      "object_fit": null,
      "object_position": null,
      "order": null,
      "overflow": null,
      "overflow_x": null,
      "overflow_y": null,
      "padding": null,
      "right": null,
      "top": null,
      "visibility": null,
      "width": null
     }
    },
    "d15ff21a2ca2457b822da2df1e8ca826": {
     "model_module": "@jupyter-widgets/controls",
     "model_module_version": "1.5.0",
     "model_name": "DescriptionStyleModel",
     "state": {
      "_model_module": "@jupyter-widgets/controls",
      "_model_module_version": "1.5.0",
      "_model_name": "DescriptionStyleModel",
      "_view_count": null,
      "_view_module": "@jupyter-widgets/base",
      "_view_module_version": "1.2.0",
      "_view_name": "StyleView",
      "description_width": ""
     }
    },
    "d19fc5e1e1bd4d0dbf8079df9b2b116d": {
     "model_module": "@jupyter-widgets/controls",
     "model_module_version": "1.5.0",
     "model_name": "HTMLModel",
     "state": {
      "_dom_classes": [],
      "_model_module": "@jupyter-widgets/controls",
      "_model_module_version": "1.5.0",
      "_model_name": "HTMLModel",
      "_view_count": null,
      "_view_module": "@jupyter-widgets/controls",
      "_view_module_version": "1.5.0",
      "_view_name": "HTMLView",
      "description": "",
      "description_tooltip": null,
      "layout": "IPY_MODEL_dbb2e51c32d54141a3bdd54afab13a7a",
      "placeholder": "​",
      "style": "IPY_MODEL_d15ff21a2ca2457b822da2df1e8ca826",
      "value": " 1/1 [00:00&lt;00:00, 38.19it/s]"
     }
    },
    "d7a1fbc993ff4b569dde4a3d84a22ae9": {
     "model_module": "@jupyter-widgets/base",
     "model_module_version": "1.2.0",
     "model_name": "LayoutModel",
     "state": {
      "_model_module": "@jupyter-widgets/base",
      "_model_module_version": "1.2.0",
      "_model_name": "LayoutModel",
      "_view_count": null,
      "_view_module": "@jupyter-widgets/base",
      "_view_module_version": "1.2.0",
      "_view_name": "LayoutView",
      "align_content": null,
      "align_items": null,
      "align_self": null,
      "border": null,
      "bottom": null,
      "display": null,
      "flex": null,
      "flex_flow": null,
      "grid_area": null,
      "grid_auto_columns": null,
      "grid_auto_flow": null,
      "grid_auto_rows": null,
      "grid_column": null,
      "grid_gap": null,
      "grid_row": null,
      "grid_template_areas": null,
      "grid_template_columns": null,
      "grid_template_rows": null,
      "height": null,
      "justify_content": null,
      "justify_items": null,
      "left": null,
      "margin": null,
      "max_height": null,
      "max_width": null,
      "min_height": null,
      "min_width": null,
      "object_fit": null,
      "object_position": null,
      "order": null,
      "overflow": null,
      "overflow_x": null,
      "overflow_y": null,
      "padding": null,
      "right": null,
      "top": null,
      "visibility": null,
      "width": null
     }
    },
    "d8bf31710b864dadb58da925109fd4cc": {
     "model_module": "@jupyter-widgets/controls",
     "model_module_version": "1.5.0",
     "model_name": "ProgressStyleModel",
     "state": {
      "_model_module": "@jupyter-widgets/controls",
      "_model_module_version": "1.5.0",
      "_model_name": "ProgressStyleModel",
      "_view_count": null,
      "_view_module": "@jupyter-widgets/base",
      "_view_module_version": "1.2.0",
      "_view_name": "StyleView",
      "bar_color": null,
      "description_width": ""
     }
    },
    "dbb2e51c32d54141a3bdd54afab13a7a": {
     "model_module": "@jupyter-widgets/base",
     "model_module_version": "1.2.0",
     "model_name": "LayoutModel",
     "state": {
      "_model_module": "@jupyter-widgets/base",
      "_model_module_version": "1.2.0",
      "_model_name": "LayoutModel",
      "_view_count": null,
      "_view_module": "@jupyter-widgets/base",
      "_view_module_version": "1.2.0",
      "_view_name": "LayoutView",
      "align_content": null,
      "align_items": null,
      "align_self": null,
      "border": null,
      "bottom": null,
      "display": null,
      "flex": null,
      "flex_flow": null,
      "grid_area": null,
      "grid_auto_columns": null,
      "grid_auto_flow": null,
      "grid_auto_rows": null,
      "grid_column": null,
      "grid_gap": null,
      "grid_row": null,
      "grid_template_areas": null,
      "grid_template_columns": null,
      "grid_template_rows": null,
      "height": null,
      "justify_content": null,
      "justify_items": null,
      "left": null,
      "margin": null,
      "max_height": null,
      "max_width": null,
      "min_height": null,
      "min_width": null,
      "object_fit": null,
      "object_position": null,
      "order": null,
      "overflow": null,
      "overflow_x": null,
      "overflow_y": null,
      "padding": null,
      "right": null,
      "top": null,
      "visibility": null,
      "width": null
     }
    },
    "dd513b45e27a424a938c2900b01b18a3": {
     "model_module": "@jupyter-widgets/controls",
     "model_module_version": "1.5.0",
     "model_name": "ProgressStyleModel",
     "state": {
      "_model_module": "@jupyter-widgets/controls",
      "_model_module_version": "1.5.0",
      "_model_name": "ProgressStyleModel",
      "_view_count": null,
      "_view_module": "@jupyter-widgets/base",
      "_view_module_version": "1.2.0",
      "_view_name": "StyleView",
      "bar_color": null,
      "description_width": ""
     }
    },
    "e1b6d9a009f5461687b7a2b92c119e61": {
     "model_module": "@jupyter-widgets/controls",
     "model_module_version": "1.5.0",
     "model_name": "DescriptionStyleModel",
     "state": {
      "_model_module": "@jupyter-widgets/controls",
      "_model_module_version": "1.5.0",
      "_model_name": "DescriptionStyleModel",
      "_view_count": null,
      "_view_module": "@jupyter-widgets/base",
      "_view_module_version": "1.2.0",
      "_view_name": "StyleView",
      "description_width": ""
     }
    },
    "e7303e3d288144e19676b0939290b622": {
     "model_module": "@jupyter-widgets/controls",
     "model_module_version": "1.5.0",
     "model_name": "HTMLModel",
     "state": {
      "_dom_classes": [],
      "_model_module": "@jupyter-widgets/controls",
      "_model_module_version": "1.5.0",
      "_model_name": "HTMLModel",
      "_view_count": null,
      "_view_module": "@jupyter-widgets/controls",
      "_view_module_version": "1.5.0",
      "_view_name": "HTMLView",
      "description": "",
      "description_tooltip": null,
      "layout": "IPY_MODEL_9cec64037e4f4d9ab70d028965273f01",
      "placeholder": "​",
      "style": "IPY_MODEL_9c6d5beb9097450abb2a11cac2646409",
      "value": " 6/6 [00:02&lt;00:00,  2.99it/s]"
     }
    },
    "e767bbc31a3b4d02ab6e3c9836ca00f9": {
     "model_module": "@jupyter-widgets/controls",
     "model_module_version": "1.5.0",
     "model_name": "HTMLModel",
     "state": {
      "_dom_classes": [],
      "_model_module": "@jupyter-widgets/controls",
      "_model_module_version": "1.5.0",
      "_model_name": "HTMLModel",
      "_view_count": null,
      "_view_module": "@jupyter-widgets/controls",
      "_view_module_version": "1.5.0",
      "_view_name": "HTMLView",
      "description": "",
      "description_tooltip": null,
      "layout": "IPY_MODEL_68bd7f361a1e45dcb522738d3d114405",
      "placeholder": "​",
      "style": "IPY_MODEL_7ec9fb9abd8c4f918d59ebefed080dfb",
      "value": "iteration: 100%"
     }
    },
    "ead0cffcb0124f7290281f482df6e7e9": {
     "model_module": "@jupyter-widgets/controls",
     "model_module_version": "1.5.0",
     "model_name": "FloatProgressModel",
     "state": {
      "_dom_classes": [],
      "_model_module": "@jupyter-widgets/controls",
      "_model_module_version": "1.5.0",
      "_model_name": "FloatProgressModel",
      "_view_count": null,
      "_view_module": "@jupyter-widgets/controls",
      "_view_module_version": "1.5.0",
      "_view_name": "ProgressView",
      "bar_style": "success",
      "description": "",
      "description_tooltip": null,
      "layout": "IPY_MODEL_d7a1fbc993ff4b569dde4a3d84a22ae9",
      "max": 4,
      "min": 0,
      "orientation": "horizontal",
      "style": "IPY_MODEL_dd513b45e27a424a938c2900b01b18a3",
      "value": 4
     }
    },
    "f23ae51d94d64a9b9ef841a1c92d2cf3": {
     "model_module": "@jupyter-widgets/base",
     "model_module_version": "1.2.0",
     "model_name": "LayoutModel",
     "state": {
      "_model_module": "@jupyter-widgets/base",
      "_model_module_version": "1.2.0",
      "_model_name": "LayoutModel",
      "_view_count": null,
      "_view_module": "@jupyter-widgets/base",
      "_view_module_version": "1.2.0",
      "_view_name": "LayoutView",
      "align_content": null,
      "align_items": null,
      "align_self": null,
      "border": null,
      "bottom": null,
      "display": null,
      "flex": null,
      "flex_flow": null,
      "grid_area": null,
      "grid_auto_columns": null,
      "grid_auto_flow": null,
      "grid_auto_rows": null,
      "grid_column": null,
      "grid_gap": null,
      "grid_row": null,
      "grid_template_areas": null,
      "grid_template_columns": null,
      "grid_template_rows": null,
      "height": null,
      "justify_content": null,
      "justify_items": null,
      "left": null,
      "margin": null,
      "max_height": null,
      "max_width": null,
      "min_height": null,
      "min_width": null,
      "object_fit": null,
      "object_position": null,
      "order": null,
      "overflow": null,
      "overflow_x": null,
      "overflow_y": null,
      "padding": null,
      "right": null,
      "top": null,
      "visibility": null,
      "width": null
     }
    },
    "f7630c5fe89440789bcabe86c4b9670d": {
     "model_module": "@jupyter-widgets/controls",
     "model_module_version": "1.5.0",
     "model_name": "HTMLModel",
     "state": {
      "_dom_classes": [],
      "_model_module": "@jupyter-widgets/controls",
      "_model_module_version": "1.5.0",
      "_model_name": "HTMLModel",
      "_view_count": null,
      "_view_module": "@jupyter-widgets/controls",
      "_view_module_version": "1.5.0",
      "_view_name": "HTMLView",
      "description": "",
      "description_tooltip": null,
      "layout": "IPY_MODEL_f23ae51d94d64a9b9ef841a1c92d2cf3",
      "placeholder": "​",
      "style": "IPY_MODEL_b036097fd25a479881a5fa9817139795",
      "value": "iteration: 100%"
     }
    },
    "fa9e216919a54ac3a14f93ac4f6f07d4": {
     "model_module": "@jupyter-widgets/controls",
     "model_module_version": "1.5.0",
     "model_name": "ProgressStyleModel",
     "state": {
      "_model_module": "@jupyter-widgets/controls",
      "_model_module_version": "1.5.0",
      "_model_name": "ProgressStyleModel",
      "_view_count": null,
      "_view_module": "@jupyter-widgets/base",
      "_view_module_version": "1.2.0",
      "_view_name": "StyleView",
      "bar_color": null,
      "description_width": ""
     }
    },
    "fcc23bd2fb1d4f3085bb3b25fa918660": {
     "model_module": "@jupyter-widgets/base",
     "model_module_version": "1.2.0",
     "model_name": "LayoutModel",
     "state": {
      "_model_module": "@jupyter-widgets/base",
      "_model_module_version": "1.2.0",
      "_model_name": "LayoutModel",
      "_view_count": null,
      "_view_module": "@jupyter-widgets/base",
      "_view_module_version": "1.2.0",
      "_view_name": "LayoutView",
      "align_content": null,
      "align_items": null,
      "align_self": null,
      "border": null,
      "bottom": null,
      "display": null,
      "flex": null,
      "flex_flow": null,
      "grid_area": null,
      "grid_auto_columns": null,
      "grid_auto_flow": null,
      "grid_auto_rows": null,
      "grid_column": null,
      "grid_gap": null,
      "grid_row": null,
      "grid_template_areas": null,
      "grid_template_columns": null,
      "grid_template_rows": null,
      "height": null,
      "justify_content": null,
      "justify_items": null,
      "left": null,
      "margin": null,
      "max_height": null,
      "max_width": null,
      "min_height": null,
      "min_width": null,
      "object_fit": null,
      "object_position": null,
      "order": null,
      "overflow": null,
      "overflow_x": null,
      "overflow_y": null,
      "padding": null,
      "right": null,
      "top": null,
      "visibility": null,
      "width": null
     }
    },
    "fe728de98faf44b1898a14e4e0a90405": {
     "model_module": "@jupyter-widgets/base",
     "model_module_version": "1.2.0",
     "model_name": "LayoutModel",
     "state": {
      "_model_module": "@jupyter-widgets/base",
      "_model_module_version": "1.2.0",
      "_model_name": "LayoutModel",
      "_view_count": null,
      "_view_module": "@jupyter-widgets/base",
      "_view_module_version": "1.2.0",
      "_view_name": "LayoutView",
      "align_content": null,
      "align_items": null,
      "align_self": null,
      "border": null,
      "bottom": null,
      "display": null,
      "flex": null,
      "flex_flow": null,
      "grid_area": null,
      "grid_auto_columns": null,
      "grid_auto_flow": null,
      "grid_auto_rows": null,
      "grid_column": null,
      "grid_gap": null,
      "grid_row": null,
      "grid_template_areas": null,
      "grid_template_columns": null,
      "grid_template_rows": null,
      "height": null,
      "justify_content": null,
      "justify_items": null,
      "left": null,
      "margin": null,
      "max_height": null,
      "max_width": null,
      "min_height": null,
      "min_width": null,
      "object_fit": null,
      "object_position": null,
      "order": null,
      "overflow": null,
      "overflow_x": null,
      "overflow_y": null,
      "padding": null,
      "right": null,
      "top": null,
      "visibility": null,
      "width": null
     }
    },
    "ffc75be92356452cbcfdb3d7b6cd1975": {
     "model_module": "@jupyter-widgets/base",
     "model_module_version": "1.2.0",
     "model_name": "LayoutModel",
     "state": {
      "_model_module": "@jupyter-widgets/base",
      "_model_module_version": "1.2.0",
      "_model_name": "LayoutModel",
      "_view_count": null,
      "_view_module": "@jupyter-widgets/base",
      "_view_module_version": "1.2.0",
      "_view_name": "LayoutView",
      "align_content": null,
      "align_items": null,
      "align_self": null,
      "border": null,
      "bottom": null,
      "display": null,
      "flex": null,
      "flex_flow": null,
      "grid_area": null,
      "grid_auto_columns": null,
      "grid_auto_flow": null,
      "grid_auto_rows": null,
      "grid_column": null,
      "grid_gap": null,
      "grid_row": null,
      "grid_template_areas": null,
      "grid_template_columns": null,
      "grid_template_rows": null,
      "height": null,
      "justify_content": null,
      "justify_items": null,
      "left": null,
      "margin": null,
      "max_height": null,
      "max_width": null,
      "min_height": null,
      "min_width": null,
      "object_fit": null,
      "object_position": null,
      "order": null,
      "overflow": null,
      "overflow_x": null,
      "overflow_y": null,
      "padding": null,
      "right": null,
      "top": null,
      "visibility": null,
      "width": null
     }
    }
   }
  }
 },
 "nbformat": 4,
 "nbformat_minor": 5
}
