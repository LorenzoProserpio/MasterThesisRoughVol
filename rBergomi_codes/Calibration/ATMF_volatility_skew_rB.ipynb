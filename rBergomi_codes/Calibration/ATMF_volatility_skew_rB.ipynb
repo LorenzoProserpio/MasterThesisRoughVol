{
 "cells": [
  {
   "cell_type": "code",
   "execution_count": 1,
   "id": "656afc95",
   "metadata": {},
   "outputs": [],
   "source": [
    "import numpy as np\n",
    "import matplotlib.pyplot as plt\n",
    "import pandas as pd\n",
    "import BlackScholes as bs\n",
    "import time\n",
    "import variance_curve as vc\n",
    "import ImpliedDrift as iD\n",
    "\n",
    "from scipy.optimize import least_squares as ls\n",
    "from rbergomi import rBergomi\n",
    "from scipy.optimize import minimize"
   ]
  },
  {
   "cell_type": "code",
   "execution_count": 2,
   "id": "1b206930",
   "metadata": {},
   "outputs": [],
   "source": [
    "spot = np.array(pd.read_csv(\"spot.csv\").Spot)\n",
    "S0 = spot[0]\n",
    "\n",
    "IV_df = pd.read_csv(\"hist_spx.csv\")\n",
    "moneyness = np.array([80.0,90.0,95.0,97.5,100.0,102.5,105.0,110.0,120.0])\n",
    "maturities = np.array(IV_df['Exp Date']).flatten()\n",
    "IV = np.array(IV_df.drop(columns = 'Exp Date'))/100.\n",
    "\n",
    "K = moneyness*S0/100\n",
    "log_moneyness = np.log(moneyness/100)\n",
    "\n",
    "rB_iv = np.array(pd.read_csv(\"rB_iv_local.csv\"))\n",
    "rB_param = np.array(pd.read_csv(\"rB_parameters_local.csv\"))\n",
    "\n",
    "nr = len(maturities)"
   ]
  },
  {
   "cell_type": "code",
   "execution_count": 3,
   "id": "6414448a",
   "metadata": {},
   "outputs": [],
   "source": [
    "def price(S, K, N, r, q, T):\n",
    "    N = len(K)\n",
    "    p = np.zeros(N)\n",
    "    for i in range(N):\n",
    "        p[i] = np.mean(np.maximum(S-K[i],0)*np.exp(-(r-q)*T))\n",
    "    return p"
   ]
  },
  {
   "cell_type": "code",
   "execution_count": 4,
   "id": "6f1bcdba",
   "metadata": {},
   "outputs": [
    {
     "name": "stdout",
     "output_type": "stream",
     "text": [
      "Iteration: 0\t Elapsed time:  0 s\n",
      "Iteration: 1\t Elapsed time:  1 s\n",
      "Iteration: 2\t Elapsed time:  1 s\n",
      "Iteration: 3\t Elapsed time:  2 s\n",
      "Iteration: 4\t Elapsed time:  2 s\n",
      "Iteration: 5\t Elapsed time:  2 s\n",
      "Iteration: 6\t Elapsed time:  3 s\n",
      "Iteration: 7\t Elapsed time:  3 s\n",
      "Iteration: 8\t Elapsed time:  6 s\n",
      "Iteration: 9\t Elapsed time:  6 s\n",
      "Iteration: 10\t Elapsed time:  6 s\n",
      "Iteration: 11\t Elapsed time:  4 s\n",
      "Iteration: 12\t Elapsed time:  5 s\n",
      "Iteration: 13\t Elapsed time:  5 s\n",
      "Iteration: 14\t Elapsed time:  5 s\n",
      "Iteration: 15\t Elapsed time:  6 s\n",
      "Iteration: 16\t Elapsed time:  7 s\n",
      "Iteration: 17\t Elapsed time:  8 s\n",
      "Iteration: 18\t Elapsed time:  8 s\n",
      "Iteration: 19\t Elapsed time:  3 s\n",
      "Iteration: 20\t Elapsed time:  3 s\n",
      "Iteration: 21\t Elapsed time:  4 s\n",
      "Iteration: 22\t Elapsed time:  5 s\n",
      "Iteration: 23\t Elapsed time:  10 s\n",
      "Iteration: 24\t Elapsed time:  17 s\n",
      "Iteration: 25\t Elapsed time:  26 s\n",
      "Iteration: 26\t Elapsed time:  25 s\n",
      "Iteration: 27\t Elapsed time:  44 s\n",
      "Iteration: 28\t Elapsed time:  67 s\n",
      "Iteration: 29\t Elapsed time:  95 s\n",
      "Iteration: 30\t Elapsed time:  132 s\n",
      "Iteration: 31\t Elapsed time:  194 s\n",
      "\n",
      "Total execution time:  12 minutes\n"
     ]
    }
   ],
   "source": [
    "start_time_all = time.time()\n",
    "rB_skew = np.zeros(nr)\n",
    "N = 25000; n = 1500;\n",
    "t = np.zeros(nr)\n",
    "h = 1e-3; K_skew = np.array([S0*(1+h), S0*(1-h)]);\n",
    "\n",
    "for i in range(nr):\n",
    "    \n",
    "    start_time = time.time()\n",
    "    \n",
    "    #vol = IV[i]; \n",
    "    T = maturities[i];\n",
    "    \n",
    "    if T > 0.5:\n",
    "        n = 1000\n",
    "    if T > 1:\n",
    "        n = 365\n",
    "    \n",
    "    r = iD.r(T); q = iD.q(T);\n",
    "    \n",
    "    def rb(x):\n",
    "    \n",
    "        np.random.seed(0)\n",
    "\n",
    "        H, eta, rho = x\n",
    "        alpha = H - 0.5\n",
    "\n",
    "        rB = rBergomi(n, N, T, alpha)\n",
    "        \n",
    "        xi = vc.variance_curve(rB.t[0])\n",
    "        \n",
    "        dW1 = rB.dW1(); dW2 = rB.dW2();\n",
    "        Ya = rB.Y(dW1)\n",
    "        dZ = rB.dZ(dW1, dW2, rho)\n",
    "        V = rB.V(Ya, xi, eta)\n",
    "        S = rB.S(V, dZ, r, q, S0)\n",
    "\n",
    "        P = price(S, K_skew, N, r, q, T)\n",
    "        \n",
    "        rB_v = bs.BSImpliedVol(S0, K_skew, T, r, q, P, Option_type = 1, toll = 1e-10)\n",
    "\n",
    "        return rB_v\n",
    "    \n",
    "    rB_skew[i] = np.abs(np.diff(rb(rB_param[i,:])))/(2*h)\n",
    "    \n",
    "    t[i] = time.time() - start_time\n",
    "\n",
    "    print(f'Iteration: {i}\\t Elapsed time: {t[i]: .0f} s')\n",
    "\n",
    "total_time = (time.time() - start_time_all)/60\n",
    "\n",
    "print(f'\\nTotal execution time: {total_time: .0f} minutes')"
   ]
  },
  {
   "cell_type": "code",
   "execution_count": 6,
   "id": "a9233ff6",
   "metadata": {},
   "outputs": [
    {
     "data": {
      "text/plain": [
       "[<matplotlib.lines.Line2D at 0x17532e5e490>]"
      ]
     },
     "execution_count": 6,
     "metadata": {},
     "output_type": "execute_result"
    },
    {
     "data": {
      "image/png": "[encoded data removed]",
      "text/plain": [
       "<Figure size 1000x500 with 1 Axes>"
      ]
     },
     "metadata": {},
     "output_type": "display_data"
    }
   ],
   "source": [
    "fig = plt.figure()\n",
    "fig.set_figheight(5)\n",
    "fig.set_figwidth(10)\n",
    "\n",
    "plt.plot(maturities, rB_skew)"
   ]
  },
  {
   "cell_type": "code",
   "execution_count": 5,
   "id": "2155cb37",
   "metadata": {},
   "outputs": [],
   "source": [
    "df = pd.DataFrame(rB_skew)\n",
    "df.to_csv(\"rB_skew.csv\", index = False)"
   ]
  }
 ],
 "metadata": {
  "kernelspec": {
   "display_name": "Python 3 (ipykernel)",
   "language": "python",
   "name": "python3"
  },
  "language_info": {
   "codemirror_mode": {
    "name": "ipython",
    "version": 3
   },
   "file_extension": ".py",
   "mimetype": "text/x-python",
   "name": "python",
   "nbconvert_exporter": "python",
   "pygments_lexer": "ipython3",
   "version": "3.9.7"
  }
 },
 "nbformat": 4,
 "nbformat_minor": 5
}
