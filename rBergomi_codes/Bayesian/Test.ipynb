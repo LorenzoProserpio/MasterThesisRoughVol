{
 "cells": [
  {
   "cell_type": "code",
   "execution_count": 1,
   "id": "43a1283a",
   "metadata": {},
   "outputs": [],
   "source": [
    "import BlackScholes as bs\n",
    "import pandas as pd\n",
    "import numpy as np\n",
    "import matplotlib.pyplot as plt\n",
    "import ImpliedDrift as iD\n",
    "import time\n",
    "import variance_curve as vc\n",
    "\n",
    "from rbergomi import rBergomi\n",
    "from matplotlib import cm"
   ]
  },
  {
   "cell_type": "code",
   "execution_count": 2,
   "id": "092bf7bf",
   "metadata": {},
   "outputs": [],
   "source": [
    "param = np.array(pd.read_csv(\"rB_data.csv\"))\n",
    "err = np.array(pd.read_csv(\"grid_error2.csv\")).flatten()"
   ]
  },
  {
   "cell_type": "code",
   "execution_count": 3,
   "id": "9900b44b",
   "metadata": {},
   "outputs": [],
   "source": [
    "n_bins = 100; N = len(err);\n",
    "hist, bined = np.histogramdd(param, bins = n_bins)\n",
    "hist /= N"
   ]
  },
  {
   "cell_type": "code",
   "execution_count": 4,
   "id": "32553348",
   "metadata": {},
   "outputs": [],
   "source": [
    "index = np.zeros([N,3], dtype = int)\n",
    "w = np.zeros(N)\n",
    "for j in range(N):\n",
    "    for i in range(n_bins):\n",
    "        if param[j,0] >= bined[0][i] and param[j,0] <= bined[0][i+1]:\n",
    "            index[j,0] = i\n",
    "        if param[j,1] >= bined[1][i] and param[j,1] <= bined[1][i+1]:\n",
    "            index[j,1] = i\n",
    "        if param[j,2] >= bined[2][i] and param[j,2] <= bined[2][i+1]:\n",
    "            index[j,2] = i\n",
    "    w[j] = hist[index[j,0]][index[j,1]][index[j,2]]"
   ]
  },
  {
   "cell_type": "code",
   "execution_count": 7,
   "id": "6b49a443",
   "metadata": {},
   "outputs": [
    {
     "data": {
      "text/plain": [
       "5.687475868708159"
      ]
     },
     "execution_count": 7,
     "metadata": {},
     "output_type": "execute_result"
    }
   ],
   "source": [
    "w_err = np.matmul(err, w)\n",
    "w_err"
   ]
  },
  {
   "cell_type": "code",
   "execution_count": 6,
   "id": "b582c8d7",
   "metadata": {},
   "outputs": [
    {
     "data": {
      "text/plain": [
       "4.912908187181954"
      ]
     },
     "execution_count": 6,
     "metadata": {},
     "output_type": "execute_result"
    }
   ],
   "source": [
    "err.mean()"
   ]
  },
  {
   "cell_type": "code",
   "execution_count": 9,
   "id": "33bfbb71",
   "metadata": {},
   "outputs": [
    {
     "data": {
      "text/plain": [
       "7.094017568242687"
      ]
     },
     "execution_count": 9,
     "metadata": {},
     "output_type": "execute_result"
    }
   ],
   "source": [
    "np.matmul((err-w_err)**2, w)"
   ]
  }
 ],
 "metadata": {
  "kernelspec": {
   "display_name": "Python 3 (ipykernel)",
   "language": "python",
   "name": "python3"
  },
  "language_info": {
   "codemirror_mode": {
    "name": "ipython",
    "version": 3
   },
   "file_extension": ".py",
   "mimetype": "text/x-python",
   "name": "python",
   "nbconvert_exporter": "python",
   "pygments_lexer": "ipython3",
   "version": "3.9.7"
  }
 },
 "nbformat": 4,
 "nbformat_minor": 5
}
