{
 "cells": [
  {
   "cell_type": "code",
   "execution_count": 1,
   "id": "d2fb9c42",
   "metadata": {},
   "outputs": [],
   "source": [
    "import numpy as np\n",
    "import matplotlib.pyplot as plt\n",
    "import pandas as pd\n",
    "import BlackScholes as bs\n",
    "import time\n",
    "import variance_curve as vc\n",
    "import ImpliedDrift as iD\n",
    "\n",
    "from scipy.optimize import least_squares as ls\n",
    "from rbergomi import rBergomi"
   ]
  },
  {
   "cell_type": "code",
   "execution_count": 2,
   "id": "a984e2bb",
   "metadata": {},
   "outputs": [],
   "source": [
    "def price(S, K, r, q, T):\n",
    "    n = len(K)\n",
    "    p = np.zeros(n)\n",
    "    for i in range(n):\n",
    "        p[i] = np.mean(np.maximum(S-K[i],0)*np.exp(-(r-q)*T))\n",
    "    return p"
   ]
  },
  {
   "cell_type": "code",
   "execution_count": 3,
   "id": "80ad428f",
   "metadata": {},
   "outputs": [],
   "source": [
    "dates = np.array([\"23_01_23.csv\", \"24_01_23.csv\", \"25_01_23.csv\", \"26_01_23.csv\", \"27_01_23.csv\",\n",
    "                  \"30_01_23.csv\", \"06_02_23.csv\", \"13_02_23.csv\", \"21_02_23.csv\"])\n",
    "\n",
    "spot = np.array(pd.read_csv(\"spot.csv\").Spot).flatten()\n",
    "moneyness = np.array([80.0,90.0,95.0,97.5,100.0,102.5,105.0,110.0,120.0])\n",
    "\n",
    "index = 0\n",
    "data = pd.read_csv(dates[index]); S0 = spot[index];\n",
    "K = S0 * moneyness / 100\n",
    "\n",
    "if index:\n",
    "    maturities = np.array(data.Tenor).flatten()\n",
    "    IV = np.array(data.drop(columns = ['Date', 'Tenor']))/100.\n",
    "\n",
    "else:\n",
    "    maturities = np.array(data['Exp Date']).flatten()\n",
    "    IV = np.array(data.drop(columns = 'Exp Date'))/100.\n",
    "    \n",
    "\n",
    "maturities = maturities[maturities*365 <= 180]\n",
    "nr = len(maturities); nc = len(K);\n",
    "IV = IV[:nr]"
   ]
  },
  {
   "cell_type": "code",
   "execution_count": 4,
   "id": "27426d1a",
   "metadata": {
    "scrolled": false
   },
   "outputs": [
    {
     "name": "stdout",
     "output_type": "stream",
     "text": [
      "Function execution time:  3 s\n",
      "Function execution time:  3 s\n",
      "Function execution time:  3 s\n",
      "Function execution time:  3 s\n",
      "Function execution time:  3 s\n",
      "Function execution time:  3 s\n",
      "Function execution time:  3 s\n",
      "Function execution time:  3 s\n",
      "Function execution time:  3 s\n",
      "Function execution time:  3 s\n",
      "Function execution time:  3 s\n",
      "Function execution time:  3 s\n",
      "Function execution time:  3 s\n",
      "Function execution time:  3 s\n",
      "Function execution time:  3 s\n",
      "Function execution time:  3 s\n",
      "Function execution time:  3 s\n",
      "Function execution time:  3 s\n",
      "Function execution time:  3 s\n",
      "Function execution time:  3 s\n",
      "Function execution time:  3 s\n",
      "Function execution time:  3 s\n",
      "Function execution time:  3 s\n",
      "Function execution time:  3 s\n",
      "Function execution time:  3 s\n",
      "Function execution time:  3 s\n",
      "Function execution time:  3 s\n",
      "Function execution time:  3 s\n",
      "Function execution time:  3 s\n",
      "Function execution time:  3 s\n",
      "Function execution time:  3 s\n",
      "Function execution time:  3 s\n",
      "Function execution time:  3 s\n",
      "Function execution time:  3 s\n",
      "Function execution time:  3 s\n",
      "Function execution time:  3 s\n",
      "Function execution time:  3 s\n",
      "Function execution time:  3 s\n",
      "Function execution time:  3 s\n",
      "Function execution time:  3 s\n",
      "Function execution time:  3 s\n",
      "Function execution time:  3 s\n",
      "Function execution time:  3 s\n",
      "Function execution time:  3 s\n",
      "Function execution time:  3 s\n",
      "Function execution time:  3 s\n",
      "Function execution time:  3 s\n",
      "Function execution time:  3 s\n",
      "Function execution time:  3 s\n",
      "Function execution time:  3 s\n",
      "Function execution time:  3 s\n",
      "Function execution time:  3 s\n",
      "Function execution time:  3 s\n",
      "Function execution time:  3 s\n",
      "Function execution time:  3 s\n",
      "Function execution time:  3 s\n",
      "Function execution time:  3 s\n",
      "Function execution time:  3 s\n",
      "Function execution time:  3 s\n",
      "\n",
      "Total execution time:  3 minutes\n",
      "Relative mean error: 2.0700%\n",
      "\n"
     ]
    }
   ],
   "source": [
    "nr = len(maturities); nc = len(moneyness);\n",
    "N = 20000; n = 1000;\n",
    "inp = np.array([0.1, 1.9, -0.9]) # Parameter array [H,eta,rho]\n",
    "#inp = np.array([0.05659575,  2.13981363, -0.88309092])\n",
    "bnds = ([.0001, 1, -0.999],[.5, 7, -.1])\n",
    "\n",
    "rB_param = np.zeros(3)\n",
    "\n",
    "start_time = time.time()\n",
    "\n",
    "steps = np.ceil(n*maturities).astype(int)\n",
    "T = maturities[-1]\n",
    "np.random.seed(index)\n",
    "r = iD.r(maturities); q = iD.q(maturities);\n",
    "\n",
    "def h(x):\n",
    "\n",
    "    t = time.time()\n",
    "    \n",
    "    np.random.seed(index)\n",
    "\n",
    "    iv = np.zeros([nr,nc])\n",
    "    H, eta, rho = x\n",
    "    alpha = H - 0.5\n",
    "\n",
    "    rB = rBergomi(n, N, T, alpha)\n",
    "    xi = vc.variance_curve(rB.t[0], index)\n",
    "    dW1 = rB.dW1(); dW2 = rB.dW2();    \n",
    "    Ya = rB.Y(dW1)\n",
    "    dZ = rB.dZ(dW1, dW2, rho)\n",
    "    V = rB.V(Ya, xi, eta)\n",
    "\n",
    "    S = rB.global_S(V, dZ, S0, steps, index)\n",
    "\n",
    "    for i in range(nr):\n",
    "        P = price(S[i,:], K, r[i], q[i], maturities[i])\n",
    "        iv[i,:] = bs.BSImpliedVol(S0, K, maturities[i], r[i], q[i], P, Option_type = 1, toll = 1e-5)\n",
    "\n",
    "    print(f'Function execution time: {time.time()-t: .0f} s')\n",
    "\n",
    "    return iv\n",
    "\n",
    "def f(x):\n",
    "    return h(x).flatten() - IV.flatten()\n",
    "\n",
    "result = ls(f, inp, bounds = bnds, max_nfev = 100, ftol = 1e-15, gtol = 1e-15, xtol = 1e-15)\n",
    "rB_param = result.x\n",
    "rB_vol = h(result.x)\n",
    "\n",
    "total_time = (time.time() - start_time)/60\n",
    "\n",
    "print(f'\\nTotal execution time: {total_time: .0f} minutes')\n",
    "\n",
    "rB_err = np.mean(abs(IV-rB_vol)/IV)*100\n",
    "\n",
    "print(f\"Relative mean error: {rB_err:.4f}%\\n\")"
   ]
  },
  {
   "cell_type": "code",
   "execution_count": 5,
   "id": "f935b9ed",
   "metadata": {},
   "outputs": [
    {
     "data": {
      "text/plain": [
       "array([ 0.05659575,  2.13981363, -0.88309092])"
      ]
     },
     "execution_count": 5,
     "metadata": {},
     "output_type": "execute_result"
    }
   ],
   "source": [
    "rB_param"
   ]
  },
  {
   "cell_type": "code",
   "execution_count": 6,
   "id": "35a54649",
   "metadata": {},
   "outputs": [],
   "source": [
    "df = pd.DataFrame(rB_param.reshape(1,3), columns = [\"H\", \"eta\", \"rho\"])\n",
    "df.to_csv(\"parameters_for_bayes.csv\", index = False)"
   ]
  },
  {
   "cell_type": "code",
   "execution_count": 7,
   "id": "5d1ed0ca",
   "metadata": {},
   "outputs": [
    {
     "data": {
      "text/html": [
       "<div>\n",
       "<style scoped>\n",
       "    .dataframe tbody tr th:only-of-type {\n",
       "        vertical-align: middle;\n",
       "    }\n",
       "\n",
       "    .dataframe tbody tr th {\n",
       "        vertical-align: top;\n",
       "    }\n",
       "\n",
       "    .dataframe thead th {\n",
       "        text-align: right;\n",
       "    }\n",
       "</style>\n",
       "<table border=\"1\" class=\"dataframe\">\n",
       "  <thead>\n",
       "    <tr style=\"text-align: right;\">\n",
       "      <th></th>\n",
       "      <th>H</th>\n",
       "      <th>eta</th>\n",
       "      <th>rho</th>\n",
       "    </tr>\n",
       "  </thead>\n",
       "  <tbody>\n",
       "    <tr>\n",
       "      <th>0</th>\n",
       "      <td>0.056596</td>\n",
       "      <td>2.139814</td>\n",
       "      <td>-0.883091</td>\n",
       "    </tr>\n",
       "  </tbody>\n",
       "</table>\n",
       "</div>"
      ],
      "text/plain": [
       "          H       eta       rho\n",
       "0  0.056596  2.139814 -0.883091"
      ]
     },
     "execution_count": 7,
     "metadata": {},
     "output_type": "execute_result"
    }
   ],
   "source": [
    "df"
   ]
  }
 ],
 "metadata": {
  "kernelspec": {
   "display_name": "Python 3 (ipykernel)",
   "language": "python",
   "name": "python3"
  },
  "language_info": {
   "codemirror_mode": {
    "name": "ipython",
    "version": 3
   },
   "file_extension": ".py",
   "mimetype": "text/x-python",
   "name": "python",
   "nbconvert_exporter": "python",
   "pygments_lexer": "ipython3",
   "version": "3.9.7"
  }
 },
 "nbformat": 4,
 "nbformat_minor": 5
}
